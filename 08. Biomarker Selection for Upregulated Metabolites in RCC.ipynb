{
 "cells": [
  {
   "cell_type": "markdown",
   "metadata": {},
   "source": [
    "# Biomarker Selection for Upregulated Metabolites in RCC\n",
    "\n",
    "Author: Olatomiwa Bifarin<br>\n",
    "Department of Biochemistry and Molecular Biology<br>\n",
    "University of Georgia<br>\n",
    "Edison Lab<br>\n",
    "\n",
    "Last edited: 29MAY2020 \n",
    "\n",
    "_This is a static version of a Jupyter notebook, and work (documentation) is still in progress_ \n",
    "\n",
    "**Goals**: \n",
    "1. To merge NMR and MS Dataset. \n",
    "\n",
    "<a id=\"0\"></a>\n",
    "\n",
    "## Notebook Content\n",
    "\n",
    "1.  [RCC Prediction in Model Cohort](#1)\n",
    "2.  [RCC Prediction: Test Cohort](#2)\n",
    "3.  [Chemical Information of Biomarkers](#3)\n"
   ]
  },
  {
   "cell_type": "markdown",
   "metadata": {},
   "source": [
    "## Dataframes\n",
    "-  The original form of the MS data from the Facundo Lab at Georgia tech is uploaded as the `dfMS` dataframe.\n",
    "-  `MS-Labels` is the dataframe for Mass Spectrometry detected metabolites IDs, mode, retention time and formula\n",
    "-  `MS` is the dataframe for the MS Peak Intensities\n",
    "-  `MSData` is the dataframe for `all` the MS Peak Intensities with patient ID and Groups\n",
    "-  `dfNMR` contains representative peaks for features/metabolites from NMR\n",
    "-  `combined` is the NMR merged with the MS dataset. \n",
    "-  `combined_clinic` is the dataframe that contains all combined NMR and MS samples collected in the clinic. \n",
    "-  `PMdata`\n",
    "-  `PMdata2`\n",
    "-  `modelcohort`\n",
    "-  `testcohort`\n",
    "-  `qfeatures`\n",
    "-  `MLfeatures??`\n",
    "-  `MLfeatures2??`\n",
    "-  `biomarker`\n",
    "-  `biomarker2`\n",
    "-  `MS_labels_bmarkers`\n",
    "-  `MS_labels_qmarkers`"
   ]
  },
  {
   "cell_type": "code",
   "execution_count": 1,
   "metadata": {},
   "outputs": [],
   "source": [
    "import pandas as pd\n",
    "import numpy as np\n",
    "from matplotlib import pyplot as plt\n",
    "from matplotlib import style\n",
    "import scipy\n",
    "#For Seaborn plots\n",
    "import seaborn as sns; sns.set(style='white')\n",
    "#To ignore warning\n",
    "import warnings\n",
    "warnings.filterwarnings('ignore')\n",
    "\n",
    "# More sharp and legible graphics\n",
    "%config InlineBackend.figure_format = 'retina'\n",
    "\n",
    "# Set seaborn figure labels to 'talk', to be more visible. \n",
    "sns.set_context('talk', font_scale=0.8)"
   ]
  },
  {
   "cell_type": "markdown",
   "metadata": {},
   "source": [
    "# 1. RCC Prediction in Model Cohort\n",
    "<a id=\"1\"></a>"
   ]
  },
  {
   "cell_type": "code",
   "execution_count": 2,
   "metadata": {},
   "outputs": [
    {
     "data": {
      "text/html": [
       "        <script type=\"text/javascript\">\n",
       "        window.PlotlyConfig = {MathJaxConfig: 'local'};\n",
       "        if (window.MathJax) {MathJax.Hub.Config({SVG: {font: \"STIX-Web\"}});}\n",
       "        if (typeof require !== 'undefined') {\n",
       "        require.undef(\"plotly\");\n",
       "        requirejs.config({\n",
       "            paths: {\n",
       "                'plotly': ['https://cdn.plot.ly/plotly-latest.min']\n",
       "            }\n",
       "        });\n",
       "        require(['plotly'], function(Plotly) {\n",
       "            window._Plotly = Plotly;\n",
       "        });\n",
       "        }\n",
       "        </script>\n",
       "        "
      ]
     },
     "metadata": {},
     "output_type": "display_data"
    }
   ],
   "source": [
    "# Set seaborn figure labels to 'talk', to be more visible. \n",
    "sns.set_context('talk', font_scale=0.8)\n",
    "import statsmodels as sms\n",
    "from statsmodels.stats import multitest\n",
    "from statistics import mean\n",
    "\n",
    "# Machine Learning Libraries\n",
    "from sklearn.metrics import roc_curve, auc\n",
    "from sklearn.metrics import roc_auc_score\n",
    "\n",
    "from sklearn.neighbors import KNeighborsClassifier\n",
    "from sklearn import svm\n",
    "\n",
    "# Import Random Forest classifier, sklearn metrics\n",
    "from sklearn.ensemble import RandomForestClassifier\n",
    "from sklearn import metrics\n",
    "\n",
    "# test train split and K-fold validation\n",
    "from sklearn import model_selection\n",
    "from sklearn.model_selection import train_test_split\n",
    "from sklearn.model_selection import KFold\n",
    "\n",
    "from sklearn import decomposition\n",
    "\n",
    "from sklearn.ensemble import RandomForestClassifier\n",
    "from sklearn.feature_selection import RFECV\n",
    "\n"
   ]
  },
  {
   "cell_type": "code",
   "execution_count": 3,
   "metadata": {},
   "outputs": [
    {
     "name": "stdout",
     "output_type": "stream",
     "text": [
      "0.10.1\n"
     ]
    }
   ],
   "source": [
    "print(sms.__version__)"
   ]
  },
  {
   "cell_type": "markdown",
   "metadata": {},
   "source": [
    "#### Export Model Cohort Data"
   ]
  },
  {
   "cell_type": "code",
   "execution_count": 4,
   "metadata": {},
   "outputs": [],
   "source": [
    "modelcohort = pd.read_excel('data/modelcohort.xlsx')"
   ]
  },
  {
   "cell_type": "markdown",
   "metadata": {},
   "source": [
    "### a. Feature Selection "
   ]
  },
  {
   "cell_type": "markdown",
   "metadata": {},
   "source": [
    "### (i)  Select features with greater than 2-fold changes"
   ]
  },
  {
   "cell_type": "markdown",
   "metadata": {},
   "source": [
    "Non-metabolic features in the `modelcohort` dataframe include the following: \n",
    "-  Sample ID\n",
    "-  Patient ID\n",
    "-  Collection\n",
    "-  Gender\n",
    "-  Race\n",
    "-  BMI\n",
    "-  Smoker\n",
    "-  Age\n",
    "-  Groups"
   ]
  },
  {
   "cell_type": "code",
   "execution_count": 5,
   "metadata": {},
   "outputs": [
    {
     "data": {
      "text/plain": [
       "(7145, 3)"
      ]
     },
     "execution_count": 5,
     "metadata": {},
     "output_type": "execute_result"
    }
   ],
   "source": [
    "NMRMS = modelcohort.drop(['Sample ID', 'Patient ID', 'Collection', 'Gender',\n",
    "                         'Race', 'BMI', 'Smoker', 'Age'], axis=1)\n",
    "Control = NMRMS[(NMRMS['Groups'] == 'Control')]\n",
    "RCC = NMRMS[(NMRMS['Groups'] == 'RCC')]\n",
    "\n",
    "dfmean = pd.DataFrame({'Features':NMRMS.drop(['Groups'], axis=1).mean(axis=0).index, \n",
    "                       'Control':Control.drop(['Groups'], axis=1).mean(axis=0).values,\n",
    "                       'RCC':RCC.drop(['Groups'], axis=1).mean(axis=0).values})\n",
    "dfmean.shape"
   ]
  },
  {
   "cell_type": "code",
   "execution_count": 6,
   "metadata": {},
   "outputs": [
    {
     "data": {
      "text/plain": [
       "2104"
      ]
     },
     "execution_count": 6,
     "metadata": {},
     "output_type": "execute_result"
    }
   ],
   "source": [
    "cols = []\n",
    "ctr_val = dfmean['Control']\n",
    "rcc_val = dfmean['RCC']\n",
    "\n",
    "for ctr, rcc in zip(ctr_val, rcc_val):\n",
    "    ratio1 = ctr/rcc\n",
    "    ratio2 = rcc/ctr\n",
    "    if ratio1 > 2:\n",
    "        feature = dfmean[dfmean['Control']==ctr]['Features'].values.tolist()\n",
    "        cols.append(feature)\n",
    "    elif ratio2 > 2:\n",
    "        feature = dfmean[dfmean['Control']==ctr]['Features'].values.tolist()\n",
    "        cols.append(feature)\n",
    "xfold_feat = [val for sublist in cols for val in sublist] # flatten out list of list.\n",
    "len(xfold_feat)"
   ]
  },
  {
   "cell_type": "markdown",
   "metadata": {},
   "source": [
    "### (ii) _t_-Test Feature Selection "
   ]
  },
  {
   "cell_type": "markdown",
   "metadata": {},
   "source": [
    "_T-Test Function_"
   ]
  },
  {
   "cell_type": "code",
   "execution_count": 7,
   "metadata": {},
   "outputs": [],
   "source": [
    "def Ttest(metabolites, dfControl, dfTreat, alpha=0.05, var=True):\n",
    "    '''\n",
    "    Function conducts a T-test for the metabolites differences between two groups with \n",
    "    Benjamini-Hocberg FDR correction\n",
    "    \n",
    "    Inputs: \n",
    "    metabolites = A list containing names of metabolites\n",
    "    dfControl = A pandas dataframe containing the control group metabolites data\n",
    "    dfTreat =  A pandas dataframe containing the treatment group metabolites data\n",
    "    alpha = alpha for statistical significant judgment, default 0.05\n",
    "    var = If True (default), perform a standard independent 2 sample test that assumes \n",
    "    equal population variances [1]. If False, perform Welch’s t-test, which does not \n",
    "    assume equal population variance\n",
    "    \n",
    "    Outputs: A pandas dataframe with p-values of numerical cohort characteristics. \n",
    "    \n",
    "    '''\n",
    "    ttest_dict = {}\n",
    "    for metabolite in metabolites:\n",
    "        statistic, pvalue =  scipy.stats.ttest_ind(dfControl[metabolite], \n",
    "                                               dfTreat[metabolite], \n",
    "                                               equal_var=var)\n",
    "        ttest_dict[metabolite] = pvalue \n",
    "        # a dictionary containing name of metabolites and p value after t-test\n",
    "    ttest = pd.DataFrame.from_dict(ttest_dict, orient='index') # the dictionary in pandas df\n",
    "    ttest_list=list(ttest_dict.values()) #values (pvalues) of ttest result in a list\n",
    "    reject, pval_corrected, _, _ = sms.stats.multitest.multipletests(ttest_list, \n",
    "                                                                 alpha=alpha, \n",
    "                                                                 method='fdr_bh')\n",
    "    ttest_results = pd.DataFrame({'Metabolite': metabolites, 'T-test p-value': ttest_list, \n",
    "                              'FDR p-value': pval_corrected, 'Reject H0': reject})\n",
    "    Table = ttest_results.sort_values(by=['FDR p-value'])\n",
    "    return Table"
   ]
  },
  {
   "cell_type": "code",
   "execution_count": 8,
   "metadata": {},
   "outputs": [
    {
     "name": "stdout",
     "output_type": "stream",
     "text": [
      "The total number of significant metabolites/Features is:  435\n"
     ]
    }
   ],
   "source": [
    "# '''List of final metabolites set'''\n",
    "metabolite_list = xfold_feat\n",
    "\n",
    "# '''List of final metabolites set'''\n",
    "ttest_result = Ttest(metabolite_list, Control, RCC, alpha=0.05, var=True)\n",
    "\n",
    "# '''List of Statistically relevant metabolites'''\n",
    "# Select metabolites with <0.05 FDR\n",
    "stat_sig = ttest_result.loc[ttest_result['Reject H0'] == True]\n",
    "\n",
    "# Select metabolites with <0.05 t-test\n",
    "#stat_sig = ttest_result.loc[ttest_result['T-test p-value'] <= 0.05]\n",
    "print(\"The total number of significant metabolites/Features is: \", len(stat_sig))"
   ]
  },
  {
   "cell_type": "code",
   "execution_count": 9,
   "metadata": {},
   "outputs": [],
   "source": [
    "stat_sig['Metabolite'];"
   ]
  },
  {
   "cell_type": "code",
   "execution_count": 10,
   "metadata": {},
   "outputs": [
    {
     "data": {
      "text/plain": [
       "(435, 3)"
      ]
     },
     "execution_count": 10,
     "metadata": {},
     "output_type": "execute_result"
    }
   ],
   "source": [
    "# all statistically significant features dataframe (ssf_df)\n",
    "ssf_df = NMRMS[stat_sig['Metabolite']]; \n",
    "\n",
    "# get the group column from NMRMS dataframe\n",
    "group_loc = NMRMS.columns.get_loc(\"Groups\")\n",
    "\n",
    "# Update the ssf_df with the group columns.\n",
    "ssf_df = NMRMS.iloc[:, group_loc].to_frame().join(ssf_df)\n",
    "\n",
    "# create a sub set dataframe for bothControls and RCC \n",
    "Control = ssf_df[(ssf_df['Groups'] == 'Control')]\n",
    "RCC = ssf_df[(ssf_df['Groups'] == 'RCC')]\n",
    "\n",
    "# create a dataframe for the mean values of all the features in the ssf_df \n",
    "dfmean = pd.DataFrame({'Features':ssf_df.drop(['Groups'], axis=1).mean(axis=0).index, \n",
    "                       'Control':Control.drop(['Groups'], axis=1).mean(axis=0).values,\n",
    "                       'RCC':RCC.drop(['Groups'], axis=1).mean(axis=0).values})\n",
    "dfmean.shape"
   ]
  },
  {
   "cell_type": "code",
   "execution_count": 11,
   "metadata": {},
   "outputs": [
    {
     "data": {
      "text/plain": [
       "118"
      ]
     },
     "execution_count": 11,
     "metadata": {},
     "output_type": "execute_result"
    }
   ],
   "source": [
    "\n",
    "cols = [] # define list\n",
    "\n",
    "# lists for the mean values.  \n",
    "ctr_val = dfmean['Control']\n",
    "rcc_val = dfmean['RCC']\n",
    "\n",
    "# Append to column, features greater in RCC \n",
    "for ctr, rcc in zip(ctr_val, rcc_val):\n",
    "    if rcc > ctr: \n",
    "        feature = dfmean[dfmean['Control']==ctr]['Features'].values.tolist()\n",
    "        cols.append(feature)\n",
    "\n",
    "# List of metabolites higher in RCC\n",
    "upRCC = [val for sublist in cols for val in sublist] # flatten out list of list.\n",
    "len(upRCC)"
   ]
  },
  {
   "cell_type": "code",
   "execution_count": 12,
   "metadata": {},
   "outputs": [],
   "source": [
    "# MLfeatures\n",
    "MLfeatures = NMRMS[upRCC] # > 2fold, q<0.05, [RCC]>[Controls]\n",
    "MLfeatures =(MLfeatures - MLfeatures.mean(axis=0))/MLfeatures.std(axis=0) #autoscaling"
   ]
  },
  {
   "cell_type": "code",
   "execution_count": 13,
   "metadata": {},
   "outputs": [
    {
     "data": {
      "text/plain": [
       "(62, 118)"
      ]
     },
     "execution_count": 13,
     "metadata": {},
     "output_type": "execute_result"
    }
   ],
   "source": [
    "MLfeatures.shape"
   ]
  },
  {
   "cell_type": "code",
   "execution_count": 14,
   "metadata": {},
   "outputs": [],
   "source": [
    "MLfeatures.astype(float);"
   ]
  },
  {
   "cell_type": "code",
   "execution_count": 15,
   "metadata": {},
   "outputs": [],
   "source": [
    "correlated_features = set()\n",
    "correlation_matrix = MLfeatures.astype(float).corr()\n",
    "\n",
    "for i in range(len(correlation_matrix.columns)):\n",
    "    for j in range(i):\n",
    "        if abs(correlation_matrix.iloc[i, j]) > 0.8:\n",
    "            colname = correlation_matrix.columns[i]\n",
    "            correlated_features.add(colname)"
   ]
  },
  {
   "cell_type": "code",
   "execution_count": 16,
   "metadata": {},
   "outputs": [
    {
     "data": {
      "text/plain": [
       "(62, 53)"
      ]
     },
     "execution_count": 16,
     "metadata": {},
     "output_type": "execute_result"
    }
   ],
   "source": [
    "MLfeatures = MLfeatures.drop(correlated_features, axis=1)\n",
    "MLfeatures.shape"
   ]
  },
  {
   "cell_type": "markdown",
   "metadata": {},
   "source": [
    "### (iii). PLSRegression for Feature Selection"
   ]
  },
  {
   "cell_type": "markdown",
   "metadata": {},
   "source": [
    "Reference: \n",
    "-  https://nirpyresearch.com/variable-selection-method-pls-python/\n",
    "-  https://github.com/scikit-learn/scikit-learn/issues/7050\n",
    "-  https://scikit-learn.org/stable/modules/generated/sklearn.cross_decomposition.PLSRegression.html"
   ]
  },
  {
   "cell_type": "code",
   "execution_count": 17,
   "metadata": {},
   "outputs": [],
   "source": [
    "dfgrp = NMRMS.filter(['Groups'], axis=1)\n",
    "# convert strings (RCC, Control) to integers\n",
    "dfgroup = dfgrp['Groups'].map({'Control': 0, 'RCC': 1}) \n",
    "# Features and groups\n",
    "X = MLfeatures.values\n",
    "y = dfgroup.values"
   ]
  },
  {
   "cell_type": "code",
   "execution_count": 18,
   "metadata": {},
   "outputs": [],
   "source": [
    "from sklearn.cross_decomposition import PLSRegression\n",
    "from sklearn.model_selection import cross_val_predict\n",
    "from sklearn.metrics import mean_squared_error, r2_score"
   ]
  },
  {
   "cell_type": "code",
   "execution_count": 19,
   "metadata": {},
   "outputs": [
    {
     "data": {
      "text/plain": [
       "PLSRegression(copy=True, max_iter=500, n_components=2, scale=True, tol=1e-06)"
      ]
     },
     "execution_count": 19,
     "metadata": {},
     "output_type": "execute_result"
    }
   ],
   "source": [
    "pls = PLSRegression()\n",
    "pls.fit(X, y)"
   ]
  },
  {
   "cell_type": "markdown",
   "metadata": {},
   "source": [
    "*PLS coefficient of the fit*"
   ]
  },
  {
   "cell_type": "code",
   "execution_count": 20,
   "metadata": {},
   "outputs": [],
   "source": [
    "pls.coef_[:,0];"
   ]
  },
  {
   "cell_type": "code",
   "execution_count": 21,
   "metadata": {},
   "outputs": [],
   "source": [
    "def vip(x, y, model):\n",
    "    t = model.x_scores_\n",
    "    w = model.x_weights_\n",
    "    q = model.y_loadings_\n",
    "\n",
    "    m, p = x.shape\n",
    "    _, h = t.shape\n",
    "\n",
    "    vips = np.zeros((p,))\n",
    "\n",
    "    s = np.diag(t.T @ t @ q.T @ q).reshape(h, -1)\n",
    "    total_s = np.sum(s)\n",
    "\n",
    "    for i in range(p):\n",
    "        weight = np.array([ (w[i,j] / np.linalg.norm(w[:,j]))**2 for j in range(h) ])\n",
    "        vips[i] = np.sqrt(p*(s.T @ weight)/total_s)\n",
    "\n",
    "    return vips"
   ]
  },
  {
   "cell_type": "code",
   "execution_count": 22,
   "metadata": {},
   "outputs": [],
   "source": [
    "vip_list = vip(X, y, pls.fit(X, y))"
   ]
  },
  {
   "cell_type": "code",
   "execution_count": 23,
   "metadata": {},
   "outputs": [],
   "source": [
    "list_of_tuples = list(zip(MLfeatures.columns, vip_list))\n",
    "df_feat = pd.DataFrame(list_of_tuples, columns = ['Metabolites', 'Importance'])\n",
    "df_feat = df_feat.sort_values(by='Importance', ascending=False)\n",
    "#df_feat = df_feat.loc[df_feat['Ranking'] == True]\n",
    "df_feat.head(20);"
   ]
  },
  {
   "cell_type": "code",
   "execution_count": 24,
   "metadata": {},
   "outputs": [],
   "source": [
    "PLSfeatures = NMRMS[df_feat['Metabolites'][:10].tolist()] # top 20 ML PLS features"
   ]
  },
  {
   "cell_type": "markdown",
   "metadata": {},
   "source": [
    "### (iv) Recursive Feature Elimination for Feature Selection"
   ]
  },
  {
   "cell_type": "code",
   "execution_count": 25,
   "metadata": {},
   "outputs": [],
   "source": [
    "dfgrp = NMRMS.filter(['Groups'], axis=1)\n",
    "# convert strings (RCC, Control) to integers\n",
    "dfgroup = dfgrp['Groups'].map({'Control': 0, 'RCC': 1}) \n",
    "# Features and groups\n",
    "X = MLfeatures.values\n",
    "y = dfgroup.values"
   ]
  },
  {
   "cell_type": "code",
   "execution_count": 26,
   "metadata": {},
   "outputs": [
    {
     "name": "stdout",
     "output_type": "stream",
     "text": [
      "Optimal number of features : 22\n"
     ]
    },
    {
     "data": {
      "image/png": "[encoded data removed]",
      "text/plain": [
       "<Figure size 432x288 with 1 Axes>"
      ]
     },
     "metadata": {
      "image/png": {
       "height": 273,
       "width": 510
      },
      "needs_background": "light"
     },
     "output_type": "display_data"
    }
   ],
   "source": [
    "# Create the RFE object and compute a cross-validated score.\n",
    "#RF= RandomForestClassifier(n_estimators=500, max_leaf_nodes=16, n_jobs=-1, class_weight=\"balanced\",  random_state=42)\n",
    "RF=RandomForestClassifier(n_estimators=100, random_state=42)\n",
    "\n",
    "\n",
    "# Create a custom CV so we can seed with random state\n",
    "rsk = model_selection.StratifiedKFold(n_splits=5, random_state=42)\n",
    "\n",
    "# The \"accuracy\" scoring is proportional to the number of correct\n",
    "# classifications\n",
    "accuracy = RFECV(estimator=RF, cv=rsk, scoring='accuracy') #'accuracy'\n",
    "precision = RFECV(estimator=RF, cv=rsk, scoring='precision') #'accuracy'\n",
    "recall = RFECV(estimator=RF, cv=rsk, scoring='recall') #'accuracy'\n",
    "\n",
    "accuracy.fit(X, y)\n",
    "precision.fit(X, y)\n",
    "recall.fit(X,y)\n",
    "\n",
    "print(\"Optimal number of features : %d\" % accuracy.n_features_)\n",
    "\n",
    "# Plot number of features VS. cross-validation scores\n",
    "plt.figure()\n",
    "plt.xlabel(\"Number of features selected\")\n",
    "plt.ylabel(\"Prediction Score\")\n",
    "plt.plot(range(1, len(accuracy.grid_scores_) + 1), \n",
    "         accuracy.grid_scores_, label='Accuracy')\n",
    "plt.plot(range(1, len(precision.grid_scores_) + 1), \n",
    "         precision.grid_scores_, label='Sensitivity')\n",
    "plt.plot(range(1, len(recall.grid_scores_) + 1), \n",
    "         recall.grid_scores_, label='Specificity')\n",
    "plt.legend(loc='center left', bbox_to_anchor=(1, 0.5))\n",
    "plt.show()"
   ]
  },
  {
   "cell_type": "code",
   "execution_count": 27,
   "metadata": {},
   "outputs": [
    {
     "name": "stdout",
     "output_type": "stream",
     "text": [
      "The highest accuracy features is 98.57142857142858%\n"
     ]
    }
   ],
   "source": [
    "print (\"The highest accuracy features is {}%\" .format(max(accuracy.grid_scores_)*100))"
   ]
  },
  {
   "cell_type": "markdown",
   "metadata": {},
   "source": [
    "Rank features by the features importance from `RF-RFECV` algorithms. "
   ]
  },
  {
   "cell_type": "code",
   "execution_count": 28,
   "metadata": {},
   "outputs": [
    {
     "data": {
      "text/html": [
       "<div>\n",
       "<style scoped>\n",
       "    .dataframe tbody tr th:only-of-type {\n",
       "        vertical-align: middle;\n",
       "    }\n",
       "\n",
       "    .dataframe tbody tr th {\n",
       "        vertical-align: top;\n",
       "    }\n",
       "\n",
       "    .dataframe thead th {\n",
       "        text-align: right;\n",
       "    }\n",
       "</style>\n",
       "<table border=\"1\" class=\"dataframe\">\n",
       "  <thead>\n",
       "    <tr style=\"text-align: right;\">\n",
       "      <th></th>\n",
       "      <th>Metabolites</th>\n",
       "      <th>Importance</th>\n",
       "      <th>Selected</th>\n",
       "      <th>Ranking</th>\n",
       "    </tr>\n",
       "  </thead>\n",
       "  <tbody>\n",
       "    <tr>\n",
       "      <th>0</th>\n",
       "      <td>2102</td>\n",
       "      <td>0.139006</td>\n",
       "      <td>True</td>\n",
       "      <td>1</td>\n",
       "    </tr>\n",
       "    <tr>\n",
       "      <th>15</th>\n",
       "      <td>5077</td>\n",
       "      <td>0.114749</td>\n",
       "      <td>True</td>\n",
       "      <td>1</td>\n",
       "    </tr>\n",
       "    <tr>\n",
       "      <th>11</th>\n",
       "      <td>5868</td>\n",
       "      <td>0.087808</td>\n",
       "      <td>False</td>\n",
       "      <td>10</td>\n",
       "    </tr>\n",
       "    <tr>\n",
       "      <th>8</th>\n",
       "      <td>4025</td>\n",
       "      <td>0.073606</td>\n",
       "      <td>False</td>\n",
       "      <td>11</td>\n",
       "    </tr>\n",
       "    <tr>\n",
       "      <th>13</th>\n",
       "      <td>5698</td>\n",
       "      <td>0.062962</td>\n",
       "      <td>True</td>\n",
       "      <td>1</td>\n",
       "    </tr>\n",
       "    <tr>\n",
       "      <th>1</th>\n",
       "      <td>1481</td>\n",
       "      <td>0.057985</td>\n",
       "      <td>True</td>\n",
       "      <td>1</td>\n",
       "    </tr>\n",
       "    <tr>\n",
       "      <th>12</th>\n",
       "      <td>4278</td>\n",
       "      <td>0.055068</td>\n",
       "      <td>False</td>\n",
       "      <td>17</td>\n",
       "    </tr>\n",
       "    <tr>\n",
       "      <th>9</th>\n",
       "      <td>3963</td>\n",
       "      <td>0.040342</td>\n",
       "      <td>False</td>\n",
       "      <td>25</td>\n",
       "    </tr>\n",
       "    <tr>\n",
       "      <th>21</th>\n",
       "      <td>6594</td>\n",
       "      <td>0.037111</td>\n",
       "      <td>False</td>\n",
       "      <td>22</td>\n",
       "    </tr>\n",
       "    <tr>\n",
       "      <th>10</th>\n",
       "      <td>6578</td>\n",
       "      <td>0.035613</td>\n",
       "      <td>True</td>\n",
       "      <td>1</td>\n",
       "    </tr>\n",
       "    <tr>\n",
       "      <th>4</th>\n",
       "      <td>2240</td>\n",
       "      <td>0.034511</td>\n",
       "      <td>True</td>\n",
       "      <td>1</td>\n",
       "    </tr>\n",
       "    <tr>\n",
       "      <th>17</th>\n",
       "      <td>6956</td>\n",
       "      <td>0.031247</td>\n",
       "      <td>True</td>\n",
       "      <td>1</td>\n",
       "    </tr>\n",
       "    <tr>\n",
       "      <th>20</th>\n",
       "      <td>3564</td>\n",
       "      <td>0.030249</td>\n",
       "      <td>True</td>\n",
       "      <td>1</td>\n",
       "    </tr>\n",
       "    <tr>\n",
       "      <th>3</th>\n",
       "      <td>5381</td>\n",
       "      <td>0.029645</td>\n",
       "      <td>True</td>\n",
       "      <td>1</td>\n",
       "    </tr>\n",
       "    <tr>\n",
       "      <th>5</th>\n",
       "      <td>2803</td>\n",
       "      <td>0.028481</td>\n",
       "      <td>True</td>\n",
       "      <td>1</td>\n",
       "    </tr>\n",
       "    <tr>\n",
       "      <th>2</th>\n",
       "      <td>5010</td>\n",
       "      <td>0.025076</td>\n",
       "      <td>True</td>\n",
       "      <td>1</td>\n",
       "    </tr>\n",
       "    <tr>\n",
       "      <th>19</th>\n",
       "      <td>5310</td>\n",
       "      <td>0.023746</td>\n",
       "      <td>True</td>\n",
       "      <td>1</td>\n",
       "    </tr>\n",
       "    <tr>\n",
       "      <th>16</th>\n",
       "      <td>6637</td>\n",
       "      <td>0.022378</td>\n",
       "      <td>False</td>\n",
       "      <td>5</td>\n",
       "    </tr>\n",
       "    <tr>\n",
       "      <th>6</th>\n",
       "      <td>2731</td>\n",
       "      <td>0.021606</td>\n",
       "      <td>True</td>\n",
       "      <td>1</td>\n",
       "    </tr>\n",
       "    <tr>\n",
       "      <th>18</th>\n",
       "      <td>5737</td>\n",
       "      <td>0.018608</td>\n",
       "      <td>False</td>\n",
       "      <td>20</td>\n",
       "    </tr>\n",
       "  </tbody>\n",
       "</table>\n",
       "</div>"
      ],
      "text/plain": [
       "    Metabolites  Importance  Selected  Ranking\n",
       "0          2102    0.139006      True        1\n",
       "15         5077    0.114749      True        1\n",
       "11         5868    0.087808     False       10\n",
       "8          4025    0.073606     False       11\n",
       "13         5698    0.062962      True        1\n",
       "1          1481    0.057985      True        1\n",
       "12         4278    0.055068     False       17\n",
       "9          3963    0.040342     False       25\n",
       "21         6594    0.037111     False       22\n",
       "10         6578    0.035613      True        1\n",
       "4          2240    0.034511      True        1\n",
       "17         6956    0.031247      True        1\n",
       "20         3564    0.030249      True        1\n",
       "3          5381    0.029645      True        1\n",
       "5          2803    0.028481      True        1\n",
       "2          5010    0.025076      True        1\n",
       "19         5310    0.023746      True        1\n",
       "16         6637    0.022378     False        5\n",
       "6          2731    0.021606      True        1\n",
       "18         5737    0.018608     False       20"
      ]
     },
     "execution_count": 28,
     "metadata": {},
     "output_type": "execute_result"
    }
   ],
   "source": [
    "list_of_tuples = list(zip(MLfeatures.columns, \n",
    "                          accuracy.estimator_.feature_importances_, \n",
    "                          accuracy.support_, accuracy.ranking_))\n",
    "df_feat = pd.DataFrame(list_of_tuples, columns = ['Metabolites', 'Importance', \n",
    "                                                  'Selected', 'Ranking'])\n",
    "df_feat = df_feat.sort_values(by='Importance', ascending=False)\n",
    "#df_feat = df_feat.loc[df_feat['Ranking'] == True]\n",
    "df_feat.head(20)"
   ]
  },
  {
   "cell_type": "markdown",
   "metadata": {},
   "source": [
    "_Select the features with the top 20 RF feature importance score or all features selected by the RFECV-RF_\n",
    "\n",
    "In order to use the top features with the lowest q-values, use the the `stat_sig` dataframes"
   ]
  },
  {
   "cell_type": "code",
   "execution_count": 29,
   "metadata": {},
   "outputs": [],
   "source": [
    "RFfeatures = NMRMS[df_feat['Metabolites'][:10].tolist()] # top 20 ML features\n",
    "#MLfeatures = NMRMS[df_feat['Metabolites'].tolist()] # all selected features from RFECV-RF\n",
    "#MLfeatures =(MLfeatures - MLfeatures.mean(axis=0))/MLfeatures.std(axis=0) #autoscaling"
   ]
  },
  {
   "cell_type": "markdown",
   "metadata": {},
   "source": [
    "#### Converge the PLS-DA and RF features."
   ]
  },
  {
   "cell_type": "code",
   "execution_count": 30,
   "metadata": {},
   "outputs": [
    {
     "data": {
      "text/plain": [
       "Index([2102, 5310, 6594, 2359, 1481, 2240, 2803, 5381, 5698, 6578], dtype='object')"
      ]
     },
     "execution_count": 30,
     "metadata": {},
     "output_type": "execute_result"
    }
   ],
   "source": [
    "PLSfeatures.columns"
   ]
  },
  {
   "cell_type": "code",
   "execution_count": 31,
   "metadata": {},
   "outputs": [
    {
     "data": {
      "text/plain": [
       "Index([2102, 5077, 5868, 4025, 5698, 1481, 4278, 3963, 6594, 6578], dtype='object')"
      ]
     },
     "execution_count": 31,
     "metadata": {},
     "output_type": "execute_result"
    }
   ],
   "source": [
    "RFfeatures.columns"
   ]
  },
  {
   "cell_type": "code",
   "execution_count": 32,
   "metadata": {},
   "outputs": [],
   "source": [
    "final_features = set(PLSfeatures) - (set(PLSfeatures) - set(RFfeatures))"
   ]
  },
  {
   "cell_type": "code",
   "execution_count": 33,
   "metadata": {},
   "outputs": [
    {
     "data": {
      "text/plain": [
       "{1481, 2102, 5698, 6578, 6594}"
      ]
     },
     "execution_count": 33,
     "metadata": {},
     "output_type": "execute_result"
    }
   ],
   "source": [
    "final_features"
   ]
  },
  {
   "cell_type": "code",
   "execution_count": 34,
   "metadata": {},
   "outputs": [],
   "source": [
    "# Import MS_labels\n",
    "MS_labels = pd.read_excel('data/MS_labels.xlsx')"
   ]
  },
  {
   "cell_type": "code",
   "execution_count": 35,
   "metadata": {},
   "outputs": [
    {
     "data": {
      "text/html": [
       "<div>\n",
       "<style scoped>\n",
       "    .dataframe tbody tr th:only-of-type {\n",
       "        vertical-align: middle;\n",
       "    }\n",
       "\n",
       "    .dataframe tbody tr th {\n",
       "        vertical-align: top;\n",
       "    }\n",
       "\n",
       "    .dataframe thead th {\n",
       "        text-align: right;\n",
       "    }\n",
       "</style>\n",
       "<table border=\"1\" class=\"dataframe\">\n",
       "  <thead>\n",
       "    <tr style=\"text-align: right;\">\n",
       "      <th></th>\n",
       "      <th>ID</th>\n",
       "      <th>Mode</th>\n",
       "      <th>RT [min]</th>\n",
       "      <th>Name</th>\n",
       "      <th>Formula</th>\n",
       "    </tr>\n",
       "  </thead>\n",
       "  <tbody>\n",
       "    <tr>\n",
       "      <th>1480</th>\n",
       "      <td>1481</td>\n",
       "      <td>positive</td>\n",
       "      <td>6.290</td>\n",
       "      <td>1481</td>\n",
       "      <td>NaN</td>\n",
       "    </tr>\n",
       "    <tr>\n",
       "      <th>2101</th>\n",
       "      <td>2102</td>\n",
       "      <td>positive</td>\n",
       "      <td>3.449</td>\n",
       "      <td>N,N-Diisopropylethylamine (DIPEA)</td>\n",
       "      <td>C8 H19 N</td>\n",
       "    </tr>\n",
       "    <tr>\n",
       "      <th>5697</th>\n",
       "      <td>5698</td>\n",
       "      <td>negative</td>\n",
       "      <td>3.381</td>\n",
       "      <td>5698</td>\n",
       "      <td>C24 H43 N O12 P2 S</td>\n",
       "    </tr>\n",
       "    <tr>\n",
       "      <th>6577</th>\n",
       "      <td>6578</td>\n",
       "      <td>negative</td>\n",
       "      <td>0.832</td>\n",
       "      <td>6578</td>\n",
       "      <td>C6 H N O5</td>\n",
       "    </tr>\n",
       "    <tr>\n",
       "      <th>6593</th>\n",
       "      <td>6594</td>\n",
       "      <td>negative</td>\n",
       "      <td>3.871</td>\n",
       "      <td>N-Acetyl-D-glucosaminate</td>\n",
       "      <td>C8 H15 N O7</td>\n",
       "    </tr>\n",
       "  </tbody>\n",
       "</table>\n",
       "</div>"
      ],
      "text/plain": [
       "        ID      Mode  RT [min]                               Name  \\\n",
       "1480  1481  positive     6.290                               1481   \n",
       "2101  2102  positive     3.449  N,N-Diisopropylethylamine (DIPEA)   \n",
       "5697  5698  negative     3.381                               5698   \n",
       "6577  6578  negative     0.832                               6578   \n",
       "6593  6594  negative     3.871           N-Acetyl-D-glucosaminate   \n",
       "\n",
       "                 Formula  \n",
       "1480                 NaN  \n",
       "2101            C8 H19 N  \n",
       "5697  C24 H43 N O12 P2 S  \n",
       "6577           C6 H N O5  \n",
       "6593         C8 H15 N O7  "
      ]
     },
     "execution_count": 35,
     "metadata": {},
     "output_type": "execute_result"
    }
   ],
   "source": [
    "MS_labels[MS_labels.ID.isin(final_features)]"
   ]
  },
  {
   "cell_type": "code",
   "execution_count": null,
   "metadata": {},
   "outputs": [],
   "source": []
  },
  {
   "cell_type": "code",
   "execution_count": null,
   "metadata": {},
   "outputs": [],
   "source": []
  },
  {
   "cell_type": "code",
   "execution_count": null,
   "metadata": {},
   "outputs": [],
   "source": []
  },
  {
   "cell_type": "code",
   "execution_count": null,
   "metadata": {},
   "outputs": [],
   "source": []
  }
 ],
 "metadata": {
  "kernelspec": {
   "display_name": "Python 3",
   "language": "python",
   "name": "python3"
  },
  "language_info": {
   "codemirror_mode": {
    "name": "ipython",
    "version": 3
   },
   "file_extension": ".py",
   "mimetype": "text/x-python",
   "name": "python",
   "nbconvert_exporter": "python",
   "pygments_lexer": "ipython3",
   "version": "3.6.8"
  }
 },
 "nbformat": 4,
 "nbformat_minor": 2
}
