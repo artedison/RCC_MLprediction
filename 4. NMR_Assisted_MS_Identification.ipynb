{
 "cells": [
  {
   "cell_type": "markdown",
   "metadata": {},
   "source": [
    "# NMR Assisted MS Metabolite Identification\n",
    "\n",
    "Author: Olatomiwa Bifarin<br>\n",
    "Department of Biochemistry and Molecular Biology<br>\n",
    "University of Georgia<br>\n",
    "Edison Lab<br>\n",
    "\n",
    "Last edited: 15MAR2020\n",
    "\n",
    "_This is a static version of a Jupyter notebook, and work (documentation) is still in progress_ "
   ]
  },
  {
   "cell_type": "code",
   "execution_count": 1,
   "metadata": {},
   "outputs": [],
   "source": [
    "import pandas as pd\n",
    "import numpy as np\n",
    "from matplotlib import pyplot as plt\n",
    "from matplotlib import style\n",
    "import scipy\n",
    "#For Seaborn plots\n",
    "import seaborn as sns; sns.set(style='white')\n",
    "#To ignore warning\n",
    "import warnings\n",
    "warnings.filterwarnings('ignore')\n",
    "\n",
    "# More sharp and legible graphics\n",
    "%config InlineBackend.figure_format = 'retina'\n",
    "\n",
    "# Set seaborn figure labels to 'talk', to be more visible. \n",
    "sns.set_context('talk', font_scale=0.8)"
   ]
  },
  {
   "cell_type": "markdown",
   "metadata": {},
   "source": [
    "## 1. Import and Set up all (MS) features with < 0.05 _q_-values. "
   ]
  },
  {
   "cell_type": "markdown",
   "metadata": {},
   "source": [
    "_Import all 472 features_"
   ]
  },
  {
   "cell_type": "code",
   "execution_count": 2,
   "metadata": {},
   "outputs": [],
   "source": [
    "qfeatures = pd.read_excel('RCC_472features.xlsx')\n",
    "#qfeatures.head()"
   ]
  },
  {
   "cell_type": "markdown",
   "metadata": {},
   "source": [
    "_Import all MS features_"
   ]
  },
  {
   "cell_type": "code",
   "execution_count": 3,
   "metadata": {},
   "outputs": [],
   "source": [
    "dfMS = pd.read_excel('data/RCC_S280_combinedData_7097.xlsx')\n",
    "dfMS_trans = dfMS.T # Transpose dataframe\n",
    "IDs = np.arange(1, dfMS_trans.shape[1] + 1) # Generate a range of numbers (7098) to replace nan values in the name row\n",
    "IDs = pd.Series(IDs) # creating series \n",
    "dfMS_trans.iloc[4] = dfMS_trans.iloc[4].fillna(IDs) # replace nan with the IDs, and replace the name row"
   ]
  },
  {
   "cell_type": "code",
   "execution_count": 4,
   "metadata": {},
   "outputs": [],
   "source": [
    "MS = dfMS_trans.drop(['Mode', 'Molecular Weight', 'Name', 'RT [min]', 'Formula'])\n",
    "MS.index.name = 'MS_ID'\n",
    "MS.reset_index(inplace=True) # Converts the row names into a column.\n",
    "header = MS.iloc[0] # Create a new variable called 'header' from the first row of the dataset\n",
    "MS = MS[1:] # Replace the dataframe with a new one which does not contain the first row\n",
    "MS.rename(columns = header, inplace=True)# Rename the dataframe's column values with the header variable\n",
    "MS.rename(columns={'ID':'Sample ID'}, inplace = True) # Rename column name\n",
    "# To rest the row index to start from 0\n",
    "MS.index = MS.index - 1 \n",
    "#MS.head()"
   ]
  },
  {
   "cell_type": "markdown",
   "metadata": {},
   "source": [
    "_Import dataframe containing clinical ID_"
   ]
  },
  {
   "cell_type": "code",
   "execution_count": 5,
   "metadata": {},
   "outputs": [],
   "source": [
    "path = \"data/Sample_List_MS.xlsx\"\n",
    "fields = \\\n",
    "[\n",
    "    'Sample ID',\n",
    "    'Patient ID'\n",
    "]\n",
    "\n",
    "MSpatid = pd.read_excel(path)[fields]\n",
    "#MSpatid.head()"
   ]
  },
  {
   "cell_type": "markdown",
   "metadata": {},
   "source": [
    "`MSData` is the dataframe for the MS Peak Intensities with <mark>Patient ID</mark> and <mark>Groups</mark>"
   ]
  },
  {
   "cell_type": "code",
   "execution_count": 6,
   "metadata": {},
   "outputs": [],
   "source": [
    "MSData = pd.merge(MS, MSpatid, on='Sample ID') # Merge the two dataframe on Sample ID\n",
    "#MSData.head()"
   ]
  },
  {
   "cell_type": "code",
   "execution_count": 7,
   "metadata": {},
   "outputs": [
    {
     "data": {
      "text/plain": [
       "473"
      ]
     },
     "execution_count": 7,
     "metadata": {},
     "output_type": "execute_result"
    }
   ],
   "source": [
    "lst = [qfeatures['ID'].tolist(), ['Patient ID']] # create a list of list. \n",
    "flat_list = [item for sublist in lst for item in sublist] # flatten out the list\n",
    "len(flat_list)"
   ]
  },
  {
   "cell_type": "code",
   "execution_count": 8,
   "metadata": {},
   "outputs": [],
   "source": [
    "MS_qfeatures = MSData.filter(flat_list)\n",
    "#MS_qfeatures.head()"
   ]
  },
  {
   "cell_type": "code",
   "execution_count": 9,
   "metadata": {},
   "outputs": [
    {
     "data": {
      "text/plain": [
       "(280, 473)"
      ]
     },
     "execution_count": 9,
     "metadata": {},
     "output_type": "execute_result"
    }
   ],
   "source": [
    "MS_qfeatures.shape"
   ]
  },
  {
   "cell_type": "markdown",
   "metadata": {},
   "source": [
    "## 2. Import and Setup all NMR features. "
   ]
  },
  {
   "cell_type": "code",
   "execution_count": 10,
   "metadata": {},
   "outputs": [],
   "source": [
    "dfNMR = pd.read_excel('data/binned_NMRfeatures_22JAN2020.xlsx')\n",
    "#dfNMR.head()"
   ]
  },
  {
   "cell_type": "code",
   "execution_count": 11,
   "metadata": {},
   "outputs": [
    {
     "data": {
      "text/plain": [
       "Index(['Run_ID', 'Patient ID', 'Collection', 'Gender', 'Race', 'BMI', 'Smoker',\n",
       "       'Age', 'Sample_description', 'Groups', 'Yvec', 'Run_IDOrig', 'unk1',\n",
       "       'unk2', 'bile_acid1', 'bile_acid2', 'HIVA', 'lactate', 'unk3',\n",
       "       'acetate', 'acetone', 'unk4', 'acetoacetate', 'unk5', 'pyruvate',\n",
       "       'citrate', 'DMA', 'unk6', 'methylguanidine', 'unk7', 'choline',\n",
       "       'scylloinositol', 'taurine', 'acetoacetate_4HPA', 'glycine',\n",
       "       'mannitol_1', 'mannitol_2', 'creatine', 'glycolate',\n",
       "       'hippurate_hydroxyhippurate', 'Tatrate', 'unk8', 'unk9', 'fumarate',\n",
       "       '4HPA', 'hippurate_2', 'hippurate_3', 'aminohippurate',\n",
       "       'indoxylsulfate', 'hippurate_4', 'hypoxanthine_1', 'hypoxanthine_2',\n",
       "       'formate', 'unk10', 'Trigonelline_1', 'Trigonellinamide_1',\n",
       "       'Trigonellinamide_2', 'Trigonelline_2', 'Trigonellinamide_3', 'unk11'],\n",
       "      dtype='object')"
      ]
     },
     "execution_count": 11,
     "metadata": {},
     "output_type": "execute_result"
    }
   ],
   "source": [
    "dfNMR.columns"
   ]
  },
  {
   "cell_type": "code",
   "execution_count": 12,
   "metadata": {},
   "outputs": [],
   "source": [
    "dfNMR = pd.read_excel('data/binned_NMRfeatures_22JAN2020.xlsx')\n",
    "dfNMR.drop(['Run_ID', 'Collection', 'Gender', \n",
    "            'Race', 'BMI', 'Smoker', 'Age', 'Sample_description', \n",
    "            'Groups', 'Yvec', 'Run_IDOrig',], axis=1, inplace=True)\n",
    "#dfNMR.head()"
   ]
  },
  {
   "cell_type": "code",
   "execution_count": 13,
   "metadata": {},
   "outputs": [],
   "source": [
    "dfNMR.rename(columns={'Sample_ID':'Patient ID'}, inplace = True) # Rename column name\n",
    "#dfNMR.head()"
   ]
  },
  {
   "cell_type": "markdown",
   "metadata": {},
   "source": [
    "## 3. Select Samples Common to both MS and NMR"
   ]
  },
  {
   "cell_type": "code",
   "execution_count": 14,
   "metadata": {},
   "outputs": [
    {
     "name": "stdout",
     "output_type": "stream",
     "text": [
      "(284, 49)\n",
      "(280, 473)\n"
     ]
    }
   ],
   "source": [
    "print(dfNMR.shape)\n",
    "print(MS_qfeatures.shape)"
   ]
  },
  {
   "cell_type": "markdown",
   "metadata": {},
   "source": [
    "_Merge NMR and MS dataframes  on Patient ID_"
   ]
  },
  {
   "cell_type": "code",
   "execution_count": 15,
   "metadata": {},
   "outputs": [
    {
     "data": {
      "text/plain": [
       "(256, 521)"
      ]
     },
     "execution_count": 15,
     "metadata": {},
     "output_type": "execute_result"
    }
   ],
   "source": [
    "combined = pd.merge(MS_qfeatures, dfNMR, on='Patient ID') # Merge the two dataframe on Sample ID\n",
    "combined.shape"
   ]
  },
  {
   "cell_type": "markdown",
   "metadata": {},
   "source": [
    "_Select Samples Common to both MS and NMR_"
   ]
  },
  {
   "cell_type": "code",
   "execution_count": 16,
   "metadata": {},
   "outputs": [
    {
     "name": "stdout",
     "output_type": "stream",
     "text": [
      "(256, 49)\n",
      "(256, 473)\n"
     ]
    }
   ],
   "source": [
    "final_NMR = dfNMR[dfNMR['Patient ID'].isin(combined['Patient ID'])]\n",
    "final_MS = MS_qfeatures[MS_qfeatures['Patient ID'].isin(combined['Patient ID'])]\n",
    "print(final_NMR.shape)\n",
    "print(final_MS.shape)"
   ]
  },
  {
   "cell_type": "markdown",
   "metadata": {},
   "source": [
    "## 4. Correlations"
   ]
  },
  {
   "cell_type": "code",
   "execution_count": 17,
   "metadata": {},
   "outputs": [],
   "source": [
    "final_NMR.drop(['Patient ID'], axis=1, inplace=True)\n",
    "final_MS.drop(['Patient ID'], axis=1, inplace=True)"
   ]
  },
  {
   "cell_type": "code",
   "execution_count": 18,
   "metadata": {},
   "outputs": [],
   "source": [
    "NMRcorr_compd, MScorr_compd = [], []\n",
    "for column in final_NMR.columns:\n",
    "    for column2 in final_MS.columns:\n",
    "        col_corr = pd.DataFrame(np.corrcoef(final_NMR[column].astype(float), \n",
    "                                            final_MS[column2].astype(float))).abs()\n",
    "        # Select upper triangle of correlation matrix\n",
    "        #corr = col_corr.where(np.triu(np.ones(col_corr.shape), k=1).astype(np.bool))\n",
    "        if col_corr[1][0] > 0.50: \n",
    "            #column to drop NMR's; column2 to drop MS's \n",
    "            NMRcorr_compd.append(column)\n",
    "            MScorr_compd.append(column2)"
   ]
  },
  {
   "cell_type": "code",
   "execution_count": 19,
   "metadata": {},
   "outputs": [],
   "source": [
    "NMRcorr_compd;"
   ]
  },
  {
   "cell_type": "code",
   "execution_count": 20,
   "metadata": {},
   "outputs": [],
   "source": [
    "MScorr_compd;"
   ]
  },
  {
   "cell_type": "code",
   "execution_count": 21,
   "metadata": {},
   "outputs": [
    {
     "data": {
      "text/html": [
       "<div>\n",
       "<style scoped>\n",
       "    .dataframe tbody tr th:only-of-type {\n",
       "        vertical-align: middle;\n",
       "    }\n",
       "\n",
       "    .dataframe tbody tr th {\n",
       "        vertical-align: top;\n",
       "    }\n",
       "\n",
       "    .dataframe thead th {\n",
       "        text-align: right;\n",
       "    }\n",
       "</style>\n",
       "<table border=\"1\" class=\"dataframe\">\n",
       "  <thead>\n",
       "    <tr style=\"text-align: right;\">\n",
       "      <th></th>\n",
       "      <th>NMR Features</th>\n",
       "      <th>MS Features</th>\n",
       "    </tr>\n",
       "  </thead>\n",
       "  <tbody>\n",
       "    <tr>\n",
       "      <th>0</th>\n",
       "      <td>4HPA</td>\n",
       "      <td>6385</td>\n",
       "    </tr>\n",
       "  </tbody>\n",
       "</table>\n",
       "</div>"
      ],
      "text/plain": [
       "  NMR Features  MS Features\n",
       "0         4HPA         6385"
      ]
     },
     "execution_count": 21,
     "metadata": {},
     "output_type": "execute_result"
    }
   ],
   "source": [
    "corr_result = pd.DataFrame(\n",
    "    {'NMR Features': NMRcorr_compd,\n",
    "     'MS Features': MScorr_compd\n",
    "    })\n",
    "corr_result"
   ]
  },
  {
   "cell_type": "code",
   "execution_count": 22,
   "metadata": {},
   "outputs": [
    {
     "data": {
      "text/html": [
       "<div>\n",
       "<style scoped>\n",
       "    .dataframe tbody tr th:only-of-type {\n",
       "        vertical-align: middle;\n",
       "    }\n",
       "\n",
       "    .dataframe tbody tr th {\n",
       "        vertical-align: top;\n",
       "    }\n",
       "\n",
       "    .dataframe thead th {\n",
       "        text-align: right;\n",
       "    }\n",
       "</style>\n",
       "<table border=\"1\" class=\"dataframe\">\n",
       "  <thead>\n",
       "    <tr style=\"text-align: right;\">\n",
       "      <th></th>\n",
       "      <th>ID</th>\n",
       "      <th>Mode</th>\n",
       "      <th>RT [min]</th>\n",
       "      <th>Name</th>\n",
       "      <th>Formula</th>\n",
       "    </tr>\n",
       "  </thead>\n",
       "  <tbody>\n",
       "    <tr>\n",
       "      <th>6384</th>\n",
       "      <td>6385</td>\n",
       "      <td>negative</td>\n",
       "      <td>2.655</td>\n",
       "      <td>6385</td>\n",
       "      <td>C8 H7 N2 O P</td>\n",
       "    </tr>\n",
       "  </tbody>\n",
       "</table>\n",
       "</div>"
      ],
      "text/plain": [
       "        ID      Mode  RT [min]  Name       Formula\n",
       "6384  6385  negative     2.655  6385  C8 H7 N2 O P"
      ]
     },
     "execution_count": 22,
     "metadata": {},
     "output_type": "execute_result"
    }
   ],
   "source": [
    "# Import MS_labels\n",
    "MS_labels = pd.read_excel('data/MS_labels.xlsx')\n",
    "# Check for potential MS ID.\n",
    "MSlabels_corr = MS_labels[MS_labels.ID.isin(MScorr_compd)]\n",
    "MSlabels_corr"
   ]
  },
  {
   "cell_type": "code",
   "execution_count": null,
   "metadata": {},
   "outputs": [],
   "source": []
  }
 ],
 "metadata": {
  "kernelspec": {
   "display_name": "Python 3",
   "language": "python",
   "name": "python3"
  },
  "language_info": {
   "codemirror_mode": {
    "name": "ipython",
    "version": 3
   },
   "file_extension": ".py",
   "mimetype": "text/x-python",
   "name": "python",
   "nbconvert_exporter": "python",
   "pygments_lexer": "ipython3",
   "version": "3.6.8"
  }
 },
 "nbformat": 4,
 "nbformat_minor": 2
}
