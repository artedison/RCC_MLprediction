{
 "cells": [
  {
   "cell_type": "markdown",
   "metadata": {},
   "source": [
    "# NMR Assisted MS Metabolite Identification\n",
    "\n",
    "Author: Olatomiwa Bifarin<br>\n",
    "Department of Biochemistry and Molecular Biology<br>\n",
    "University of Georgia<br>\n",
    "Edison Lab<br>\n",
    "\n",
    "Last edited: 15MAR2020\n",
    "\n",
    "_This is a static version of a Jupyter notebook, and work (documentation) is still in progress_ "
   ]
  },
  {
   "cell_type": "code",
   "execution_count": 90,
   "metadata": {},
   "outputs": [],
   "source": [
    "import pandas as pd\n",
    "import numpy as np\n",
    "from matplotlib import pyplot as plt\n",
    "from matplotlib import style\n",
    "import scipy\n",
    "#For Seaborn plots\n",
    "import seaborn as sns; sns.set(style='white')\n",
    "#To ignore warning\n",
    "import warnings\n",
    "warnings.filterwarnings('ignore')\n",
    "\n",
    "# More sharp and legible graphics\n",
    "%config InlineBackend.figure_format = 'retina'\n",
    "\n",
    "# Set seaborn figure labels to 'talk', to be more visible. \n",
    "sns.set_context('talk', font_scale=0.8)"
   ]
  },
  {
   "cell_type": "markdown",
   "metadata": {},
   "source": [
    "## 1. Import and Set up all (MS) features with < 0.05 _q_-values. "
   ]
  },
  {
   "cell_type": "markdown",
   "metadata": {},
   "source": [
    "_Import all 472 features_"
   ]
  },
  {
   "cell_type": "code",
   "execution_count": 91,
   "metadata": {},
   "outputs": [],
   "source": [
    "qfeatures = pd.read_excel('RCC_472features.xlsx')\n",
    "#qfeatures.head()"
   ]
  },
  {
   "cell_type": "markdown",
   "metadata": {},
   "source": [
    "_Import all MS features_"
   ]
  },
  {
   "cell_type": "code",
   "execution_count": 92,
   "metadata": {},
   "outputs": [],
   "source": [
    "dfMS = pd.read_excel('data/RCC_S280_combinedData_7097.xlsx')\n",
    "dfMS_trans = dfMS.T # Transpose dataframe\n",
    "IDs = np.arange(1, dfMS_trans.shape[1] + 1) # Generate a range of numbers (7098) to replace nan values in the name row\n",
    "IDs = pd.Series(IDs) # creating series \n",
    "dfMS_trans.iloc[4] = dfMS_trans.iloc[4].fillna(IDs) # replace nan with the IDs, and replace the name row"
   ]
  },
  {
   "cell_type": "code",
   "execution_count": 93,
   "metadata": {},
   "outputs": [],
   "source": [
    "MS = dfMS_trans.drop(['Mode', 'Molecular Weight', 'Name', 'RT [min]', 'Formula'])\n",
    "MS.index.name = 'MS_ID'\n",
    "MS.reset_index(inplace=True) # Converts the row names into a column.\n",
    "header = MS.iloc[0] # Create a new variable called 'header' from the first row of the dataset\n",
    "MS = MS[1:] # Replace the dataframe with a new one which does not contain the first row\n",
    "MS.rename(columns = header, inplace=True)# Rename the dataframe's column values with the header variable\n",
    "MS.rename(columns={'ID':'Sample ID'}, inplace = True) # Rename column name\n",
    "# To rest the row index to start from 0\n",
    "MS.index = MS.index - 1 \n",
    "#MS.head()"
   ]
  },
  {
   "cell_type": "markdown",
   "metadata": {},
   "source": [
    "_Import dataframe containing clinical ID_"
   ]
  },
  {
   "cell_type": "code",
   "execution_count": 94,
   "metadata": {},
   "outputs": [],
   "source": [
    "path = \"data/Sample_List_MS.xlsx\"\n",
    "fields = \\\n",
    "[\n",
    "    'Sample ID',\n",
    "    'Patient ID'\n",
    "]\n",
    "\n",
    "MSpatid = pd.read_excel(path)[fields]\n",
    "#MSpatid.head()"
   ]
  },
  {
   "cell_type": "markdown",
   "metadata": {},
   "source": [
    "`MSData` is the dataframe for the MS Peak Intensities with <mark>Patient ID</mark> and <mark>Groups</mark>"
   ]
  },
  {
   "cell_type": "code",
   "execution_count": 95,
   "metadata": {},
   "outputs": [],
   "source": [
    "MSData = pd.merge(MS, MSpatid, on='Sample ID') # Merge the two dataframe on Sample ID\n",
    "#MSData.head()"
   ]
  },
  {
   "cell_type": "code",
   "execution_count": 96,
   "metadata": {},
   "outputs": [
    {
     "data": {
      "text/plain": [
       "473"
      ]
     },
     "execution_count": 96,
     "metadata": {},
     "output_type": "execute_result"
    }
   ],
   "source": [
    "lst = [qfeatures['ID'].tolist(), ['Patient ID']] # create a list of list. \n",
    "flat_list = [item for sublist in lst for item in sublist] # flatten out the list\n",
    "len(flat_list)"
   ]
  },
  {
   "cell_type": "code",
   "execution_count": 97,
   "metadata": {},
   "outputs": [],
   "source": [
    "MS_qfeatures = MSData.filter(flat_list)\n",
    "#MS_qfeatures.head()"
   ]
  },
  {
   "cell_type": "code",
   "execution_count": 98,
   "metadata": {},
   "outputs": [
    {
     "data": {
      "text/plain": [
       "(280, 473)"
      ]
     },
     "execution_count": 98,
     "metadata": {},
     "output_type": "execute_result"
    }
   ],
   "source": [
    "MS_qfeatures.shape"
   ]
  },
  {
   "cell_type": "markdown",
   "metadata": {},
   "source": [
    "## 2. Import and Setup all NMR features. "
   ]
  },
  {
   "cell_type": "code",
   "execution_count": 99,
   "metadata": {},
   "outputs": [],
   "source": [
    "dfNMR = pd.read_excel('data/binned_NMRfeatures_22JAN2020.xlsx')\n",
    "#dfNMR.head()"
   ]
  },
  {
   "cell_type": "code",
   "execution_count": 100,
   "metadata": {},
   "outputs": [
    {
     "data": {
      "text/plain": [
       "Index(['Run_ID', 'Patient ID', 'Collection', 'Gender', 'Race', 'BMI', 'Smoker',\n",
       "       'Age', 'Sample_description', 'Groups', 'Yvec', 'Run_IDOrig', 'unk1',\n",
       "       'unk2', 'bile_acid1', 'bile_acid2', 'HIVA', 'lactate', 'unk3',\n",
       "       'acetate', 'acetone', 'unk4', 'acetoacetate', 'unk5', 'pyruvate',\n",
       "       'citrate', 'DMA', 'unk6', 'methylguanidine', 'unk7', 'choline',\n",
       "       'scylloinositol', 'taurine', 'acetoacetate_4HPA', 'glycine',\n",
       "       'mannitol_1', 'mannitol_2', 'creatine', 'glycolate',\n",
       "       'hippurate_hydroxyhippurate', 'Tatrate', 'unk8', 'unk9', 'fumarate',\n",
       "       '4HPA', 'hippurate_2', 'hippurate_3', 'aminohippurate',\n",
       "       'indoxylsulfate', 'hippurate_4', 'hypoxanthine_1', 'hypoxanthine_2',\n",
       "       'formate', 'unk10', 'Trigonelline_1', 'Trigonellinamide_1',\n",
       "       'Trigonellinamide_2', 'Trigonelline_2', 'Trigonellinamide_3', 'unk11'],\n",
       "      dtype='object')"
      ]
     },
     "execution_count": 100,
     "metadata": {},
     "output_type": "execute_result"
    }
   ],
   "source": [
    "dfNMR.columns"
   ]
  },
  {
   "cell_type": "code",
   "execution_count": 101,
   "metadata": {},
   "outputs": [],
   "source": [
    "dfNMR = pd.read_excel('data/binned_NMRfeatures_22JAN2020.xlsx')\n",
    "dfNMR.drop(['Run_ID', 'Collection', 'Gender', \n",
    "            'Race', 'BMI', 'Smoker', 'Age', 'Sample_description', \n",
    "            'Groups', 'Yvec', 'Run_IDOrig',], axis=1, inplace=True)\n",
    "#dfNMR.head()"
   ]
  },
  {
   "cell_type": "code",
   "execution_count": 102,
   "metadata": {},
   "outputs": [],
   "source": [
    "dfNMR.rename(columns={'Sample_ID':'Patient ID'}, inplace = True) # Rename column name\n",
    "#dfNMR.head()"
   ]
  },
  {
   "cell_type": "markdown",
   "metadata": {},
   "source": [
    "## 3. Select Samples Common to both MS and NMR"
   ]
  },
  {
   "cell_type": "code",
   "execution_count": 103,
   "metadata": {},
   "outputs": [
    {
     "name": "stdout",
     "output_type": "stream",
     "text": [
      "(284, 49)\n",
      "(280, 473)\n"
     ]
    }
   ],
   "source": [
    "print(dfNMR.shape)\n",
    "print(MS_qfeatures.shape)"
   ]
  },
  {
   "cell_type": "markdown",
   "metadata": {},
   "source": [
    "_Merge NMR and MS dataframes  on Patient ID_"
   ]
  },
  {
   "cell_type": "code",
   "execution_count": 104,
   "metadata": {},
   "outputs": [
    {
     "data": {
      "text/plain": [
       "(256, 521)"
      ]
     },
     "execution_count": 104,
     "metadata": {},
     "output_type": "execute_result"
    }
   ],
   "source": [
    "combined = pd.merge(MS_qfeatures, dfNMR, on='Patient ID') # Merge the two dataframe on Sample ID\n",
    "combined.shape"
   ]
  },
  {
   "cell_type": "markdown",
   "metadata": {},
   "source": [
    "_Select Samples Common to both MS and NMR_"
   ]
  },
  {
   "cell_type": "code",
   "execution_count": 215,
   "metadata": {},
   "outputs": [
    {
     "name": "stdout",
     "output_type": "stream",
     "text": [
      "(256, 49)\n",
      "(256, 473)\n"
     ]
    }
   ],
   "source": [
    "final_NMR = dfNMR[dfNMR['Patient ID'].isin(combined['Patient ID'])]\n",
    "final_MS = MS_qfeatures[MS_qfeatures['Patient ID'].isin(combined['Patient ID'])]\n",
    "print(final_NMR.shape)\n",
    "print(final_MS.shape)"
   ]
  },
  {
   "cell_type": "markdown",
   "metadata": {},
   "source": [
    "## 4. Correlations"
   ]
  },
  {
   "cell_type": "code",
   "execution_count": 216,
   "metadata": {},
   "outputs": [],
   "source": [
    "final_NMR.drop(['Patient ID'], axis=1, inplace=True)\n",
    "final_MS.drop(['Patient ID'], axis=1, inplace=True)"
   ]
  },
  {
   "cell_type": "code",
   "execution_count": 221,
   "metadata": {},
   "outputs": [],
   "source": [
    "NMRcorr_compd, MScorr_compd = [], []\n",
    "for column in final_NMR.columns:\n",
    "    for column2 in final_MS.columns:\n",
    "        col_corr = pd.DataFrame(np.corrcoef(final_NMR[column].astype(float), \n",
    "                                            final_MS[column2].astype(float))).abs()\n",
    "        # Select upper triangle of correlation matrix\n",
    "        #corr = col_corr.where(np.triu(np.ones(col_corr.shape), k=1).astype(np.bool))\n",
    "        if col_corr[1][0] >= 0.30: \n",
    "            #column to drop NMR's; column2 to drop MS's \n",
    "            NMRcorr_compd.append(column)\n",
    "            MScorr_compd.append(column2)"
   ]
  },
  {
   "cell_type": "code",
   "execution_count": 222,
   "metadata": {},
   "outputs": [],
   "source": [
    "NMRcorr_compd;"
   ]
  },
  {
   "cell_type": "code",
   "execution_count": 223,
   "metadata": {},
   "outputs": [],
   "source": [
    "MScorr_compd;"
   ]
  },
  {
   "cell_type": "code",
   "execution_count": 224,
   "metadata": {},
   "outputs": [
    {
     "data": {
      "text/html": [
       "<div>\n",
       "<style scoped>\n",
       "    .dataframe tbody tr th:only-of-type {\n",
       "        vertical-align: middle;\n",
       "    }\n",
       "\n",
       "    .dataframe tbody tr th {\n",
       "        vertical-align: top;\n",
       "    }\n",
       "\n",
       "    .dataframe thead th {\n",
       "        text-align: right;\n",
       "    }\n",
       "</style>\n",
       "<table border=\"1\" class=\"dataframe\">\n",
       "  <thead>\n",
       "    <tr style=\"text-align: right;\">\n",
       "      <th></th>\n",
       "      <th>NMR_Features</th>\n",
       "      <th>MS_Features</th>\n",
       "    </tr>\n",
       "  </thead>\n",
       "  <tbody>\n",
       "    <tr>\n",
       "      <th>0</th>\n",
       "      <td>unk1</td>\n",
       "      <td>3171</td>\n",
       "    </tr>\n",
       "    <tr>\n",
       "      <th>1</th>\n",
       "      <td>Tatrate</td>\n",
       "      <td>147</td>\n",
       "    </tr>\n",
       "    <tr>\n",
       "      <th>2</th>\n",
       "      <td>unk8</td>\n",
       "      <td>926</td>\n",
       "    </tr>\n",
       "    <tr>\n",
       "      <th>3</th>\n",
       "      <td>fumarate</td>\n",
       "      <td>926</td>\n",
       "    </tr>\n",
       "    <tr>\n",
       "      <th>4</th>\n",
       "      <td>4HPA</td>\n",
       "      <td>278</td>\n",
       "    </tr>\n",
       "    <tr>\n",
       "      <th>5</th>\n",
       "      <td>4HPA</td>\n",
       "      <td>6385</td>\n",
       "    </tr>\n",
       "    <tr>\n",
       "      <th>6</th>\n",
       "      <td>aminohippurate</td>\n",
       "      <td>474</td>\n",
       "    </tr>\n",
       "    <tr>\n",
       "      <th>7</th>\n",
       "      <td>indoxylsulfate</td>\n",
       "      <td>672</td>\n",
       "    </tr>\n",
       "    <tr>\n",
       "      <th>8</th>\n",
       "      <td>hypoxanthine_1</td>\n",
       "      <td>995</td>\n",
       "    </tr>\n",
       "    <tr>\n",
       "      <th>9</th>\n",
       "      <td>hypoxanthine_2</td>\n",
       "      <td>1771</td>\n",
       "    </tr>\n",
       "    <tr>\n",
       "      <th>10</th>\n",
       "      <td>formate</td>\n",
       "      <td>1991</td>\n",
       "    </tr>\n",
       "    <tr>\n",
       "      <th>11</th>\n",
       "      <td>formate</td>\n",
       "      <td>5463</td>\n",
       "    </tr>\n",
       "  </tbody>\n",
       "</table>\n",
       "</div>"
      ],
      "text/plain": [
       "      NMR_Features  MS_Features\n",
       "0             unk1         3171\n",
       "1          Tatrate          147\n",
       "2             unk8          926\n",
       "3         fumarate          926\n",
       "4             4HPA          278\n",
       "5             4HPA         6385\n",
       "6   aminohippurate          474\n",
       "7   indoxylsulfate          672\n",
       "8   hypoxanthine_1          995\n",
       "9   hypoxanthine_2         1771\n",
       "10         formate         1991\n",
       "11         formate         5463"
      ]
     },
     "execution_count": 224,
     "metadata": {},
     "output_type": "execute_result"
    }
   ],
   "source": [
    "corr_result = pd.DataFrame(\n",
    "    {'NMR_Features': NMRcorr_compd,\n",
    "     'MS_Features': MScorr_compd\n",
    "    })\n",
    "corr_result"
   ]
  },
  {
   "cell_type": "code",
   "execution_count": 225,
   "metadata": {},
   "outputs": [
    {
     "data": {
      "text/html": [
       "<div>\n",
       "<style scoped>\n",
       "    .dataframe tbody tr th:only-of-type {\n",
       "        vertical-align: middle;\n",
       "    }\n",
       "\n",
       "    .dataframe tbody tr th {\n",
       "        vertical-align: top;\n",
       "    }\n",
       "\n",
       "    .dataframe thead th {\n",
       "        text-align: right;\n",
       "    }\n",
       "</style>\n",
       "<table border=\"1\" class=\"dataframe\">\n",
       "  <thead>\n",
       "    <tr style=\"text-align: right;\">\n",
       "      <th></th>\n",
       "      <th>ID</th>\n",
       "      <th>Mode</th>\n",
       "      <th>RT [min]</th>\n",
       "      <th>Name</th>\n",
       "      <th>Formula</th>\n",
       "    </tr>\n",
       "  </thead>\n",
       "  <tbody>\n",
       "    <tr>\n",
       "      <th>146</th>\n",
       "      <td>147</td>\n",
       "      <td>positive</td>\n",
       "      <td>2.580</td>\n",
       "      <td>147</td>\n",
       "      <td>C33 H41 N O6 P2</td>\n",
       "    </tr>\n",
       "    <tr>\n",
       "      <th>277</th>\n",
       "      <td>278</td>\n",
       "      <td>positive</td>\n",
       "      <td>3.057</td>\n",
       "      <td>278</td>\n",
       "      <td>NaN</td>\n",
       "    </tr>\n",
       "    <tr>\n",
       "      <th>473</th>\n",
       "      <td>474</td>\n",
       "      <td>positive</td>\n",
       "      <td>1.917</td>\n",
       "      <td>474</td>\n",
       "      <td>NaN</td>\n",
       "    </tr>\n",
       "    <tr>\n",
       "      <th>671</th>\n",
       "      <td>672</td>\n",
       "      <td>positive</td>\n",
       "      <td>2.660</td>\n",
       "      <td>Moxaverine</td>\n",
       "      <td>C20 H21 N O2</td>\n",
       "    </tr>\n",
       "    <tr>\n",
       "      <th>925</th>\n",
       "      <td>926</td>\n",
       "      <td>positive</td>\n",
       "      <td>2.250</td>\n",
       "      <td>926</td>\n",
       "      <td>C13 H29 N10 O5 P</td>\n",
       "    </tr>\n",
       "    <tr>\n",
       "      <th>994</th>\n",
       "      <td>995</td>\n",
       "      <td>positive</td>\n",
       "      <td>0.882</td>\n",
       "      <td>995</td>\n",
       "      <td>NaN</td>\n",
       "    </tr>\n",
       "    <tr>\n",
       "      <th>1770</th>\n",
       "      <td>1771</td>\n",
       "      <td>positive</td>\n",
       "      <td>3.001</td>\n",
       "      <td>1771</td>\n",
       "      <td>C13 H24 N4 O4</td>\n",
       "    </tr>\n",
       "    <tr>\n",
       "      <th>1990</th>\n",
       "      <td>1991</td>\n",
       "      <td>positive</td>\n",
       "      <td>3.247</td>\n",
       "      <td>1991</td>\n",
       "      <td>NaN</td>\n",
       "    </tr>\n",
       "    <tr>\n",
       "      <th>3170</th>\n",
       "      <td>3171</td>\n",
       "      <td>positive</td>\n",
       "      <td>1.131</td>\n",
       "      <td>3171</td>\n",
       "      <td>C12 H17 O2 P S</td>\n",
       "    </tr>\n",
       "    <tr>\n",
       "      <th>5462</th>\n",
       "      <td>5463</td>\n",
       "      <td>negative</td>\n",
       "      <td>3.758</td>\n",
       "      <td>N-Acetyl-L-methionine</td>\n",
       "      <td>C7 H13 N O3 S</td>\n",
       "    </tr>\n",
       "    <tr>\n",
       "      <th>6384</th>\n",
       "      <td>6385</td>\n",
       "      <td>negative</td>\n",
       "      <td>2.655</td>\n",
       "      <td>6385</td>\n",
       "      <td>C8 H7 N2 O P</td>\n",
       "    </tr>\n",
       "  </tbody>\n",
       "</table>\n",
       "</div>"
      ],
      "text/plain": [
       "        ID      Mode  RT [min]                   Name           Formula\n",
       "146    147  positive     2.580                    147   C33 H41 N O6 P2\n",
       "277    278  positive     3.057                    278               NaN\n",
       "473    474  positive     1.917                    474               NaN\n",
       "671    672  positive     2.660             Moxaverine      C20 H21 N O2\n",
       "925    926  positive     2.250                    926  C13 H29 N10 O5 P\n",
       "994    995  positive     0.882                    995               NaN\n",
       "1770  1771  positive     3.001                   1771     C13 H24 N4 O4\n",
       "1990  1991  positive     3.247                   1991               NaN\n",
       "3170  3171  positive     1.131                   3171    C12 H17 O2 P S\n",
       "5462  5463  negative     3.758  N-Acetyl-L-methionine     C7 H13 N O3 S\n",
       "6384  6385  negative     2.655                   6385      C8 H7 N2 O P"
      ]
     },
     "execution_count": 225,
     "metadata": {},
     "output_type": "execute_result"
    }
   ],
   "source": [
    "# Import MS_labels\n",
    "MS_labels = pd.read_excel('data/MS_labels.xlsx')\n",
    "# Check for potential MS ID.\n",
    "MSlabels_corr = MS_labels[MS_labels.ID.isin(MScorr_compd)]\n",
    "MSlabels_corr"
   ]
  },
  {
   "cell_type": "markdown",
   "metadata": {},
   "source": [
    "### Manual Representation for 0.30 cut off"
   ]
  },
  {
   "cell_type": "code",
   "execution_count": 186,
   "metadata": {},
   "outputs": [],
   "source": [
    "combined;"
   ]
  },
  {
   "cell_type": "code",
   "execution_count": 189,
   "metadata": {},
   "outputs": [
    {
     "data": {
      "text/plain": [
       "(256, 472)"
      ]
     },
     "execution_count": 189,
     "metadata": {},
     "output_type": "execute_result"
    }
   ],
   "source": [
    "final_MS.shape"
   ]
  },
  {
   "cell_type": "code",
   "execution_count": 207,
   "metadata": {},
   "outputs": [],
   "source": [
    "final_MS.columns = final_MS.columns.astype(str) # convert column head to numeric"
   ]
  },
  {
   "cell_type": "code",
   "execution_count": null,
   "metadata": {},
   "outputs": [],
   "source": [
    "np.corrcoef(final_NMR[column].astype(float), \n",
    "                                            final_MS[column2].astype(float))).abs()"
   ]
  },
  {
   "cell_type": "code",
   "execution_count": 213,
   "metadata": {},
   "outputs": [
    {
     "data": {
      "text/plain": [
       "0.5256788562499721"
      ]
     },
     "execution_count": 213,
     "metadata": {},
     "output_type": "execute_result"
    }
   ],
   "source": [
    "col_corr =np.corrcoef(final_MS['1991'].astype(float), final_MS['5463'].astype(float))\n",
    "col_corr[1][0]"
   ]
  },
  {
   "cell_type": "code",
   "execution_count": null,
   "metadata": {},
   "outputs": [],
   "source": []
  },
  {
   "cell_type": "code",
   "execution_count": null,
   "metadata": {},
   "outputs": [],
   "source": []
  },
  {
   "cell_type": "code",
   "execution_count": null,
   "metadata": {},
   "outputs": [],
   "source": []
  },
  {
   "cell_type": "markdown",
   "metadata": {},
   "source": [
    "## Function"
   ]
  },
  {
   "cell_type": "markdown",
   "metadata": {},
   "source": [
    "_[extract column value based on another column pandas dataframe](https://stackoverflow.com/questions/36684013/extract-column-value-based-on-another-column-pandas-dataframe)_"
   ]
  },
  {
   "cell_type": "code",
   "execution_count": null,
   "metadata": {},
   "outputs": [],
   "source": [
    "for feat in corr_result['NMR_Features']:\n",
    "    for feat2 in corr_result['NMR_Features']:\n",
    "        if feat = feat2: \n",
    "            corr_result.loc[corr_result['NMR_Features'] == feat, \n",
    "                            'MS_features'].iloc[0]\n",
    "    \n",
    "    \n",
    "    "
   ]
  },
  {
   "cell_type": "code",
   "execution_count": 139,
   "metadata": {},
   "outputs": [
    {
     "data": {
      "text/plain": [
       "2"
      ]
     },
     "execution_count": 139,
     "metadata": {},
     "output_type": "execute_result"
    }
   ],
   "source": [
    "l = [\"a\",\"b\",\"b\"]\n",
    "l.count(\"a\")\n",
    "l.count(\"b\")"
   ]
  },
  {
   "cell_type": "code",
   "execution_count": 151,
   "metadata": {},
   "outputs": [],
   "source": [
    "metab, metab_counter = [], []\n",
    "for feat in corr_result['NMR_Features']:\n",
    "    metab.append(feat)\n",
    "    metab_counter.append(list(corr_result['NMR_Features']).count(feat))"
   ]
  },
  {
   "cell_type": "code",
   "execution_count": 152,
   "metadata": {},
   "outputs": [
    {
     "data": {
      "text/plain": [
       "['unk1',\n",
       " 'Tatrate',\n",
       " 'unk8',\n",
       " 'fumarate',\n",
       " '4HPA',\n",
       " '4HPA',\n",
       " 'aminohippurate',\n",
       " 'indoxylsulfate',\n",
       " 'hypoxanthine_1',\n",
       " 'hypoxanthine_2',\n",
       " 'formate',\n",
       " 'formate']"
      ]
     },
     "execution_count": 152,
     "metadata": {},
     "output_type": "execute_result"
    }
   ],
   "source": [
    "metab"
   ]
  },
  {
   "cell_type": "code",
   "execution_count": 153,
   "metadata": {},
   "outputs": [
    {
     "data": {
      "text/plain": [
       "[1, 1, 1, 1, 2, 2, 1, 1, 1, 1, 2, 2]"
      ]
     },
     "execution_count": 153,
     "metadata": {},
     "output_type": "execute_result"
    }
   ],
   "source": [
    "metab_counter"
   ]
  },
  {
   "cell_type": "code",
   "execution_count": null,
   "metadata": {},
   "outputs": [],
   "source": []
  },
  {
   "cell_type": "code",
   "execution_count": null,
   "metadata": {},
   "outputs": [],
   "source": []
  },
  {
   "cell_type": "code",
   "execution_count": 147,
   "metadata": {},
   "outputs": [
    {
     "data": {
      "text/html": [
       "<div>\n",
       "<style scoped>\n",
       "    .dataframe tbody tr th:only-of-type {\n",
       "        vertical-align: middle;\n",
       "    }\n",
       "\n",
       "    .dataframe tbody tr th {\n",
       "        vertical-align: top;\n",
       "    }\n",
       "\n",
       "    .dataframe thead th {\n",
       "        text-align: right;\n",
       "    }\n",
       "</style>\n",
       "<table border=\"1\" class=\"dataframe\">\n",
       "  <thead>\n",
       "    <tr style=\"text-align: right;\">\n",
       "      <th></th>\n",
       "      <th>Name</th>\n",
       "      <th>Occurence</th>\n",
       "    </tr>\n",
       "  </thead>\n",
       "  <tbody>\n",
       "    <tr>\n",
       "      <th>0</th>\n",
       "      <td>unk1</td>\n",
       "      <td>1</td>\n",
       "    </tr>\n",
       "    <tr>\n",
       "      <th>1</th>\n",
       "      <td>Tatrate</td>\n",
       "      <td>1</td>\n",
       "    </tr>\n",
       "    <tr>\n",
       "      <th>2</th>\n",
       "      <td>unk8</td>\n",
       "      <td>1</td>\n",
       "    </tr>\n",
       "    <tr>\n",
       "      <th>3</th>\n",
       "      <td>fumarate</td>\n",
       "      <td>1</td>\n",
       "    </tr>\n",
       "    <tr>\n",
       "      <th>4</th>\n",
       "      <td>4HPA</td>\n",
       "      <td>2</td>\n",
       "    </tr>\n",
       "    <tr>\n",
       "      <th>5</th>\n",
       "      <td>4HPA</td>\n",
       "      <td>2</td>\n",
       "    </tr>\n",
       "    <tr>\n",
       "      <th>6</th>\n",
       "      <td>aminohippurate</td>\n",
       "      <td>1</td>\n",
       "    </tr>\n",
       "    <tr>\n",
       "      <th>7</th>\n",
       "      <td>indoxylsulfate</td>\n",
       "      <td>1</td>\n",
       "    </tr>\n",
       "    <tr>\n",
       "      <th>8</th>\n",
       "      <td>hypoxanthine_1</td>\n",
       "      <td>1</td>\n",
       "    </tr>\n",
       "    <tr>\n",
       "      <th>9</th>\n",
       "      <td>hypoxanthine_2</td>\n",
       "      <td>1</td>\n",
       "    </tr>\n",
       "    <tr>\n",
       "      <th>10</th>\n",
       "      <td>formate</td>\n",
       "      <td>2</td>\n",
       "    </tr>\n",
       "    <tr>\n",
       "      <th>11</th>\n",
       "      <td>formate</td>\n",
       "      <td>2</td>\n",
       "    </tr>\n",
       "  </tbody>\n",
       "</table>\n",
       "</div>"
      ],
      "text/plain": [
       "              Name  Occurence\n",
       "0             unk1          1\n",
       "1          Tatrate          1\n",
       "2             unk8          1\n",
       "3         fumarate          1\n",
       "4             4HPA          2\n",
       "5             4HPA          2\n",
       "6   aminohippurate          1\n",
       "7   indoxylsulfate          1\n",
       "8   hypoxanthine_1          1\n",
       "9   hypoxanthine_2          1\n",
       "10         formate          2\n",
       "11         formate          2"
      ]
     },
     "execution_count": 147,
     "metadata": {},
     "output_type": "execute_result"
    }
   ],
   "source": [
    "table = pd.DataFrame(\n",
    "    {'Name': metab,\n",
    "     'Occurence': metab_counter\n",
    "    })\n",
    "table"
   ]
  },
  {
   "cell_type": "code",
   "execution_count": null,
   "metadata": {},
   "outputs": [],
   "source": []
  },
  {
   "cell_type": "code",
   "execution_count": null,
   "metadata": {},
   "outputs": [],
   "source": []
  },
  {
   "cell_type": "code",
   "execution_count": 115,
   "metadata": {},
   "outputs": [
    {
     "data": {
      "text/html": [
       "<div>\n",
       "<style scoped>\n",
       "    .dataframe tbody tr th:only-of-type {\n",
       "        vertical-align: middle;\n",
       "    }\n",
       "\n",
       "    .dataframe tbody tr th {\n",
       "        vertical-align: top;\n",
       "    }\n",
       "\n",
       "    .dataframe thead th {\n",
       "        text-align: right;\n",
       "    }\n",
       "</style>\n",
       "<table border=\"1\" class=\"dataframe\">\n",
       "  <thead>\n",
       "    <tr style=\"text-align: right;\">\n",
       "      <th></th>\n",
       "      <th>ID</th>\n",
       "      <th>Mode</th>\n",
       "      <th>RT [min]</th>\n",
       "      <th>Name</th>\n",
       "      <th>Formula</th>\n",
       "    </tr>\n",
       "  </thead>\n",
       "  <tbody>\n",
       "    <tr>\n",
       "      <th>146</th>\n",
       "      <td>147</td>\n",
       "      <td>positive</td>\n",
       "      <td>2.580</td>\n",
       "      <td>147</td>\n",
       "      <td>C33 H41 N O6 P2</td>\n",
       "    </tr>\n",
       "    <tr>\n",
       "      <th>277</th>\n",
       "      <td>278</td>\n",
       "      <td>positive</td>\n",
       "      <td>3.057</td>\n",
       "      <td>278</td>\n",
       "      <td>NaN</td>\n",
       "    </tr>\n",
       "    <tr>\n",
       "      <th>473</th>\n",
       "      <td>474</td>\n",
       "      <td>positive</td>\n",
       "      <td>1.917</td>\n",
       "      <td>474</td>\n",
       "      <td>NaN</td>\n",
       "    </tr>\n",
       "    <tr>\n",
       "      <th>671</th>\n",
       "      <td>672</td>\n",
       "      <td>positive</td>\n",
       "      <td>2.660</td>\n",
       "      <td>Moxaverine</td>\n",
       "      <td>C20 H21 N O2</td>\n",
       "    </tr>\n",
       "    <tr>\n",
       "      <th>925</th>\n",
       "      <td>926</td>\n",
       "      <td>positive</td>\n",
       "      <td>2.250</td>\n",
       "      <td>926</td>\n",
       "      <td>C13 H29 N10 O5 P</td>\n",
       "    </tr>\n",
       "    <tr>\n",
       "      <th>994</th>\n",
       "      <td>995</td>\n",
       "      <td>positive</td>\n",
       "      <td>0.882</td>\n",
       "      <td>995</td>\n",
       "      <td>NaN</td>\n",
       "    </tr>\n",
       "    <tr>\n",
       "      <th>1770</th>\n",
       "      <td>1771</td>\n",
       "      <td>positive</td>\n",
       "      <td>3.001</td>\n",
       "      <td>1771</td>\n",
       "      <td>C13 H24 N4 O4</td>\n",
       "    </tr>\n",
       "    <tr>\n",
       "      <th>1990</th>\n",
       "      <td>1991</td>\n",
       "      <td>positive</td>\n",
       "      <td>3.247</td>\n",
       "      <td>1991</td>\n",
       "      <td>NaN</td>\n",
       "    </tr>\n",
       "    <tr>\n",
       "      <th>3170</th>\n",
       "      <td>3171</td>\n",
       "      <td>positive</td>\n",
       "      <td>1.131</td>\n",
       "      <td>3171</td>\n",
       "      <td>C12 H17 O2 P S</td>\n",
       "    </tr>\n",
       "    <tr>\n",
       "      <th>5462</th>\n",
       "      <td>5463</td>\n",
       "      <td>negative</td>\n",
       "      <td>3.758</td>\n",
       "      <td>N-Acetyl-L-methionine</td>\n",
       "      <td>C7 H13 N O3 S</td>\n",
       "    </tr>\n",
       "    <tr>\n",
       "      <th>6384</th>\n",
       "      <td>6385</td>\n",
       "      <td>negative</td>\n",
       "      <td>2.655</td>\n",
       "      <td>6385</td>\n",
       "      <td>C8 H7 N2 O P</td>\n",
       "    </tr>\n",
       "  </tbody>\n",
       "</table>\n",
       "</div>"
      ],
      "text/plain": [
       "        ID      Mode  RT [min]                   Name           Formula\n",
       "146    147  positive     2.580                    147   C33 H41 N O6 P2\n",
       "277    278  positive     3.057                    278               NaN\n",
       "473    474  positive     1.917                    474               NaN\n",
       "671    672  positive     2.660             Moxaverine      C20 H21 N O2\n",
       "925    926  positive     2.250                    926  C13 H29 N10 O5 P\n",
       "994    995  positive     0.882                    995               NaN\n",
       "1770  1771  positive     3.001                   1771     C13 H24 N4 O4\n",
       "1990  1991  positive     3.247                   1991               NaN\n",
       "3170  3171  positive     1.131                   3171    C12 H17 O2 P S\n",
       "5462  5463  negative     3.758  N-Acetyl-L-methionine     C7 H13 N O3 S\n",
       "6384  6385  negative     2.655                   6385      C8 H7 N2 O P"
      ]
     },
     "execution_count": 115,
     "metadata": {},
     "output_type": "execute_result"
    }
   ],
   "source": [
    "# Import MS_labels\n",
    "MS_labels = pd.read_excel('data/MS_labels.xlsx')\n",
    "# Check for potential MS ID.\n",
    "MSlabels_corr = MS_labels[MS_labels.ID.isin(MScorr_compd)]\n",
    "MSlabels_corr"
   ]
  },
  {
   "cell_type": "code",
   "execution_count": null,
   "metadata": {},
   "outputs": [],
   "source": []
  }
 ],
 "metadata": {
  "kernelspec": {
   "display_name": "Python 3",
   "language": "python",
   "name": "python3"
  },
  "language_info": {
   "codemirror_mode": {
    "name": "ipython",
    "version": 3
   },
   "file_extension": ".py",
   "mimetype": "text/x-python",
   "name": "python",
   "nbconvert_exporter": "python",
   "pygments_lexer": "ipython3",
   "version": "3.6.8"
  }
 },
 "nbformat": 4,
 "nbformat_minor": 2
}
