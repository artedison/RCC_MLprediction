{
 "cells": [
  {
   "cell_type": "markdown",
   "metadata": {},
   "source": [
    "# Identify Missing ID\n",
    "\n",
    "Author: Olatomiwa Bifarin<br>\n",
    "Department of Biochemistry and Molecular Biology<br>\n",
    "University of Georgia<br>\n",
    "Edison Lab<br>\n",
    "\n",
    "Last edited: 28JAN2020 \n",
    "\n",
    "_This is a static version of a Jupyter notebook, and work (documentation) is still in progress_ \n",
    "\n",
    "**Goals**: \n",
    "1. To merge NMR and MS Dataset. \n",
    "\n",
    "<a id=\"0\"></a>\n",
    "\n",
    "## Notebook Content\n",
    "\n",
    "1.  [RCC Prediction in Model Cohort](#1)\n",
    "2.  [RCC Prediction: Test Cohort](#2)\n",
    "3.  [Chemical Information of Biomarkers](#3)\n"
   ]
  },
  {
   "cell_type": "markdown",
   "metadata": {},
   "source": [
    "## Dataframes\n",
    "-  The original form of the MS data from the Facundo Lab at Georgia tech is uploaded as the `dfMS` dataframe.\n",
    "-  `MS-Labels` is the dataframe for Mass Spectrometry detected metabolites IDs, mode, retention time and formula\n",
    "-  `MS` is the dataframe for the MS Peak Intensities\n",
    "-  `MSData` is the dataframe for `all` the MS Peak Intensities with patient ID and Groups\n",
    "-  `dfNMR` contains representative peaks for features/metabolites from NMR\n",
    "-  `combined` is the NMR merged with the MS dataset. \n",
    "-  `combined_clinic` is the dataframe that contains all combined NMR and MS samples collected in the clinic. \n",
    "-  `PMdata`\n",
    "-  `PMdata2`\n",
    "-  `modelcohort`\n",
    "-  `testcohort`\n",
    "-  `qfeatures`\n",
    "-  `MLfeatures??`\n",
    "-  `MLfeatures2??`\n",
    "-  `biomarker`\n",
    "-  `biomarker2`\n",
    "-  `MS_labels_bmarkers`\n",
    "-  `MS_labels_qmarkers`"
   ]
  },
  {
   "cell_type": "code",
   "execution_count": 13,
   "metadata": {},
   "outputs": [],
   "source": [
    "import pandas as pd\n",
    "import numpy as np\n",
    "from matplotlib import pyplot as plt\n",
    "from matplotlib import style\n",
    "import scipy\n",
    "#For Seaborn plots\n",
    "import seaborn as sns; sns.set(style='white')\n",
    "#To ignore warning\n",
    "import warnings\n",
    "warnings.filterwarnings('ignore')\n",
    "\n",
    "# More sharp and legible graphics\n",
    "%config InlineBackend.figure_format = 'retina'\n",
    "\n",
    "# Set seaborn figure labels to 'talk', to be more visible. \n",
    "sns.set_context('talk', font_scale=0.8)"
   ]
  },
  {
   "cell_type": "markdown",
   "metadata": {},
   "source": [
    "# 1. RCC Prediction in Model Cohort\n",
    "<a id=\"1\"></a>"
   ]
  },
  {
   "cell_type": "code",
   "execution_count": 14,
   "metadata": {},
   "outputs": [
    {
     "data": {
      "text/html": [
       "        <script type=\"text/javascript\">\n",
       "        window.PlotlyConfig = {MathJaxConfig: 'local'};\n",
       "        if (window.MathJax) {MathJax.Hub.Config({SVG: {font: \"STIX-Web\"}});}\n",
       "        if (typeof require !== 'undefined') {\n",
       "        require.undef(\"plotly\");\n",
       "        requirejs.config({\n",
       "            paths: {\n",
       "                'plotly': ['https://cdn.plot.ly/plotly-latest.min']\n",
       "            }\n",
       "        });\n",
       "        require(['plotly'], function(Plotly) {\n",
       "            window._Plotly = Plotly;\n",
       "        });\n",
       "        }\n",
       "        </script>\n",
       "        "
      ]
     },
     "metadata": {},
     "output_type": "display_data"
    }
   ],
   "source": [
    "# Set seaborn figure labels to 'talk', to be more visible. \n",
    "sns.set_context('talk', font_scale=0.8)\n",
    "import statsmodels as sms\n",
    "from statsmodels.stats import multitest\n",
    "from statistics import mean\n",
    "\n",
    "# Machine Learning Libraries\n",
    "from sklearn.metrics import roc_curve, auc\n",
    "from sklearn.metrics import roc_auc_score\n",
    "\n",
    "from sklearn.neighbors import KNeighborsClassifier\n",
    "from sklearn import svm\n",
    "from sklearn.ensemble import BaggingClassifier, GradientBoostingClassifier\n",
    "\n",
    "# Import Random Forest classifier, sklearn metrics\n",
    "from sklearn.ensemble import RandomForestClassifier\n",
    "from sklearn import metrics\n",
    "\n",
    "# test train split and K-fold validation\n",
    "from sklearn import model_selection\n",
    "from sklearn.model_selection import train_test_split\n",
    "from sklearn.model_selection import KFold\n",
    "\n",
    "from sklearn import decomposition\n",
    "\n",
    "from sklearn.ensemble import RandomForestClassifier\n",
    "from sklearn.feature_selection import RFECV\n",
    "\n",
    "# Plotly and Network Graph Libraries\n",
    "import plotly as py\n",
    "import plotly.graph_objs as go\n",
    "\n",
    "import networkx as nx\n",
    "\n",
    "py.offline.init_notebook_mode(connected=True)"
   ]
  },
  {
   "cell_type": "markdown",
   "metadata": {},
   "source": [
    "#### Export Model Cohort Data"
   ]
  },
  {
   "cell_type": "code",
   "execution_count": 15,
   "metadata": {},
   "outputs": [],
   "source": [
    "modelcohort = pd.read_excel('data/modelcohort.xlsx')"
   ]
  },
  {
   "cell_type": "markdown",
   "metadata": {},
   "source": [
    "### a. Feature Selection "
   ]
  },
  {
   "cell_type": "markdown",
   "metadata": {},
   "source": [
    "### (i)  Select features with greater than 2-fold changes"
   ]
  },
  {
   "cell_type": "markdown",
   "metadata": {},
   "source": [
    "Non-metabolic features in the `modelcohort` dataframe include the following: \n",
    "-  Sample ID\n",
    "-  Patient ID\n",
    "-  Collection\n",
    "-  Gender\n",
    "-  Race\n",
    "-  BMI\n",
    "-  Smoker\n",
    "-  Age\n",
    "-  Groups"
   ]
  },
  {
   "cell_type": "code",
   "execution_count": 16,
   "metadata": {},
   "outputs": [
    {
     "data": {
      "text/plain": [
       "(7145, 3)"
      ]
     },
     "execution_count": 16,
     "metadata": {},
     "output_type": "execute_result"
    }
   ],
   "source": [
    "NMRMS = modelcohort.drop(['Sample ID', 'Patient ID', 'Collection', 'Gender',\n",
    "                         'Race', 'BMI', 'Smoker', 'Age'], axis=1)\n",
    "Control = NMRMS[(NMRMS['Groups'] == 'Control')]\n",
    "RCC = NMRMS[(NMRMS['Groups'] == 'RCC')]\n",
    "\n",
    "dfmean = pd.DataFrame({'Features':NMRMS.drop(['Groups'], axis=1).mean(axis=0).index, \n",
    "                       'Control':Control.drop(['Groups'], axis=1).mean(axis=0).values,\n",
    "                       'RCC':RCC.drop(['Groups'], axis=1).mean(axis=0).values})\n",
    "dfmean.shape"
   ]
  },
  {
   "cell_type": "code",
   "execution_count": 17,
   "metadata": {},
   "outputs": [
    {
     "data": {
      "text/plain": [
       "2104"
      ]
     },
     "execution_count": 17,
     "metadata": {},
     "output_type": "execute_result"
    }
   ],
   "source": [
    "cols = []\n",
    "ctr_val = dfmean['Control']\n",
    "rcc_val = dfmean['RCC']\n",
    "\n",
    "for ctr, rcc in zip(ctr_val, rcc_val):\n",
    "    ratio1 = ctr/rcc\n",
    "    ratio2 = rcc/ctr\n",
    "    if ratio1 > 2:\n",
    "        feature = dfmean[dfmean['Control']==ctr]['Features'].values.tolist()\n",
    "        cols.append(feature)\n",
    "    elif ratio2 > 2:\n",
    "        feature = dfmean[dfmean['Control']==ctr]['Features'].values.tolist()\n",
    "        cols.append(feature)\n",
    "xfold_feat = [val for sublist in cols for val in sublist] # flatten out list of list.\n",
    "len(xfold_feat)"
   ]
  },
  {
   "cell_type": "markdown",
   "metadata": {},
   "source": [
    "### (ii) _t_-Test Feature Selection "
   ]
  },
  {
   "cell_type": "markdown",
   "metadata": {},
   "source": [
    "_T-Test Function_"
   ]
  },
  {
   "cell_type": "code",
   "execution_count": 18,
   "metadata": {},
   "outputs": [],
   "source": [
    "def Ttest(metabolites, dfControl, dfTreat, alpha=0.05, var=True):\n",
    "    '''\n",
    "    Function conducts a T-test for the metabolites differences between two groups with \n",
    "    Benjamini-Hocberg FDR correction\n",
    "    \n",
    "    Inputs: \n",
    "    metabolites = A list containing names of metabolites\n",
    "    dfControl = A pandas dataframe containing the control group metabolites data\n",
    "    dfTreat =  A pandas dataframe containing the treatment group metabolites data\n",
    "    alpha = alpha for statistical significant judgment, default 0.05\n",
    "    var = If True (default), perform a standard independent 2 sample test that assumes \n",
    "    equal population variances [1]. If False, perform Welch’s t-test, which does not \n",
    "    assume equal population variance\n",
    "    \n",
    "    Outputs: A pandas dataframe with p-values of numerical cohort characteristics. \n",
    "    \n",
    "    '''\n",
    "    ttest_dict = {}\n",
    "    for metabolite in metabolites:\n",
    "        statistic, pvalue =  scipy.stats.ttest_ind(dfControl[metabolite], \n",
    "                                               dfTreat[metabolite], \n",
    "                                               equal_var=var)\n",
    "        ttest_dict[metabolite] = pvalue \n",
    "        # a dictionary containing name of metabolites and p value after t-test\n",
    "    ttest = pd.DataFrame.from_dict(ttest_dict, orient='index') # the dictionary in pandas df\n",
    "    ttest_list=list(ttest_dict.values()) #values (pvalues) of ttest result in a list\n",
    "    reject, pval_corrected, _, _ = sms.stats.multitest.multipletests(ttest_list, \n",
    "                                                                 alpha=alpha, \n",
    "                                                                 method='fdr_bh')\n",
    "    ttest_results = pd.DataFrame({'Metabolite': metabolites, 'T-test p-value': ttest_list, \n",
    "                              'FDR p-value': pval_corrected, 'Reject H0': reject})\n",
    "    Table = ttest_results.sort_values(by=['FDR p-value'])\n",
    "    return Table"
   ]
  },
  {
   "cell_type": "code",
   "execution_count": 19,
   "metadata": {},
   "outputs": [
    {
     "name": "stdout",
     "output_type": "stream",
     "text": [
      "The total number of significant metabolites/Features is:  435\n"
     ]
    }
   ],
   "source": [
    "# '''List of final metabolites set'''\n",
    "metabolite_list = xfold_feat\n",
    "\n",
    "# '''List of final metabolites set'''\n",
    "ttest_result = Ttest(metabolite_list, Control, RCC, alpha=0.05, var=True)\n",
    "\n",
    "# '''List of Statistically relevant metabolites'''\n",
    "# Select metabolites with <0.05 FDR\n",
    "stat_sig = ttest_result.loc[ttest_result['Reject H0'] == True]\n",
    "\n",
    "# Select metabolites with <0.05 t-test\n",
    "#stat_sig = ttest_result.loc[ttest_result['T-test p-value'] <= 0.05]\n",
    "print(\"The total number of significant metabolites/Features is: \", len(stat_sig))"
   ]
  },
  {
   "cell_type": "code",
   "execution_count": 20,
   "metadata": {},
   "outputs": [],
   "source": [
    "Feature = stat_sig['Metabolite'].values.tolist(); # stat MS significant metabolites\n",
    "qfeatures = NMRMS[Feature] # p<0.05 metabolites\n",
    "#MLfeatures =(MLfeatures - MLfeatures.mean(axis=0))/MLfeatures.std(axis=0) #autoscaling"
   ]
  },
  {
   "cell_type": "code",
   "execution_count": 21,
   "metadata": {},
   "outputs": [
    {
     "data": {
      "text/plain": [
       "(62, 435)"
      ]
     },
     "execution_count": 21,
     "metadata": {},
     "output_type": "execute_result"
    }
   ],
   "source": [
    "qfeatures.shape"
   ]
  },
  {
   "cell_type": "code",
   "execution_count": 22,
   "metadata": {},
   "outputs": [],
   "source": [
    "qfeatures.astype(float);"
   ]
  },
  {
   "cell_type": "code",
   "execution_count": 23,
   "metadata": {},
   "outputs": [],
   "source": [
    "correlated_features = set()\n",
    "correlation_matrix = qfeatures.astype(float).corr()\n",
    "\n",
    "for i in range(len(correlation_matrix.columns)):\n",
    "    for j in range(i):\n",
    "        if abs(correlation_matrix.iloc[i, j]) > 0.8:\n",
    "            colname = correlation_matrix.columns[i]\n",
    "            correlated_features.add(colname)"
   ]
  },
  {
   "cell_type": "code",
   "execution_count": 24,
   "metadata": {},
   "outputs": [
    {
     "data": {
      "text/plain": [
       "(62, 132)"
      ]
     },
     "execution_count": 24,
     "metadata": {},
     "output_type": "execute_result"
    }
   ],
   "source": [
    "UNCfeatures = qfeatures.drop(correlated_features, axis=1)\n",
    "UNCfeatures.shape"
   ]
  },
  {
   "cell_type": "markdown",
   "metadata": {},
   "source": [
    "### (iii). PLSRegression for Feature Selection"
   ]
  },
  {
   "cell_type": "markdown",
   "metadata": {},
   "source": [
    "Reference: \n",
    "-  https://nirpyresearch.com/variable-selection-method-pls-python/\n",
    "-  https://github.com/scikit-learn/scikit-learn/issues/7050\n",
    "-  https://scikit-learn.org/stable/modules/generated/sklearn.cross_decomposition.PLSRegression.html"
   ]
  },
  {
   "cell_type": "code",
   "execution_count": 25,
   "metadata": {},
   "outputs": [],
   "source": [
    "dfgrp = NMRMS.filter(['Groups'], axis=1)\n",
    "# convert strings (RCC, Control) to integers\n",
    "dfgroup = dfgrp['Groups'].map({'Control': 0, 'RCC': 1}) \n",
    "# Features and groups\n",
    "X = UNCfeatures.values\n",
    "y = dfgroup.values"
   ]
  },
  {
   "cell_type": "code",
   "execution_count": 26,
   "metadata": {},
   "outputs": [],
   "source": [
    "from sklearn.cross_decomposition import PLSRegression\n",
    "from sklearn.model_selection import cross_val_predict\n",
    "from sklearn.metrics import mean_squared_error, r2_score"
   ]
  },
  {
   "cell_type": "code",
   "execution_count": 27,
   "metadata": {},
   "outputs": [
    {
     "data": {
      "text/plain": [
       "PLSRegression(copy=True, max_iter=500, n_components=2, scale=True, tol=1e-06)"
      ]
     },
     "execution_count": 27,
     "metadata": {},
     "output_type": "execute_result"
    }
   ],
   "source": [
    "pls = PLSRegression()\n",
    "pls.fit(X, y)"
   ]
  },
  {
   "cell_type": "markdown",
   "metadata": {},
   "source": [
    "*PLS coefficient of the fit*"
   ]
  },
  {
   "cell_type": "code",
   "execution_count": 28,
   "metadata": {},
   "outputs": [],
   "source": [
    "pls.coef_[:,0];"
   ]
  },
  {
   "cell_type": "code",
   "execution_count": 29,
   "metadata": {},
   "outputs": [],
   "source": [
    "def vip(x, y, model):\n",
    "    t = model.x_scores_\n",
    "    w = model.x_weights_\n",
    "    q = model.y_loadings_\n",
    "\n",
    "    m, p = x.shape\n",
    "    _, h = t.shape\n",
    "\n",
    "    vips = np.zeros((p,))\n",
    "\n",
    "    s = np.diag(t.T @ t @ q.T @ q).reshape(h, -1)\n",
    "    total_s = np.sum(s)\n",
    "\n",
    "    for i in range(p):\n",
    "        weight = np.array([ (w[i,j] / np.linalg.norm(w[:,j]))**2 for j in range(h) ])\n",
    "        vips[i] = np.sqrt(p*(s.T @ weight)/total_s)\n",
    "\n",
    "    return vips"
   ]
  },
  {
   "cell_type": "code",
   "execution_count": 30,
   "metadata": {},
   "outputs": [],
   "source": [
    "vip_list = vip(X, y, pls.fit(X, y))"
   ]
  },
  {
   "cell_type": "code",
   "execution_count": 31,
   "metadata": {},
   "outputs": [],
   "source": [
    "list_of_tuples = list(zip(UNCfeatures.columns, vip_list))\n",
    "df_feat = pd.DataFrame(list_of_tuples, columns = ['Metabolites', 'Importance'])\n",
    "df_feat = df_feat.sort_values(by='Importance', ascending=False)\n",
    "#df_feat = df_feat.loc[df_feat['Ranking'] == True]\n",
    "df_feat.head(20);"
   ]
  },
  {
   "cell_type": "code",
   "execution_count": 32,
   "metadata": {},
   "outputs": [],
   "source": [
    "PLSfeatures = NMRMS[df_feat['Metabolites'][:20].tolist()] # top 20 ML PLS features"
   ]
  },
  {
   "cell_type": "markdown",
   "metadata": {},
   "source": [
    "### (iv) Recursive Feature Elimination for Feature Selection"
   ]
  },
  {
   "cell_type": "code",
   "execution_count": 33,
   "metadata": {},
   "outputs": [],
   "source": [
    "dfgrp = NMRMS.filter(['Groups'], axis=1)\n",
    "# convert strings (RCC, Control) to integers\n",
    "dfgroup = dfgrp['Groups'].map({'Control': 0, 'RCC': 1}) \n",
    "# Features and groups\n",
    "X = UNCfeatures.values\n",
    "y = dfgroup.values"
   ]
  },
  {
   "cell_type": "code",
   "execution_count": 34,
   "metadata": {},
   "outputs": [
    {
     "name": "stdout",
     "output_type": "stream",
     "text": [
      "Optimal number of features : 103\n"
     ]
    },
    {
     "data": {
      "image/png": "[encoded data removed]",
      "text/plain": [
       "<Figure size 432x288 with 1 Axes>"
      ]
     },
     "metadata": {
      "image/png": {
       "height": 273,
       "width": 518
      }
     },
     "output_type": "display_data"
    }
   ],
   "source": [
    "# Create the RFE object and compute a cross-validated score.\n",
    "#RF= RandomForestClassifier(n_estimators=500, max_leaf_nodes=16, n_jobs=-1, class_weight=\"balanced\",  random_state=42)\n",
    "RF=RandomForestClassifier(n_estimators=100, random_state=42)\n",
    "\n",
    "\n",
    "# Create a custom CV so we can seed with random state\n",
    "rsk = model_selection.StratifiedKFold(n_splits=5, random_state=42)\n",
    "\n",
    "# The \"accuracy\" scoring is proportional to the number of correct\n",
    "# classifications\n",
    "accuracy = RFECV(estimator=RF, cv=rsk, scoring='accuracy') #'accuracy'\n",
    "precision = RFECV(estimator=RF, cv=rsk, scoring='precision') #'accuracy'\n",
    "recall = RFECV(estimator=RF, cv=rsk, scoring='recall') #'accuracy'\n",
    "\n",
    "accuracy.fit(X, y)\n",
    "precision.fit(X, y)\n",
    "recall.fit(X,y)\n",
    "\n",
    "print(\"Optimal number of features : %d\" % accuracy.n_features_)\n",
    "\n",
    "# Plot number of features VS. cross-validation scores\n",
    "plt.figure()\n",
    "plt.xlabel(\"Number of features selected\")\n",
    "plt.ylabel(\"Prediction Score\")\n",
    "plt.plot(range(1, len(accuracy.grid_scores_) + 1), \n",
    "         accuracy.grid_scores_, label='Accuracy')\n",
    "plt.plot(range(1, len(precision.grid_scores_) + 1), \n",
    "         precision.grid_scores_, label='Sensitivity')\n",
    "plt.plot(range(1, len(recall.grid_scores_) + 1), \n",
    "         recall.grid_scores_, label='Specificity')\n",
    "plt.legend(loc='center left', bbox_to_anchor=(1, 0.5))\n",
    "plt.show()"
   ]
  },
  {
   "cell_type": "code",
   "execution_count": 35,
   "metadata": {},
   "outputs": [
    {
     "name": "stdout",
     "output_type": "stream",
     "text": [
      "The highest accuracy features is 98.33333333333331%\n"
     ]
    }
   ],
   "source": [
    "print (\"The highest accuracy features is {}%\" .format(max(accuracy.grid_scores_)*100))"
   ]
  },
  {
   "cell_type": "markdown",
   "metadata": {},
   "source": [
    "Rank features by the features importance from `RF-RFECV` algorithms. "
   ]
  },
  {
   "cell_type": "code",
   "execution_count": 36,
   "metadata": {},
   "outputs": [
    {
     "data": {
      "text/html": [
       "<div>\n",
       "<style scoped>\n",
       "    .dataframe tbody tr th:only-of-type {\n",
       "        vertical-align: middle;\n",
       "    }\n",
       "\n",
       "    .dataframe tbody tr th {\n",
       "        vertical-align: top;\n",
       "    }\n",
       "\n",
       "    .dataframe thead th {\n",
       "        text-align: right;\n",
       "    }\n",
       "</style>\n",
       "<table border=\"1\" class=\"dataframe\">\n",
       "  <thead>\n",
       "    <tr style=\"text-align: right;\">\n",
       "      <th></th>\n",
       "      <th>Metabolites</th>\n",
       "      <th>Importance</th>\n",
       "      <th>Selected</th>\n",
       "      <th>Ranking</th>\n",
       "    </tr>\n",
       "  </thead>\n",
       "  <tbody>\n",
       "    <tr>\n",
       "      <th>1</th>\n",
       "      <td>3872</td>\n",
       "      <td>0.067131</td>\n",
       "      <td>True</td>\n",
       "      <td>1</td>\n",
       "    </tr>\n",
       "    <tr>\n",
       "      <th>2</th>\n",
       "      <td>3675</td>\n",
       "      <td>0.051305</td>\n",
       "      <td>True</td>\n",
       "      <td>1</td>\n",
       "    </tr>\n",
       "    <tr>\n",
       "      <th>66</th>\n",
       "      <td>2809</td>\n",
       "      <td>0.050428</td>\n",
       "      <td>False</td>\n",
       "      <td>25</td>\n",
       "    </tr>\n",
       "    <tr>\n",
       "      <th>5</th>\n",
       "      <td>4080</td>\n",
       "      <td>0.046002</td>\n",
       "      <td>True</td>\n",
       "      <td>1</td>\n",
       "    </tr>\n",
       "    <tr>\n",
       "      <th>58</th>\n",
       "      <td>2577</td>\n",
       "      <td>0.043519</td>\n",
       "      <td>True</td>\n",
       "      <td>1</td>\n",
       "    </tr>\n",
       "    <tr>\n",
       "      <th>4</th>\n",
       "      <td>6261</td>\n",
       "      <td>0.035327</td>\n",
       "      <td>True</td>\n",
       "      <td>1</td>\n",
       "    </tr>\n",
       "    <tr>\n",
       "      <th>7</th>\n",
       "      <td>3804</td>\n",
       "      <td>0.033225</td>\n",
       "      <td>True</td>\n",
       "      <td>1</td>\n",
       "    </tr>\n",
       "    <tr>\n",
       "      <th>11</th>\n",
       "      <td>3141</td>\n",
       "      <td>0.030105</td>\n",
       "      <td>True</td>\n",
       "      <td>1</td>\n",
       "    </tr>\n",
       "    <tr>\n",
       "      <th>0</th>\n",
       "      <td>2102</td>\n",
       "      <td>0.028605</td>\n",
       "      <td>True</td>\n",
       "      <td>1</td>\n",
       "    </tr>\n",
       "    <tr>\n",
       "      <th>61</th>\n",
       "      <td>5110</td>\n",
       "      <td>0.021525</td>\n",
       "      <td>False</td>\n",
       "      <td>26</td>\n",
       "    </tr>\n",
       "    <tr>\n",
       "      <th>40</th>\n",
       "      <td>3160</td>\n",
       "      <td>0.020974</td>\n",
       "      <td>True</td>\n",
       "      <td>1</td>\n",
       "    </tr>\n",
       "    <tr>\n",
       "      <th>89</th>\n",
       "      <td>1771</td>\n",
       "      <td>0.020222</td>\n",
       "      <td>True</td>\n",
       "      <td>1</td>\n",
       "    </tr>\n",
       "    <tr>\n",
       "      <th>14</th>\n",
       "      <td>1481</td>\n",
       "      <td>0.019528</td>\n",
       "      <td>True</td>\n",
       "      <td>1</td>\n",
       "    </tr>\n",
       "    <tr>\n",
       "      <th>3</th>\n",
       "      <td>720</td>\n",
       "      <td>0.017528</td>\n",
       "      <td>True</td>\n",
       "      <td>1</td>\n",
       "    </tr>\n",
       "    <tr>\n",
       "      <th>46</th>\n",
       "      <td>6389</td>\n",
       "      <td>0.017167</td>\n",
       "      <td>True</td>\n",
       "      <td>1</td>\n",
       "    </tr>\n",
       "    <tr>\n",
       "      <th>59</th>\n",
       "      <td>5507</td>\n",
       "      <td>0.015885</td>\n",
       "      <td>True</td>\n",
       "      <td>1</td>\n",
       "    </tr>\n",
       "    <tr>\n",
       "      <th>65</th>\n",
       "      <td>2005</td>\n",
       "      <td>0.015772</td>\n",
       "      <td>True</td>\n",
       "      <td>1</td>\n",
       "    </tr>\n",
       "    <tr>\n",
       "      <th>6</th>\n",
       "      <td>6262</td>\n",
       "      <td>0.014357</td>\n",
       "      <td>True</td>\n",
       "      <td>1</td>\n",
       "    </tr>\n",
       "    <tr>\n",
       "      <th>38</th>\n",
       "      <td>6385</td>\n",
       "      <td>0.013761</td>\n",
       "      <td>True</td>\n",
       "      <td>1</td>\n",
       "    </tr>\n",
       "    <tr>\n",
       "      <th>47</th>\n",
       "      <td>4408</td>\n",
       "      <td>0.013186</td>\n",
       "      <td>True</td>\n",
       "      <td>1</td>\n",
       "    </tr>\n",
       "  </tbody>\n",
       "</table>\n",
       "</div>"
      ],
      "text/plain": [
       "    Metabolites  Importance  Selected  Ranking\n",
       "1          3872    0.067131      True        1\n",
       "2          3675    0.051305      True        1\n",
       "66         2809    0.050428     False       25\n",
       "5          4080    0.046002      True        1\n",
       "58         2577    0.043519      True        1\n",
       "4          6261    0.035327      True        1\n",
       "7          3804    0.033225      True        1\n",
       "11         3141    0.030105      True        1\n",
       "0          2102    0.028605      True        1\n",
       "61         5110    0.021525     False       26\n",
       "40         3160    0.020974      True        1\n",
       "89         1771    0.020222      True        1\n",
       "14         1481    0.019528      True        1\n",
       "3           720    0.017528      True        1\n",
       "46         6389    0.017167      True        1\n",
       "59         5507    0.015885      True        1\n",
       "65         2005    0.015772      True        1\n",
       "6          6262    0.014357      True        1\n",
       "38         6385    0.013761      True        1\n",
       "47         4408    0.013186      True        1"
      ]
     },
     "execution_count": 36,
     "metadata": {},
     "output_type": "execute_result"
    }
   ],
   "source": [
    "list_of_tuples = list(zip(UNCfeatures.columns, \n",
    "                          accuracy.estimator_.feature_importances_, \n",
    "                          accuracy.support_, accuracy.ranking_))\n",
    "df_feat = pd.DataFrame(list_of_tuples, columns = ['Metabolites', 'Importance', \n",
    "                                                  'Selected', 'Ranking'])\n",
    "df_feat = df_feat.sort_values(by='Importance', ascending=False)\n",
    "#df_feat = df_feat.loc[df_feat['Ranking'] == True]\n",
    "df_feat.head(20)"
   ]
  },
  {
   "cell_type": "markdown",
   "metadata": {},
   "source": [
    "_Select the features with the top 20 RF feature importance score or all features selected by the RFECV-RF_\n",
    "\n",
    "In order to use the top features with the lowest q-values, use the the `stat_sig` dataframes"
   ]
  },
  {
   "cell_type": "code",
   "execution_count": 37,
   "metadata": {},
   "outputs": [],
   "source": [
    "RFfeatures = NMRMS[df_feat['Metabolites'][:20].tolist()] # top 20 ML features\n",
    "#MLfeatures = NMRMS[df_feat['Metabolites'].tolist()] # all selected features from RFECV-RF\n",
    "#MLfeatures =(MLfeatures - MLfeatures.mean(axis=0))/MLfeatures.std(axis=0) #autoscaling"
   ]
  },
  {
   "cell_type": "markdown",
   "metadata": {},
   "source": [
    "#### Converge the PLS-DA and RF features."
   ]
  },
  {
   "cell_type": "code",
   "execution_count": 38,
   "metadata": {},
   "outputs": [
    {
     "data": {
      "text/plain": [
       "Index([2102, 3872,  720, 3675, 4080, 6261, 6262, 3804,  819, 1701, 5887, 3141,\n",
       "       1481, 6095, 2455, 3526,  278, 7087, 2850, 4766],\n",
       "      dtype='object')"
      ]
     },
     "execution_count": 38,
     "metadata": {},
     "output_type": "execute_result"
    }
   ],
   "source": [
    "PLSfeatures.columns"
   ]
  },
  {
   "cell_type": "code",
   "execution_count": 39,
   "metadata": {},
   "outputs": [
    {
     "data": {
      "text/plain": [
       "Index([3872, 3675, 2809, 4080, 2577, 6261, 3804, 3141, 2102, 5110, 3160, 1771,\n",
       "       1481,  720, 6389, 5507, 2005, 6262, 6385, 4408],\n",
       "      dtype='object')"
      ]
     },
     "execution_count": 39,
     "metadata": {},
     "output_type": "execute_result"
    }
   ],
   "source": [
    "RFfeatures.columns"
   ]
  },
  {
   "cell_type": "code",
   "execution_count": 40,
   "metadata": {},
   "outputs": [],
   "source": [
    "final_features = set(PLSfeatures) - (set(PLSfeatures) - set(RFfeatures))"
   ]
  },
  {
   "cell_type": "code",
   "execution_count": 41,
   "metadata": {},
   "outputs": [
    {
     "data": {
      "text/plain": [
       "{720, 1481, 2102, 3141, 3675, 3804, 3872, 4080, 6261, 6262}"
      ]
     },
     "execution_count": 41,
     "metadata": {},
     "output_type": "execute_result"
    }
   ],
   "source": [
    "final_features"
   ]
  },
  {
   "cell_type": "code",
   "execution_count": 42,
   "metadata": {},
   "outputs": [],
   "source": [
    "# Import MS_labels\n",
    "MS_labels = pd.read_excel('data/MS_labels.xlsx')"
   ]
  },
  {
   "cell_type": "code",
   "execution_count": 43,
   "metadata": {},
   "outputs": [
    {
     "data": {
      "text/html": [
       "<div>\n",
       "<style scoped>\n",
       "    .dataframe tbody tr th:only-of-type {\n",
       "        vertical-align: middle;\n",
       "    }\n",
       "\n",
       "    .dataframe tbody tr th {\n",
       "        vertical-align: top;\n",
       "    }\n",
       "\n",
       "    .dataframe thead th {\n",
       "        text-align: right;\n",
       "    }\n",
       "</style>\n",
       "<table border=\"1\" class=\"dataframe\">\n",
       "  <thead>\n",
       "    <tr style=\"text-align: right;\">\n",
       "      <th></th>\n",
       "      <th>ID</th>\n",
       "      <th>Mode</th>\n",
       "      <th>RT [min]</th>\n",
       "      <th>Name</th>\n",
       "      <th>Formula</th>\n",
       "    </tr>\n",
       "  </thead>\n",
       "  <tbody>\n",
       "    <tr>\n",
       "      <th>719</th>\n",
       "      <td>720</td>\n",
       "      <td>positive</td>\n",
       "      <td>2.562</td>\n",
       "      <td>2-Aminoacetophenone;O-Acetylaniline</td>\n",
       "      <td>C8 H9 N O</td>\n",
       "    </tr>\n",
       "    <tr>\n",
       "      <th>1480</th>\n",
       "      <td>1481</td>\n",
       "      <td>positive</td>\n",
       "      <td>6.290</td>\n",
       "      <td>1481</td>\n",
       "      <td>NaN</td>\n",
       "    </tr>\n",
       "    <tr>\n",
       "      <th>2101</th>\n",
       "      <td>2102</td>\n",
       "      <td>positive</td>\n",
       "      <td>3.449</td>\n",
       "      <td>N,N-Diisopropylethylamine (DIPEA)</td>\n",
       "      <td>C8 H19 N</td>\n",
       "    </tr>\n",
       "    <tr>\n",
       "      <th>3140</th>\n",
       "      <td>3141</td>\n",
       "      <td>positive</td>\n",
       "      <td>1.133</td>\n",
       "      <td>3141</td>\n",
       "      <td>C7 H18 N8 O6 S</td>\n",
       "    </tr>\n",
       "    <tr>\n",
       "      <th>3674</th>\n",
       "      <td>3675</td>\n",
       "      <td>positive</td>\n",
       "      <td>1.184</td>\n",
       "      <td>3675</td>\n",
       "      <td>NaN</td>\n",
       "    </tr>\n",
       "    <tr>\n",
       "      <th>3803</th>\n",
       "      <td>3804</td>\n",
       "      <td>positive</td>\n",
       "      <td>2.595</td>\n",
       "      <td>3804</td>\n",
       "      <td>C4 H12 N O6 P</td>\n",
       "    </tr>\n",
       "    <tr>\n",
       "      <th>3871</th>\n",
       "      <td>3872</td>\n",
       "      <td>positive</td>\n",
       "      <td>4.049</td>\n",
       "      <td>3872</td>\n",
       "      <td>NaN</td>\n",
       "    </tr>\n",
       "    <tr>\n",
       "      <th>4079</th>\n",
       "      <td>4080</td>\n",
       "      <td>positive</td>\n",
       "      <td>0.821</td>\n",
       "      <td>4080</td>\n",
       "      <td>C10 H21 N3 O8 P2 S</td>\n",
       "    </tr>\n",
       "    <tr>\n",
       "      <th>6260</th>\n",
       "      <td>6261</td>\n",
       "      <td>negative</td>\n",
       "      <td>2.591</td>\n",
       "      <td>6261</td>\n",
       "      <td>C9 H18 N9 O2 P</td>\n",
       "    </tr>\n",
       "    <tr>\n",
       "      <th>6261</th>\n",
       "      <td>6262</td>\n",
       "      <td>negative</td>\n",
       "      <td>2.667</td>\n",
       "      <td>6262</td>\n",
       "      <td>C10 H20 N9 O5 P</td>\n",
       "    </tr>\n",
       "  </tbody>\n",
       "</table>\n",
       "</div>"
      ],
      "text/plain": [
       "        ID      Mode  RT [min]                                 Name  \\\n",
       "719    720  positive     2.562  2-Aminoacetophenone;O-Acetylaniline   \n",
       "1480  1481  positive     6.290                                 1481   \n",
       "2101  2102  positive     3.449    N,N-Diisopropylethylamine (DIPEA)   \n",
       "3140  3141  positive     1.133                                 3141   \n",
       "3674  3675  positive     1.184                                 3675   \n",
       "3803  3804  positive     2.595                                 3804   \n",
       "3871  3872  positive     4.049                                 3872   \n",
       "4079  4080  positive     0.821                                 4080   \n",
       "6260  6261  negative     2.591                                 6261   \n",
       "6261  6262  negative     2.667                                 6262   \n",
       "\n",
       "                 Formula  \n",
       "719            C8 H9 N O  \n",
       "1480                 NaN  \n",
       "2101            C8 H19 N  \n",
       "3140      C7 H18 N8 O6 S  \n",
       "3674                 NaN  \n",
       "3803       C4 H12 N O6 P  \n",
       "3871                 NaN  \n",
       "4079  C10 H21 N3 O8 P2 S  \n",
       "6260      C9 H18 N9 O2 P  \n",
       "6261     C10 H20 N9 O5 P  "
      ]
     },
     "execution_count": 43,
     "metadata": {},
     "output_type": "execute_result"
    }
   ],
   "source": [
    "MS_labels[MS_labels.ID.isin(final_features)]"
   ]
  },
  {
   "cell_type": "code",
   "execution_count": 44,
   "metadata": {},
   "outputs": [],
   "source": [
    "MLfeatures = NMRMS[list(final_features)]\n",
    "MLfeatures =(MLfeatures - MLfeatures.mean(axis=0))/MLfeatures.std(axis=0) #autoscaling"
   ]
  },
  {
   "cell_type": "code",
   "execution_count": null,
   "metadata": {},
   "outputs": [],
   "source": []
  },
  {
   "cell_type": "code",
   "execution_count": null,
   "metadata": {},
   "outputs": [],
   "source": []
  },
  {
   "cell_type": "code",
   "execution_count": null,
   "metadata": {},
   "outputs": [],
   "source": []
  },
  {
   "cell_type": "code",
   "execution_count": null,
   "metadata": {},
   "outputs": [],
   "source": []
  },
  {
   "cell_type": "markdown",
   "metadata": {},
   "source": [
    "# 3. Chemical Information of Biomarkers\n",
    "<a id=\"3\"></a>"
   ]
  },
  {
   "cell_type": "code",
   "execution_count": 48,
   "metadata": {},
   "outputs": [
    {
     "name": "stdout",
     "output_type": "stream",
     "text": [
      "(433, 5)\n"
     ]
    },
    {
     "data": {
      "text/html": [
       "<div>\n",
       "<style scoped>\n",
       "    .dataframe tbody tr th:only-of-type {\n",
       "        vertical-align: middle;\n",
       "    }\n",
       "\n",
       "    .dataframe tbody tr th {\n",
       "        vertical-align: top;\n",
       "    }\n",
       "\n",
       "    .dataframe thead th {\n",
       "        text-align: right;\n",
       "    }\n",
       "</style>\n",
       "<table border=\"1\" class=\"dataframe\">\n",
       "  <thead>\n",
       "    <tr style=\"text-align: right;\">\n",
       "      <th></th>\n",
       "      <th>ID</th>\n",
       "      <th>Mode</th>\n",
       "      <th>RT [min]</th>\n",
       "      <th>Name</th>\n",
       "      <th>Formula</th>\n",
       "    </tr>\n",
       "  </thead>\n",
       "  <tbody>\n",
       "    <tr>\n",
       "      <th>0</th>\n",
       "      <td>1</td>\n",
       "      <td>positive</td>\n",
       "      <td>2.317</td>\n",
       "      <td>1</td>\n",
       "      <td>NaN</td>\n",
       "    </tr>\n",
       "    <tr>\n",
       "      <th>8</th>\n",
       "      <td>9</td>\n",
       "      <td>positive</td>\n",
       "      <td>1.901</td>\n",
       "      <td>5-Acetylamino-6-amino-3-methyluracil</td>\n",
       "      <td>C7 H10 N4 O3</td>\n",
       "    </tr>\n",
       "    <tr>\n",
       "      <th>94</th>\n",
       "      <td>95</td>\n",
       "      <td>positive</td>\n",
       "      <td>1.898</td>\n",
       "      <td>3-(1H-1,2,4-Triazol-3-yl)alanine</td>\n",
       "      <td>C5 H8 N4 O2</td>\n",
       "    </tr>\n",
       "    <tr>\n",
       "      <th>146</th>\n",
       "      <td>147</td>\n",
       "      <td>positive</td>\n",
       "      <td>2.580</td>\n",
       "      <td>147</td>\n",
       "      <td>C33 H41 N O6 P2</td>\n",
       "    </tr>\n",
       "    <tr>\n",
       "      <th>162</th>\n",
       "      <td>163</td>\n",
       "      <td>positive</td>\n",
       "      <td>2.654</td>\n",
       "      <td>Venlafaxine</td>\n",
       "      <td>C17 H27 N O2</td>\n",
       "    </tr>\n",
       "  </tbody>\n",
       "</table>\n",
       "</div>"
      ],
      "text/plain": [
       "      ID      Mode  RT [min]                                  Name  \\\n",
       "0      1  positive     2.317                                     1   \n",
       "8      9  positive     1.901  5-Acetylamino-6-amino-3-methyluracil   \n",
       "94    95  positive     1.898      3-(1H-1,2,4-Triazol-3-yl)alanine   \n",
       "146  147  positive     2.580                                   147   \n",
       "162  163  positive     2.654                           Venlafaxine   \n",
       "\n",
       "             Formula  \n",
       "0                NaN  \n",
       "8       C7 H10 N4 O3  \n",
       "94       C5 H8 N4 O2  \n",
       "146  C33 H41 N O6 P2  \n",
       "162     C17 H27 N O2  "
      ]
     },
     "execution_count": 48,
     "metadata": {},
     "output_type": "execute_result"
    }
   ],
   "source": [
    "MS_labels_qmarkers = MS_labels[MS_labels.ID.isin(qfeatures.columns)]\n",
    "print(MS_labels_qmarkers.shape)\n",
    "MS_labels_qmarkers.head()"
   ]
  },
  {
   "cell_type": "code",
   "execution_count": null,
   "metadata": {},
   "outputs": [],
   "source": []
  },
  {
   "cell_type": "code",
   "execution_count": null,
   "metadata": {},
   "outputs": [],
   "source": []
  },
  {
   "cell_type": "markdown",
   "metadata": {},
   "source": [
    "MS_labels_bmarkers.to_excel('RCC_20features.xlsx')"
   ]
  },
  {
   "cell_type": "markdown",
   "metadata": {},
   "source": [
    "MS_labels_qmarkers.to_excel('RCC_472features.xlsx')"
   ]
  },
  {
   "cell_type": "markdown",
   "metadata": {},
   "source": [
    "# Confirm IDs with David"
   ]
  },
  {
   "cell_type": "markdown",
   "metadata": {},
   "source": [
    "**Intersection of qfeatures**"
   ]
  },
  {
   "cell_type": "code",
   "execution_count": 49,
   "metadata": {},
   "outputs": [],
   "source": [
    "gafeatures = pd.read_excel('RCC_472features.xlsx')"
   ]
  },
  {
   "cell_type": "code",
   "execution_count": 53,
   "metadata": {},
   "outputs": [
    {
     "name": "stdout",
     "output_type": "stream",
     "text": [
      "472\n",
      "433\n"
     ]
    }
   ],
   "source": [
    "print (len(gafeatures['ID']))\n",
    "print (len(MS_labels_qmarkers['ID']))"
   ]
  },
  {
   "cell_type": "code",
   "execution_count": 50,
   "metadata": {},
   "outputs": [
    {
     "name": "stdout",
     "output_type": "stream",
     "text": [
      "418\n"
     ]
    }
   ],
   "source": [
    "qmarker_int = list(set(gafeatures['ID']) & set(MS_labels_qmarkers['ID']))\n",
    "print (len(qmarker_int))"
   ]
  },
  {
   "cell_type": "markdown",
   "metadata": {},
   "source": [
    "**Intersection of UNCfeatures**"
   ]
  },
  {
   "cell_type": "code",
   "execution_count": 59,
   "metadata": {},
   "outputs": [
    {
     "name": "stdout",
     "output_type": "stream",
     "text": [
      "122\n"
     ]
    }
   ],
   "source": [
    "qmarker_int = list(set(UNCfeatures.columns) & set(gafeatures['ID']))\n",
    "print (len(qmarker_int))"
   ]
  },
  {
   "cell_type": "code",
   "execution_count": 60,
   "metadata": {},
   "outputs": [
    {
     "name": "stdout",
     "output_type": "stream",
     "text": [
      "132\n",
      "433\n"
     ]
    }
   ],
   "source": [
    "print (len(UNCfeatures.columns))\n",
    "print (len(MS_labels_qmarkers['ID']))"
   ]
  },
  {
   "cell_type": "markdown",
   "metadata": {},
   "source": [
    "features that were missing."
   ]
  },
  {
   "cell_type": "code",
   "execution_count": 64,
   "metadata": {},
   "outputs": [
    {
     "data": {
      "text/plain": [
       "{1261, 2524, 2668, 3200, 4025, 5077, 5352, 6392, 6565, 6569}"
      ]
     },
     "execution_count": 64,
     "metadata": {},
     "output_type": "execute_result"
    }
   ],
   "source": [
    "set(UNCfeatures.columns) - set(qmarker_int)"
   ]
  },
  {
   "cell_type": "code",
   "execution_count": 65,
   "metadata": {},
   "outputs": [
    {
     "data": {
      "text/html": [
       "<div>\n",
       "<style scoped>\n",
       "    .dataframe tbody tr th:only-of-type {\n",
       "        vertical-align: middle;\n",
       "    }\n",
       "\n",
       "    .dataframe tbody tr th {\n",
       "        vertical-align: top;\n",
       "    }\n",
       "\n",
       "    .dataframe thead th {\n",
       "        text-align: right;\n",
       "    }\n",
       "</style>\n",
       "<table border=\"1\" class=\"dataframe\">\n",
       "  <thead>\n",
       "    <tr style=\"text-align: right;\">\n",
       "      <th></th>\n",
       "      <th>ID</th>\n",
       "      <th>Mode</th>\n",
       "      <th>RT [min]</th>\n",
       "      <th>Name</th>\n",
       "      <th>Formula</th>\n",
       "    </tr>\n",
       "  </thead>\n",
       "  <tbody>\n",
       "    <tr>\n",
       "      <th>1260</th>\n",
       "      <td>1261</td>\n",
       "      <td>positive</td>\n",
       "      <td>1.855</td>\n",
       "      <td>1261</td>\n",
       "      <td>NaN</td>\n",
       "    </tr>\n",
       "    <tr>\n",
       "      <th>2523</th>\n",
       "      <td>2524</td>\n",
       "      <td>positive</td>\n",
       "      <td>1.299</td>\n",
       "      <td>2524</td>\n",
       "      <td>NaN</td>\n",
       "    </tr>\n",
       "    <tr>\n",
       "      <th>2667</th>\n",
       "      <td>2668</td>\n",
       "      <td>positive</td>\n",
       "      <td>1.067</td>\n",
       "      <td>Cyclo(leucylprolyl)</td>\n",
       "      <td>C11 H18 N2 O2</td>\n",
       "    </tr>\n",
       "    <tr>\n",
       "      <th>3199</th>\n",
       "      <td>3200</td>\n",
       "      <td>positive</td>\n",
       "      <td>3.487</td>\n",
       "      <td>3200</td>\n",
       "      <td>NaN</td>\n",
       "    </tr>\n",
       "    <tr>\n",
       "      <th>4024</th>\n",
       "      <td>4025</td>\n",
       "      <td>positive</td>\n",
       "      <td>3.439</td>\n",
       "      <td>4025</td>\n",
       "      <td>C19 H29 N8 O3 P3</td>\n",
       "    </tr>\n",
       "    <tr>\n",
       "      <th>5076</th>\n",
       "      <td>5077</td>\n",
       "      <td>negative</td>\n",
       "      <td>1.965</td>\n",
       "      <td>5077</td>\n",
       "      <td>NaN</td>\n",
       "    </tr>\n",
       "    <tr>\n",
       "      <th>5351</th>\n",
       "      <td>5352</td>\n",
       "      <td>negative</td>\n",
       "      <td>2.355</td>\n",
       "      <td>5352</td>\n",
       "      <td>C34 H23 N O3</td>\n",
       "    </tr>\n",
       "    <tr>\n",
       "      <th>6391</th>\n",
       "      <td>6392</td>\n",
       "      <td>negative</td>\n",
       "      <td>0.750</td>\n",
       "      <td>6392</td>\n",
       "      <td>C7 H8 N4 O4</td>\n",
       "    </tr>\n",
       "    <tr>\n",
       "      <th>6564</th>\n",
       "      <td>6565</td>\n",
       "      <td>negative</td>\n",
       "      <td>2.935</td>\n",
       "      <td>6565</td>\n",
       "      <td>C12 H23 N O2 P2 S</td>\n",
       "    </tr>\n",
       "    <tr>\n",
       "      <th>6568</th>\n",
       "      <td>6569</td>\n",
       "      <td>negative</td>\n",
       "      <td>1.181</td>\n",
       "      <td>4-[(1R)-2-Amino-1-hydroxyethyl]-2-hydroxypheny...</td>\n",
       "      <td>C8 H11 N O6 S</td>\n",
       "    </tr>\n",
       "  </tbody>\n",
       "</table>\n",
       "</div>"
      ],
      "text/plain": [
       "        ID      Mode  RT [min]  \\\n",
       "1260  1261  positive     1.855   \n",
       "2523  2524  positive     1.299   \n",
       "2667  2668  positive     1.067   \n",
       "3199  3200  positive     3.487   \n",
       "4024  4025  positive     3.439   \n",
       "5076  5077  negative     1.965   \n",
       "5351  5352  negative     2.355   \n",
       "6391  6392  negative     0.750   \n",
       "6564  6565  negative     2.935   \n",
       "6568  6569  negative     1.181   \n",
       "\n",
       "                                                   Name            Formula  \n",
       "1260                                               1261                NaN  \n",
       "2523                                               2524                NaN  \n",
       "2667                                Cyclo(leucylprolyl)      C11 H18 N2 O2  \n",
       "3199                                               3200                NaN  \n",
       "4024                                               4025   C19 H29 N8 O3 P3  \n",
       "5076                                               5077                NaN  \n",
       "5351                                               5352       C34 H23 N O3  \n",
       "6391                                               6392        C7 H8 N4 O4  \n",
       "6564                                               6565  C12 H23 N O2 P2 S  \n",
       "6568  4-[(1R)-2-Amino-1-hydroxyethyl]-2-hydroxypheny...      C8 H11 N O6 S  "
      ]
     },
     "execution_count": 65,
     "metadata": {},
     "output_type": "execute_result"
    }
   ],
   "source": [
    "MS_labels[MS_labels.ID.isin(set(UNCfeatures.columns) - set(qmarker_int))]"
   ]
  },
  {
   "cell_type": "code",
   "execution_count": null,
   "metadata": {},
   "outputs": [],
   "source": []
  },
  {
   "cell_type": "code",
   "execution_count": null,
   "metadata": {},
   "outputs": [],
   "source": []
  },
  {
   "cell_type": "code",
   "execution_count": null,
   "metadata": {},
   "outputs": [],
   "source": []
  }
 ],
 "metadata": {
  "kernelspec": {
   "display_name": "Python 3",
   "language": "python",
   "name": "python3"
  },
  "language_info": {
   "codemirror_mode": {
    "name": "ipython",
    "version": 3
   },
   "file_extension": ".py",
   "mimetype": "text/x-python",
   "name": "python",
   "nbconvert_exporter": "python",
   "pygments_lexer": "ipython3",
   "version": "3.6.8"
  }
 },
 "nbformat": 4,
 "nbformat_minor": 2
}
