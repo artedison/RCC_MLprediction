{
 "cells": [
  {
   "cell_type": "markdown",
   "metadata": {},
   "source": [
    "# NMR-MS Merge and Prematched (Clinical) Cohort\n",
    "\n",
    "Author: Olatomiwa Bifarin<br>\n",
    "Department of Biochemistry and Molecular Biology<br>\n",
    "University of Georgia<br>\n",
    "Edison Lab<br>\n",
    "\n",
    "Last edited: 28JAN2020 \n",
    "\n",
    "_This is a static version of a Jupyter notebook, and work (documentation) is still in progress_ \n",
    "\n",
    "**Goals**: \n",
    "1. To merge NMR and MS Dataset. \n",
    "2. Define prematched cohorts. \n",
    "\n",
    "<a id=\"0\"></a>\n",
    "\n",
    "## Notebook Content\n",
    "\n",
    "1.  [NMR-MS Data Merge](#1)\n",
    "2.  [Cohort Characteristics: Pre-Matched Group](#2)\n"
   ]
  },
  {
   "cell_type": "markdown",
   "metadata": {},
   "source": [
    "## Dataframes\n",
    "-  The original form of the MS data from the Facundo Lab at Georgia tech is uploaded as the `dfMS` dataframe.\n",
    "-  `MS-Labels` is the dataframe for Mass Spectrometry detected metabolites IDs, mode, retention time and formula\n",
    "-  `MS` is the dataframe for the MS Peak Intensities\n",
    "-  `MSData` is the dataframe for `all` the MS Peak Intensities with patient ID and Groups\n",
    "-  `dfNMR` contains representative peaks for features/metabolites from NMR\n",
    "-  `combined` is the NMR merged with the MS dataset. \n",
    "-  `combined_clinic` is the dataframe that contains all combined NMR and MS samples collected in the clinic. "
   ]
  },
  {
   "cell_type": "code",
   "execution_count": 1,
   "metadata": {},
   "outputs": [],
   "source": [
    "import pandas as pd\n",
    "import numpy as np\n",
    "from matplotlib import pyplot as plt\n",
    "from matplotlib import style\n",
    "import scipy\n",
    "#For Seaborn plots\n",
    "import seaborn as sns; sns.set(style='white')\n",
    "#To ignore warning\n",
    "import warnings\n",
    "warnings.filterwarnings('ignore')\n",
    "\n",
    "# More sharp and legible graphics\n",
    "%config InlineBackend.figure_format = 'retina'\n",
    "\n",
    "# Set seaborn figure labels to 'talk', to be more visible. \n",
    "sns.set_context('talk', font_scale=0.8)"
   ]
  },
  {
   "cell_type": "code",
   "execution_count": 3,
   "metadata": {},
   "outputs": [
    {
     "name": "stdout",
     "output_type": "stream",
     "text": [
      "0.23.4\n",
      "1.16.4\n",
      "0.9.0\n",
      "1.3.1\n"
     ]
    }
   ],
   "source": [
    "print(pd.__version__)\n",
    "print(np.__version__)\n",
    "print(sns.__version__)\n",
    "print(scipy.__version__)"
   ]
  },
  {
   "cell_type": "markdown",
   "metadata": {},
   "source": [
    "# 1. NMR-MS Data Merge\n",
    "<a id=\"1\"></a>"
   ]
  },
  {
   "cell_type": "markdown",
   "metadata": {},
   "source": [
    "The original form of the MS data from the `Facundo Lab` at Georgia tech is uploaded as the `dfMS` dataframe."
   ]
  },
  {
   "cell_type": "code",
   "execution_count": 177,
   "metadata": {},
   "outputs": [],
   "source": [
    "dfMS = pd.read_excel('data/RCC_S280_combinedData_7097.xlsx')"
   ]
  },
  {
   "cell_type": "code",
   "execution_count": 178,
   "metadata": {},
   "outputs": [
    {
     "data": {
      "text/html": [
       "<div>\n",
       "<style scoped>\n",
       "    .dataframe tbody tr th:only-of-type {\n",
       "        vertical-align: middle;\n",
       "    }\n",
       "\n",
       "    .dataframe tbody tr th {\n",
       "        vertical-align: top;\n",
       "    }\n",
       "\n",
       "    .dataframe thead th {\n",
       "        text-align: right;\n",
       "    }\n",
       "</style>\n",
       "<table border=\"1\" class=\"dataframe\">\n",
       "  <thead>\n",
       "    <tr style=\"text-align: right;\">\n",
       "      <th></th>\n",
       "      <th>0</th>\n",
       "      <th>1</th>\n",
       "      <th>2</th>\n",
       "      <th>3</th>\n",
       "      <th>4</th>\n",
       "      <th>5</th>\n",
       "      <th>6</th>\n",
       "      <th>7</th>\n",
       "      <th>8</th>\n",
       "      <th>9</th>\n",
       "      <th>...</th>\n",
       "      <th>7087</th>\n",
       "      <th>7088</th>\n",
       "      <th>7089</th>\n",
       "      <th>7090</th>\n",
       "      <th>7091</th>\n",
       "      <th>7092</th>\n",
       "      <th>7093</th>\n",
       "      <th>7094</th>\n",
       "      <th>7095</th>\n",
       "      <th>7096</th>\n",
       "    </tr>\n",
       "  </thead>\n",
       "  <tbody>\n",
       "    <tr>\n",
       "      <th>ID</th>\n",
       "      <td>1</td>\n",
       "      <td>2</td>\n",
       "      <td>3</td>\n",
       "      <td>4</td>\n",
       "      <td>5</td>\n",
       "      <td>6</td>\n",
       "      <td>7</td>\n",
       "      <td>8</td>\n",
       "      <td>9</td>\n",
       "      <td>10</td>\n",
       "      <td>...</td>\n",
       "      <td>7088</td>\n",
       "      <td>7089</td>\n",
       "      <td>7090</td>\n",
       "      <td>7091</td>\n",
       "      <td>7092</td>\n",
       "      <td>7093</td>\n",
       "      <td>7094</td>\n",
       "      <td>7095</td>\n",
       "      <td>7096</td>\n",
       "      <td>7097</td>\n",
       "    </tr>\n",
       "    <tr>\n",
       "      <th>Mode</th>\n",
       "      <td>positive</td>\n",
       "      <td>positive</td>\n",
       "      <td>positive</td>\n",
       "      <td>positive</td>\n",
       "      <td>positive</td>\n",
       "      <td>positive</td>\n",
       "      <td>positive</td>\n",
       "      <td>positive</td>\n",
       "      <td>positive</td>\n",
       "      <td>positive</td>\n",
       "      <td>...</td>\n",
       "      <td>negative</td>\n",
       "      <td>negative</td>\n",
       "      <td>negative</td>\n",
       "      <td>negative</td>\n",
       "      <td>negative</td>\n",
       "      <td>negative</td>\n",
       "      <td>negative</td>\n",
       "      <td>negative</td>\n",
       "      <td>negative</td>\n",
       "      <td>negative</td>\n",
       "    </tr>\n",
       "    <tr>\n",
       "      <th>Molecular Weight</th>\n",
       "      <td>186.015</td>\n",
       "      <td>113.059</td>\n",
       "      <td>113.059</td>\n",
       "      <td>234.173</td>\n",
       "      <td>290.137</td>\n",
       "      <td>314.141</td>\n",
       "      <td>125.084</td>\n",
       "      <td>143.095</td>\n",
       "      <td>198.075</td>\n",
       "      <td>171.126</td>\n",
       "      <td>...</td>\n",
       "      <td>336.051</td>\n",
       "      <td>154.048</td>\n",
       "      <td>159.976</td>\n",
       "      <td>260.137</td>\n",
       "      <td>304.096</td>\n",
       "      <td>172.047</td>\n",
       "      <td>334.083</td>\n",
       "      <td>239.079</td>\n",
       "      <td>212.054</td>\n",
       "      <td>387.18</td>\n",
       "    </tr>\n",
       "    <tr>\n",
       "      <th>RT [min]</th>\n",
       "      <td>2.317</td>\n",
       "      <td>2.792</td>\n",
       "      <td>2.889</td>\n",
       "      <td>0.884</td>\n",
       "      <td>1.512</td>\n",
       "      <td>2.666</td>\n",
       "      <td>1.181</td>\n",
       "      <td>1.221</td>\n",
       "      <td>1.901</td>\n",
       "      <td>3.507</td>\n",
       "      <td>...</td>\n",
       "      <td>0.66</td>\n",
       "      <td>1.197</td>\n",
       "      <td>4.737</td>\n",
       "      <td>2.94</td>\n",
       "      <td>0.656</td>\n",
       "      <td>3.203</td>\n",
       "      <td>2.629</td>\n",
       "      <td>2.455</td>\n",
       "      <td>2.361</td>\n",
       "      <td>0.606</td>\n",
       "    </tr>\n",
       "    <tr>\n",
       "      <th>Name</th>\n",
       "      <td>1</td>\n",
       "      <td>Creatinine</td>\n",
       "      <td>Creatinine</td>\n",
       "      <td>Lidocaine</td>\n",
       "      <td>Trimethoprim</td>\n",
       "      <td>Ranitidine</td>\n",
       "      <td>4,5-Dimethyl-2-ethyloxazole</td>\n",
       "      <td>1-Aminocyclohexanecarboxylic acid</td>\n",
       "      <td>5-Acetylamino-6-amino-3-methyluracil</td>\n",
       "      <td>Gabapentin</td>\n",
       "      <td>...</td>\n",
       "      <td>7088</td>\n",
       "      <td>7089</td>\n",
       "      <td>7090</td>\n",
       "      <td>gamma-Glutamylleucine</td>\n",
       "      <td>7092</td>\n",
       "      <td>7093</td>\n",
       "      <td>7094</td>\n",
       "      <td>7095</td>\n",
       "      <td>7096</td>\n",
       "      <td>7097</td>\n",
       "    </tr>\n",
       "    <tr>\n",
       "      <th>Formula</th>\n",
       "      <td>NaN</td>\n",
       "      <td>C4 H7 N3 O</td>\n",
       "      <td>C4 H7 N3 O</td>\n",
       "      <td>C14 H22 N2 O</td>\n",
       "      <td>C14 H18 N4 O3</td>\n",
       "      <td>C13 H22 N4 O3 S</td>\n",
       "      <td>C7 H11 N O</td>\n",
       "      <td>C7 H13 N O2</td>\n",
       "      <td>C7 H10 N4 O3</td>\n",
       "      <td>C9 H17 N O2</td>\n",
       "      <td>...</td>\n",
       "      <td>C7 H23 N4 O P3 S2</td>\n",
       "      <td>C4 H10 O6</td>\n",
       "      <td>C5 H7 P3</td>\n",
       "      <td>C11 H20 N2 O5</td>\n",
       "      <td>NaN</td>\n",
       "      <td>NaN</td>\n",
       "      <td>C6 H19 N6 O6 P S</td>\n",
       "      <td>C6 H10 N9 P</td>\n",
       "      <td>C7 H8 N4 O4</td>\n",
       "      <td>NaN</td>\n",
       "    </tr>\n",
       "    <tr>\n",
       "      <th>C001</th>\n",
       "      <td>7.24885e+08</td>\n",
       "      <td>1.10388e+09</td>\n",
       "      <td>5.06818e+06</td>\n",
       "      <td>4682.6</td>\n",
       "      <td>18261.9</td>\n",
       "      <td>1322.95</td>\n",
       "      <td>61663</td>\n",
       "      <td>191620</td>\n",
       "      <td>5.61943e+07</td>\n",
       "      <td>4369.9</td>\n",
       "      <td>...</td>\n",
       "      <td>168447</td>\n",
       "      <td>81645.2</td>\n",
       "      <td>501574</td>\n",
       "      <td>43882.9</td>\n",
       "      <td>235674</td>\n",
       "      <td>141900</td>\n",
       "      <td>144189</td>\n",
       "      <td>1.65926e+06</td>\n",
       "      <td>105636</td>\n",
       "      <td>76801.7</td>\n",
       "    </tr>\n",
       "    <tr>\n",
       "      <th>C002</th>\n",
       "      <td>8.39383e+08</td>\n",
       "      <td>1.87456e+09</td>\n",
       "      <td>1.87657e+09</td>\n",
       "      <td>1.69931e+08</td>\n",
       "      <td>18267.8</td>\n",
       "      <td>1674.72</td>\n",
       "      <td>227698</td>\n",
       "      <td>532662</td>\n",
       "      <td>2.03319e+08</td>\n",
       "      <td>5449.04</td>\n",
       "      <td>...</td>\n",
       "      <td>36254.4</td>\n",
       "      <td>242145</td>\n",
       "      <td>876199</td>\n",
       "      <td>274884</td>\n",
       "      <td>236921</td>\n",
       "      <td>167226</td>\n",
       "      <td>114217</td>\n",
       "      <td>771149</td>\n",
       "      <td>303623</td>\n",
       "      <td>37380.4</td>\n",
       "    </tr>\n",
       "  </tbody>\n",
       "</table>\n",
       "<p>8 rows × 7097 columns</p>\n",
       "</div>"
      ],
      "text/plain": [
       "                         0            1            2             3     \\\n",
       "ID                          1            2            3             4   \n",
       "Mode                 positive     positive     positive      positive   \n",
       "Molecular Weight      186.015      113.059      113.059       234.173   \n",
       "RT [min]                2.317        2.792        2.889         0.884   \n",
       "Name                        1   Creatinine   Creatinine     Lidocaine   \n",
       "Formula                   NaN   C4 H7 N3 O   C4 H7 N3 O  C14 H22 N2 O   \n",
       "C001              7.24885e+08  1.10388e+09  5.06818e+06        4682.6   \n",
       "C002              8.39383e+08  1.87456e+09  1.87657e+09   1.69931e+08   \n",
       "\n",
       "                           4                5                            6     \\\n",
       "ID                            5                6                            7   \n",
       "Mode                   positive         positive                     positive   \n",
       "Molecular Weight        290.137          314.141                      125.084   \n",
       "RT [min]                  1.512            2.666                        1.181   \n",
       "Name               Trimethoprim       Ranitidine  4,5-Dimethyl-2-ethyloxazole   \n",
       "Formula           C14 H18 N4 O3  C13 H22 N4 O3 S                   C7 H11 N O   \n",
       "C001                    18261.9          1322.95                        61663   \n",
       "C002                    18267.8          1674.72                       227698   \n",
       "\n",
       "                                               7     \\\n",
       "ID                                                8   \n",
       "Mode                                       positive   \n",
       "Molecular Weight                            143.095   \n",
       "RT [min]                                      1.221   \n",
       "Name              1-Aminocyclohexanecarboxylic acid   \n",
       "Formula                                 C7 H13 N O2   \n",
       "C001                                         191620   \n",
       "C002                                         532662   \n",
       "\n",
       "                                                  8            9       ...     \\\n",
       "ID                                                   9           10    ...      \n",
       "Mode                                          positive     positive    ...      \n",
       "Molecular Weight                               198.075      171.126    ...      \n",
       "RT [min]                                         1.901        3.507    ...      \n",
       "Name              5-Acetylamino-6-amino-3-methyluracil   Gabapentin    ...      \n",
       "Formula                                   C7 H10 N4 O3  C9 H17 N O2    ...      \n",
       "C001                                       5.61943e+07       4369.9    ...      \n",
       "C002                                       2.03319e+08      5449.04    ...      \n",
       "\n",
       "                               7087       7088      7089  \\\n",
       "ID                             7088       7089      7090   \n",
       "Mode                       negative   negative  negative   \n",
       "Molecular Weight            336.051    154.048   159.976   \n",
       "RT [min]                       0.66      1.197     4.737   \n",
       "Name                           7088       7089      7090   \n",
       "Formula           C7 H23 N4 O P3 S2  C4 H10 O6  C5 H7 P3   \n",
       "C001                         168447    81645.2    501574   \n",
       "C002                        36254.4     242145    876199   \n",
       "\n",
       "                                   7090      7091      7092              7093  \\\n",
       "ID                                 7091      7092      7093              7094   \n",
       "Mode                           negative  negative  negative          negative   \n",
       "Molecular Weight                260.137   304.096   172.047           334.083   \n",
       "RT [min]                           2.94     0.656     3.203             2.629   \n",
       "Name              gamma-Glutamylleucine      7092      7093              7094   \n",
       "Formula                   C11 H20 N2 O5       NaN       NaN  C6 H19 N6 O6 P S   \n",
       "C001                            43882.9    235674    141900            144189   \n",
       "C002                             274884    236921    167226            114217   \n",
       "\n",
       "                         7094         7095      7096  \n",
       "ID                       7095         7096      7097  \n",
       "Mode                 negative     negative  negative  \n",
       "Molecular Weight      239.079      212.054    387.18  \n",
       "RT [min]                2.455        2.361     0.606  \n",
       "Name                     7095         7096      7097  \n",
       "Formula           C6 H10 N9 P  C7 H8 N4 O4       NaN  \n",
       "C001              1.65926e+06       105636   76801.7  \n",
       "C002                   771149       303623   37380.4  \n",
       "\n",
       "[8 rows x 7097 columns]"
      ]
     },
     "execution_count": 178,
     "metadata": {},
     "output_type": "execute_result"
    }
   ],
   "source": [
    "dfMS_trans = dfMS.T # Transpose dataframe\n",
    "IDs = np.arange(1, dfMS_trans.shape[1] + 1) # Generate a range of numbers (7098) to replace nan values in the name row\n",
    "IDs = pd.Series(IDs) # creating series \n",
    "dfMS_trans.iloc[4] = dfMS_trans.iloc[4].fillna(IDs) # replace nan with the IDs, and replace the name row\n",
    "dfMS_trans.head(8)"
   ]
  },
  {
   "cell_type": "markdown",
   "metadata": {},
   "source": [
    "`MS-Labels` is the dataframe for just MS detected metabolites IDs and some chemical properties."
   ]
  },
  {
   "cell_type": "code",
   "execution_count": 179,
   "metadata": {},
   "outputs": [
    {
     "data": {
      "text/html": [
       "<div>\n",
       "<style scoped>\n",
       "    .dataframe tbody tr th:only-of-type {\n",
       "        vertical-align: middle;\n",
       "    }\n",
       "\n",
       "    .dataframe tbody tr th {\n",
       "        vertical-align: top;\n",
       "    }\n",
       "\n",
       "    .dataframe thead th {\n",
       "        text-align: right;\n",
       "    }\n",
       "</style>\n",
       "<table border=\"1\" class=\"dataframe\">\n",
       "  <thead>\n",
       "    <tr style=\"text-align: right;\">\n",
       "      <th></th>\n",
       "      <th>ID</th>\n",
       "      <th>Mode</th>\n",
       "      <th>RT [min]</th>\n",
       "      <th>Name</th>\n",
       "      <th>Formula</th>\n",
       "    </tr>\n",
       "  </thead>\n",
       "  <tbody>\n",
       "    <tr>\n",
       "      <th>0</th>\n",
       "      <td>1</td>\n",
       "      <td>positive</td>\n",
       "      <td>2.317</td>\n",
       "      <td>1</td>\n",
       "      <td>NaN</td>\n",
       "    </tr>\n",
       "    <tr>\n",
       "      <th>1</th>\n",
       "      <td>2</td>\n",
       "      <td>positive</td>\n",
       "      <td>2.792</td>\n",
       "      <td>Creatinine</td>\n",
       "      <td>C4 H7 N3 O</td>\n",
       "    </tr>\n",
       "    <tr>\n",
       "      <th>2</th>\n",
       "      <td>3</td>\n",
       "      <td>positive</td>\n",
       "      <td>2.889</td>\n",
       "      <td>Creatinine</td>\n",
       "      <td>C4 H7 N3 O</td>\n",
       "    </tr>\n",
       "    <tr>\n",
       "      <th>3</th>\n",
       "      <td>4</td>\n",
       "      <td>positive</td>\n",
       "      <td>0.884</td>\n",
       "      <td>Lidocaine</td>\n",
       "      <td>C14 H22 N2 O</td>\n",
       "    </tr>\n",
       "    <tr>\n",
       "      <th>4</th>\n",
       "      <td>5</td>\n",
       "      <td>positive</td>\n",
       "      <td>1.512</td>\n",
       "      <td>Trimethoprim</td>\n",
       "      <td>C14 H18 N4 O3</td>\n",
       "    </tr>\n",
       "  </tbody>\n",
       "</table>\n",
       "</div>"
      ],
      "text/plain": [
       "  ID      Mode RT [min]          Name        Formula\n",
       "0  1  positive    2.317             1            NaN\n",
       "1  2  positive    2.792    Creatinine     C4 H7 N3 O\n",
       "2  3  positive    2.889    Creatinine     C4 H7 N3 O\n",
       "3  4  positive    0.884     Lidocaine   C14 H22 N2 O\n",
       "4  5  positive    1.512  Trimethoprim  C14 H18 N4 O3"
      ]
     },
     "execution_count": 179,
     "metadata": {},
     "output_type": "execute_result"
    }
   ],
   "source": [
    "MS_labels = dfMS_trans.T # Transpose data frame\n",
    "MS_labels = MS_labels.filter(['ID', 'Mode', 'RT [min]', 'Name', 'Formula'], axis=1)\n",
    "MS_labels.head()"
   ]
  },
  {
   "cell_type": "markdown",
   "metadata": {},
   "source": [
    "`MS` is the dataframe for the MS Peak Intensities"
   ]
  },
  {
   "cell_type": "code",
   "execution_count": 180,
   "metadata": {},
   "outputs": [
    {
     "data": {
      "text/html": [
       "<div>\n",
       "<style scoped>\n",
       "    .dataframe tbody tr th:only-of-type {\n",
       "        vertical-align: middle;\n",
       "    }\n",
       "\n",
       "    .dataframe tbody tr th {\n",
       "        vertical-align: top;\n",
       "    }\n",
       "\n",
       "    .dataframe thead th {\n",
       "        text-align: right;\n",
       "    }\n",
       "</style>\n",
       "<table border=\"1\" class=\"dataframe\">\n",
       "  <thead>\n",
       "    <tr style=\"text-align: right;\">\n",
       "      <th></th>\n",
       "      <th>Sample ID</th>\n",
       "      <th>1</th>\n",
       "      <th>2</th>\n",
       "      <th>3</th>\n",
       "      <th>4</th>\n",
       "      <th>5</th>\n",
       "      <th>6</th>\n",
       "      <th>7</th>\n",
       "      <th>8</th>\n",
       "      <th>9</th>\n",
       "      <th>...</th>\n",
       "      <th>7088</th>\n",
       "      <th>7089</th>\n",
       "      <th>7090</th>\n",
       "      <th>7091</th>\n",
       "      <th>7092</th>\n",
       "      <th>7093</th>\n",
       "      <th>7094</th>\n",
       "      <th>7095</th>\n",
       "      <th>7096</th>\n",
       "      <th>7097</th>\n",
       "    </tr>\n",
       "  </thead>\n",
       "  <tbody>\n",
       "    <tr>\n",
       "      <th>0</th>\n",
       "      <td>C001</td>\n",
       "      <td>7.24885e+08</td>\n",
       "      <td>1.10388e+09</td>\n",
       "      <td>5.06818e+06</td>\n",
       "      <td>4682.6</td>\n",
       "      <td>18261.9</td>\n",
       "      <td>1322.95</td>\n",
       "      <td>61663</td>\n",
       "      <td>191620</td>\n",
       "      <td>5.61943e+07</td>\n",
       "      <td>...</td>\n",
       "      <td>168447</td>\n",
       "      <td>81645.2</td>\n",
       "      <td>501574</td>\n",
       "      <td>43882.9</td>\n",
       "      <td>235674</td>\n",
       "      <td>141900</td>\n",
       "      <td>144189</td>\n",
       "      <td>1.65926e+06</td>\n",
       "      <td>105636</td>\n",
       "      <td>76801.7</td>\n",
       "    </tr>\n",
       "    <tr>\n",
       "      <th>1</th>\n",
       "      <td>C002</td>\n",
       "      <td>8.39383e+08</td>\n",
       "      <td>1.87456e+09</td>\n",
       "      <td>1.87657e+09</td>\n",
       "      <td>1.69931e+08</td>\n",
       "      <td>18267.8</td>\n",
       "      <td>1674.72</td>\n",
       "      <td>227698</td>\n",
       "      <td>532662</td>\n",
       "      <td>2.03319e+08</td>\n",
       "      <td>...</td>\n",
       "      <td>36254.4</td>\n",
       "      <td>242145</td>\n",
       "      <td>876199</td>\n",
       "      <td>274884</td>\n",
       "      <td>236921</td>\n",
       "      <td>167226</td>\n",
       "      <td>114217</td>\n",
       "      <td>771149</td>\n",
       "      <td>303623</td>\n",
       "      <td>37380.4</td>\n",
       "    </tr>\n",
       "    <tr>\n",
       "      <th>2</th>\n",
       "      <td>C003</td>\n",
       "      <td>7.65629e+08</td>\n",
       "      <td>1.67333e+09</td>\n",
       "      <td>7.47349e+06</td>\n",
       "      <td>8567.13</td>\n",
       "      <td>25730.9</td>\n",
       "      <td>3246.46</td>\n",
       "      <td>133905</td>\n",
       "      <td>495502</td>\n",
       "      <td>1.92514e+08</td>\n",
       "      <td>...</td>\n",
       "      <td>1.82785e+06</td>\n",
       "      <td>273594</td>\n",
       "      <td>946435</td>\n",
       "      <td>97021.7</td>\n",
       "      <td>839316</td>\n",
       "      <td>519959</td>\n",
       "      <td>467160</td>\n",
       "      <td>1.2216e+06</td>\n",
       "      <td>219606</td>\n",
       "      <td>6270.59</td>\n",
       "    </tr>\n",
       "    <tr>\n",
       "      <th>3</th>\n",
       "      <td>C004</td>\n",
       "      <td>1.25663e+08</td>\n",
       "      <td>1.1825e+09</td>\n",
       "      <td>1.17911e+09</td>\n",
       "      <td>6.72327e+06</td>\n",
       "      <td>10526.3</td>\n",
       "      <td>1076.99</td>\n",
       "      <td>129811</td>\n",
       "      <td>392377</td>\n",
       "      <td>1.16585e+08</td>\n",
       "      <td>...</td>\n",
       "      <td>450210</td>\n",
       "      <td>308199</td>\n",
       "      <td>343794</td>\n",
       "      <td>7427.46</td>\n",
       "      <td>275350</td>\n",
       "      <td>145776</td>\n",
       "      <td>64094.9</td>\n",
       "      <td>1.7718e+06</td>\n",
       "      <td>197519</td>\n",
       "      <td>60830.9</td>\n",
       "    </tr>\n",
       "    <tr>\n",
       "      <th>4</th>\n",
       "      <td>C005</td>\n",
       "      <td>1.06973e+07</td>\n",
       "      <td>8.79722e+08</td>\n",
       "      <td>8.56535e+08</td>\n",
       "      <td>438385</td>\n",
       "      <td>15913.8</td>\n",
       "      <td>1008.31</td>\n",
       "      <td>48496</td>\n",
       "      <td>122696</td>\n",
       "      <td>1.10997e+07</td>\n",
       "      <td>...</td>\n",
       "      <td>22167.5</td>\n",
       "      <td>39971.3</td>\n",
       "      <td>156251</td>\n",
       "      <td>718.724</td>\n",
       "      <td>199148</td>\n",
       "      <td>50598.8</td>\n",
       "      <td>107228</td>\n",
       "      <td>58713.6</td>\n",
       "      <td>71784.4</td>\n",
       "      <td>75589.5</td>\n",
       "    </tr>\n",
       "  </tbody>\n",
       "</table>\n",
       "<p>5 rows × 7098 columns</p>\n",
       "</div>"
      ],
      "text/plain": [
       "  Sample ID            1            2            3            4        5  \\\n",
       "0      C001  7.24885e+08  1.10388e+09  5.06818e+06       4682.6  18261.9   \n",
       "1      C002  8.39383e+08  1.87456e+09  1.87657e+09  1.69931e+08  18267.8   \n",
       "2      C003  7.65629e+08  1.67333e+09  7.47349e+06      8567.13  25730.9   \n",
       "3      C004  1.25663e+08   1.1825e+09  1.17911e+09  6.72327e+06  10526.3   \n",
       "4      C005  1.06973e+07  8.79722e+08  8.56535e+08       438385  15913.8   \n",
       "\n",
       "         6       7       8            9   ...            7088     7089  \\\n",
       "0  1322.95   61663  191620  5.61943e+07   ...          168447  81645.2   \n",
       "1  1674.72  227698  532662  2.03319e+08   ...         36254.4   242145   \n",
       "2  3246.46  133905  495502  1.92514e+08   ...     1.82785e+06   273594   \n",
       "3  1076.99  129811  392377  1.16585e+08   ...          450210   308199   \n",
       "4  1008.31   48496  122696  1.10997e+07   ...         22167.5  39971.3   \n",
       "\n",
       "     7090     7091    7092     7093     7094         7095     7096     7097  \n",
       "0  501574  43882.9  235674   141900   144189  1.65926e+06   105636  76801.7  \n",
       "1  876199   274884  236921   167226   114217       771149   303623  37380.4  \n",
       "2  946435  97021.7  839316   519959   467160   1.2216e+06   219606  6270.59  \n",
       "3  343794  7427.46  275350   145776  64094.9   1.7718e+06   197519  60830.9  \n",
       "4  156251  718.724  199148  50598.8   107228      58713.6  71784.4  75589.5  \n",
       "\n",
       "[5 rows x 7098 columns]"
      ]
     },
     "execution_count": 180,
     "metadata": {},
     "output_type": "execute_result"
    }
   ],
   "source": [
    "MS = dfMS_trans.drop(['Mode', 'Molecular Weight', 'Name', 'RT [min]', 'Formula'])\n",
    "MS.index.name = 'MS_ID'\n",
    "MS.reset_index(inplace=True) # Converts the row names into a column.\n",
    "header = MS.iloc[0] # Create a new variable called 'header' from the first row of the dataset\n",
    "MS = MS[1:] # Replace the dataframe with a new one which does not contain the first row\n",
    "MS.rename(columns = header, inplace=True)# Rename the dataframe's column values with the header variable\n",
    "MS.rename(columns={'ID':'Sample ID'}, inplace = True) # Rename column name\n",
    "# To rest the row index to start from 0\n",
    "MS.index = MS.index - 1 \n",
    "MS.head()"
   ]
  },
  {
   "cell_type": "markdown",
   "metadata": {},
   "source": [
    "___Import Dataframe containing Clinical ID___"
   ]
  },
  {
   "cell_type": "code",
   "execution_count": 181,
   "metadata": {},
   "outputs": [
    {
     "data": {
      "text/html": [
       "<div>\n",
       "<style scoped>\n",
       "    .dataframe tbody tr th:only-of-type {\n",
       "        vertical-align: middle;\n",
       "    }\n",
       "\n",
       "    .dataframe tbody tr th {\n",
       "        vertical-align: top;\n",
       "    }\n",
       "\n",
       "    .dataframe thead th {\n",
       "        text-align: right;\n",
       "    }\n",
       "</style>\n",
       "<table border=\"1\" class=\"dataframe\">\n",
       "  <thead>\n",
       "    <tr style=\"text-align: right;\">\n",
       "      <th></th>\n",
       "      <th>Sample ID</th>\n",
       "      <th>Patient ID</th>\n",
       "    </tr>\n",
       "  </thead>\n",
       "  <tbody>\n",
       "    <tr>\n",
       "      <th>0</th>\n",
       "      <td>C001</td>\n",
       "      <td>PD001</td>\n",
       "    </tr>\n",
       "    <tr>\n",
       "      <th>1</th>\n",
       "      <td>C002</td>\n",
       "      <td>PD003</td>\n",
       "    </tr>\n",
       "    <tr>\n",
       "      <th>2</th>\n",
       "      <td>C003</td>\n",
       "      <td>PD005</td>\n",
       "    </tr>\n",
       "    <tr>\n",
       "      <th>3</th>\n",
       "      <td>C004</td>\n",
       "      <td>PD012</td>\n",
       "    </tr>\n",
       "    <tr>\n",
       "      <th>4</th>\n",
       "      <td>C005</td>\n",
       "      <td>PD014</td>\n",
       "    </tr>\n",
       "  </tbody>\n",
       "</table>\n",
       "</div>"
      ],
      "text/plain": [
       "  Sample ID Patient ID\n",
       "0      C001      PD001\n",
       "1      C002      PD003\n",
       "2      C003      PD005\n",
       "3      C004      PD012\n",
       "4      C005      PD014"
      ]
     },
     "execution_count": 181,
     "metadata": {},
     "output_type": "execute_result"
    }
   ],
   "source": [
    "path = \"data/Sample_List_MS.xlsx\"\n",
    "fields = \\\n",
    "[\n",
    "    'Sample ID',\n",
    "    'Patient ID'\n",
    "]\n",
    "\n",
    "MSpatid = pd.read_excel(path)[fields]\n",
    "MSpatid.head()"
   ]
  },
  {
   "cell_type": "markdown",
   "metadata": {},
   "source": [
    "`MSData` is the dataframe for the MS Peak Intensities with <mark>Patient ID</mark> and <mark>Groups</mark>"
   ]
  },
  {
   "cell_type": "code",
   "execution_count": 182,
   "metadata": {},
   "outputs": [
    {
     "data": {
      "text/html": [
       "<div>\n",
       "<style scoped>\n",
       "    .dataframe tbody tr th:only-of-type {\n",
       "        vertical-align: middle;\n",
       "    }\n",
       "\n",
       "    .dataframe tbody tr th {\n",
       "        vertical-align: top;\n",
       "    }\n",
       "\n",
       "    .dataframe thead th {\n",
       "        text-align: right;\n",
       "    }\n",
       "</style>\n",
       "<table border=\"1\" class=\"dataframe\">\n",
       "  <thead>\n",
       "    <tr style=\"text-align: right;\">\n",
       "      <th></th>\n",
       "      <th>Sample ID</th>\n",
       "      <th>1</th>\n",
       "      <th>2</th>\n",
       "      <th>3</th>\n",
       "      <th>4</th>\n",
       "      <th>5</th>\n",
       "      <th>6</th>\n",
       "      <th>7</th>\n",
       "      <th>8</th>\n",
       "      <th>9</th>\n",
       "      <th>...</th>\n",
       "      <th>7089</th>\n",
       "      <th>7090</th>\n",
       "      <th>7091</th>\n",
       "      <th>7092</th>\n",
       "      <th>7093</th>\n",
       "      <th>7094</th>\n",
       "      <th>7095</th>\n",
       "      <th>7096</th>\n",
       "      <th>7097</th>\n",
       "      <th>Patient ID</th>\n",
       "    </tr>\n",
       "  </thead>\n",
       "  <tbody>\n",
       "    <tr>\n",
       "      <th>0</th>\n",
       "      <td>C001</td>\n",
       "      <td>7.24885e+08</td>\n",
       "      <td>1.10388e+09</td>\n",
       "      <td>5.06818e+06</td>\n",
       "      <td>4682.6</td>\n",
       "      <td>18261.9</td>\n",
       "      <td>1322.95</td>\n",
       "      <td>61663</td>\n",
       "      <td>191620</td>\n",
       "      <td>5.61943e+07</td>\n",
       "      <td>...</td>\n",
       "      <td>81645.2</td>\n",
       "      <td>501574</td>\n",
       "      <td>43882.9</td>\n",
       "      <td>235674</td>\n",
       "      <td>141900</td>\n",
       "      <td>144189</td>\n",
       "      <td>1.65926e+06</td>\n",
       "      <td>105636</td>\n",
       "      <td>76801.7</td>\n",
       "      <td>PD001</td>\n",
       "    </tr>\n",
       "    <tr>\n",
       "      <th>1</th>\n",
       "      <td>C002</td>\n",
       "      <td>8.39383e+08</td>\n",
       "      <td>1.87456e+09</td>\n",
       "      <td>1.87657e+09</td>\n",
       "      <td>1.69931e+08</td>\n",
       "      <td>18267.8</td>\n",
       "      <td>1674.72</td>\n",
       "      <td>227698</td>\n",
       "      <td>532662</td>\n",
       "      <td>2.03319e+08</td>\n",
       "      <td>...</td>\n",
       "      <td>242145</td>\n",
       "      <td>876199</td>\n",
       "      <td>274884</td>\n",
       "      <td>236921</td>\n",
       "      <td>167226</td>\n",
       "      <td>114217</td>\n",
       "      <td>771149</td>\n",
       "      <td>303623</td>\n",
       "      <td>37380.4</td>\n",
       "      <td>PD003</td>\n",
       "    </tr>\n",
       "    <tr>\n",
       "      <th>2</th>\n",
       "      <td>C003</td>\n",
       "      <td>7.65629e+08</td>\n",
       "      <td>1.67333e+09</td>\n",
       "      <td>7.47349e+06</td>\n",
       "      <td>8567.13</td>\n",
       "      <td>25730.9</td>\n",
       "      <td>3246.46</td>\n",
       "      <td>133905</td>\n",
       "      <td>495502</td>\n",
       "      <td>1.92514e+08</td>\n",
       "      <td>...</td>\n",
       "      <td>273594</td>\n",
       "      <td>946435</td>\n",
       "      <td>97021.7</td>\n",
       "      <td>839316</td>\n",
       "      <td>519959</td>\n",
       "      <td>467160</td>\n",
       "      <td>1.2216e+06</td>\n",
       "      <td>219606</td>\n",
       "      <td>6270.59</td>\n",
       "      <td>PD005</td>\n",
       "    </tr>\n",
       "    <tr>\n",
       "      <th>3</th>\n",
       "      <td>C004</td>\n",
       "      <td>1.25663e+08</td>\n",
       "      <td>1.1825e+09</td>\n",
       "      <td>1.17911e+09</td>\n",
       "      <td>6.72327e+06</td>\n",
       "      <td>10526.3</td>\n",
       "      <td>1076.99</td>\n",
       "      <td>129811</td>\n",
       "      <td>392377</td>\n",
       "      <td>1.16585e+08</td>\n",
       "      <td>...</td>\n",
       "      <td>308199</td>\n",
       "      <td>343794</td>\n",
       "      <td>7427.46</td>\n",
       "      <td>275350</td>\n",
       "      <td>145776</td>\n",
       "      <td>64094.9</td>\n",
       "      <td>1.7718e+06</td>\n",
       "      <td>197519</td>\n",
       "      <td>60830.9</td>\n",
       "      <td>PD012</td>\n",
       "    </tr>\n",
       "    <tr>\n",
       "      <th>4</th>\n",
       "      <td>C005</td>\n",
       "      <td>1.06973e+07</td>\n",
       "      <td>8.79722e+08</td>\n",
       "      <td>8.56535e+08</td>\n",
       "      <td>438385</td>\n",
       "      <td>15913.8</td>\n",
       "      <td>1008.31</td>\n",
       "      <td>48496</td>\n",
       "      <td>122696</td>\n",
       "      <td>1.10997e+07</td>\n",
       "      <td>...</td>\n",
       "      <td>39971.3</td>\n",
       "      <td>156251</td>\n",
       "      <td>718.724</td>\n",
       "      <td>199148</td>\n",
       "      <td>50598.8</td>\n",
       "      <td>107228</td>\n",
       "      <td>58713.6</td>\n",
       "      <td>71784.4</td>\n",
       "      <td>75589.5</td>\n",
       "      <td>PD014</td>\n",
       "    </tr>\n",
       "  </tbody>\n",
       "</table>\n",
       "<p>5 rows × 7099 columns</p>\n",
       "</div>"
      ],
      "text/plain": [
       "  Sample ID            1            2            3            4        5  \\\n",
       "0      C001  7.24885e+08  1.10388e+09  5.06818e+06       4682.6  18261.9   \n",
       "1      C002  8.39383e+08  1.87456e+09  1.87657e+09  1.69931e+08  18267.8   \n",
       "2      C003  7.65629e+08  1.67333e+09  7.47349e+06      8567.13  25730.9   \n",
       "3      C004  1.25663e+08   1.1825e+09  1.17911e+09  6.72327e+06  10526.3   \n",
       "4      C005  1.06973e+07  8.79722e+08  8.56535e+08       438385  15913.8   \n",
       "\n",
       "         6       7       8            9    ...         7089    7090     7091  \\\n",
       "0  1322.95   61663  191620  5.61943e+07    ...      81645.2  501574  43882.9   \n",
       "1  1674.72  227698  532662  2.03319e+08    ...       242145  876199   274884   \n",
       "2  3246.46  133905  495502  1.92514e+08    ...       273594  946435  97021.7   \n",
       "3  1076.99  129811  392377  1.16585e+08    ...       308199  343794  7427.46   \n",
       "4  1008.31   48496  122696  1.10997e+07    ...      39971.3  156251  718.724   \n",
       "\n",
       "     7092     7093     7094         7095     7096     7097 Patient ID  \n",
       "0  235674   141900   144189  1.65926e+06   105636  76801.7      PD001  \n",
       "1  236921   167226   114217       771149   303623  37380.4      PD003  \n",
       "2  839316   519959   467160   1.2216e+06   219606  6270.59      PD005  \n",
       "3  275350   145776  64094.9   1.7718e+06   197519  60830.9      PD012  \n",
       "4  199148  50598.8   107228      58713.6  71784.4  75589.5      PD014  \n",
       "\n",
       "[5 rows x 7099 columns]"
      ]
     },
     "execution_count": 182,
     "metadata": {},
     "output_type": "execute_result"
    }
   ],
   "source": [
    "MSData = pd.merge(MS, MSpatid, on='Sample ID') # Merge the two dataframe on Sample ID\n",
    "MSData.head()"
   ]
  },
  {
   "cell_type": "markdown",
   "metadata": {},
   "source": [
    "*Merge NMR and MS Data*"
   ]
  },
  {
   "cell_type": "code",
   "execution_count": 183,
   "metadata": {},
   "outputs": [
    {
     "data": {
      "text/html": [
       "<div>\n",
       "<style scoped>\n",
       "    .dataframe tbody tr th:only-of-type {\n",
       "        vertical-align: middle;\n",
       "    }\n",
       "\n",
       "    .dataframe tbody tr th {\n",
       "        vertical-align: top;\n",
       "    }\n",
       "\n",
       "    .dataframe thead th {\n",
       "        text-align: right;\n",
       "    }\n",
       "</style>\n",
       "<table border=\"1\" class=\"dataframe\">\n",
       "  <thead>\n",
       "    <tr style=\"text-align: right;\">\n",
       "      <th></th>\n",
       "      <th>Patient ID</th>\n",
       "      <th>Collection</th>\n",
       "      <th>Gender</th>\n",
       "      <th>Race</th>\n",
       "      <th>BMI</th>\n",
       "      <th>Smoker</th>\n",
       "      <th>Age</th>\n",
       "      <th>Groups</th>\n",
       "      <th>unk1</th>\n",
       "      <th>unk2</th>\n",
       "      <th>...</th>\n",
       "      <th>hypoxanthine_1</th>\n",
       "      <th>hypoxanthine_2</th>\n",
       "      <th>formate</th>\n",
       "      <th>unk10</th>\n",
       "      <th>Trigonelline_1</th>\n",
       "      <th>Trigonellinamide_1</th>\n",
       "      <th>Trigonellinamide_2</th>\n",
       "      <th>Trigonelline_2</th>\n",
       "      <th>Trigonellinamide_3</th>\n",
       "      <th>unk11</th>\n",
       "    </tr>\n",
       "  </thead>\n",
       "  <tbody>\n",
       "    <tr>\n",
       "      <th>0</th>\n",
       "      <td>2000</td>\n",
       "      <td>Clinic</td>\n",
       "      <td>Male</td>\n",
       "      <td>White</td>\n",
       "      <td>31.1</td>\n",
       "      <td>Never</td>\n",
       "      <td>49.0</td>\n",
       "      <td>Control</td>\n",
       "      <td>0.001130</td>\n",
       "      <td>0.013822</td>\n",
       "      <td>...</td>\n",
       "      <td>0.027809</td>\n",
       "      <td>0.020323</td>\n",
       "      <td>0.014668</td>\n",
       "      <td>0.001156</td>\n",
       "      <td>0.007529</td>\n",
       "      <td>0.012083</td>\n",
       "      <td>0.012599</td>\n",
       "      <td>0.005315</td>\n",
       "      <td>0.011555</td>\n",
       "      <td>0.000419</td>\n",
       "    </tr>\n",
       "    <tr>\n",
       "      <th>1</th>\n",
       "      <td>2001</td>\n",
       "      <td>Clinic</td>\n",
       "      <td>Male</td>\n",
       "      <td>White</td>\n",
       "      <td>28.6</td>\n",
       "      <td>Never</td>\n",
       "      <td>52.0</td>\n",
       "      <td>Control</td>\n",
       "      <td>0.001702</td>\n",
       "      <td>0.010074</td>\n",
       "      <td>...</td>\n",
       "      <td>0.007833</td>\n",
       "      <td>0.015063</td>\n",
       "      <td>0.027530</td>\n",
       "      <td>0.000968</td>\n",
       "      <td>0.058346</td>\n",
       "      <td>0.014948</td>\n",
       "      <td>0.014293</td>\n",
       "      <td>0.036851</td>\n",
       "      <td>0.015069</td>\n",
       "      <td>0.000830</td>\n",
       "    </tr>\n",
       "    <tr>\n",
       "      <th>2</th>\n",
       "      <td>2002</td>\n",
       "      <td>Clinic</td>\n",
       "      <td>Female</td>\n",
       "      <td>White</td>\n",
       "      <td>28.6</td>\n",
       "      <td>Former</td>\n",
       "      <td>70.0</td>\n",
       "      <td>Control</td>\n",
       "      <td>0.010526</td>\n",
       "      <td>0.007970</td>\n",
       "      <td>...</td>\n",
       "      <td>0.016558</td>\n",
       "      <td>0.014049</td>\n",
       "      <td>0.019166</td>\n",
       "      <td>0.075191</td>\n",
       "      <td>0.135280</td>\n",
       "      <td>0.008480</td>\n",
       "      <td>0.008608</td>\n",
       "      <td>0.085135</td>\n",
       "      <td>0.007875</td>\n",
       "      <td>0.001235</td>\n",
       "    </tr>\n",
       "    <tr>\n",
       "      <th>3</th>\n",
       "      <td>2003</td>\n",
       "      <td>Clinic</td>\n",
       "      <td>Male</td>\n",
       "      <td>White</td>\n",
       "      <td>25.7</td>\n",
       "      <td>Former</td>\n",
       "      <td>54.0</td>\n",
       "      <td>Control</td>\n",
       "      <td>0.002049</td>\n",
       "      <td>0.006278</td>\n",
       "      <td>...</td>\n",
       "      <td>0.062408</td>\n",
       "      <td>0.093566</td>\n",
       "      <td>0.043322</td>\n",
       "      <td>0.004343</td>\n",
       "      <td>0.058716</td>\n",
       "      <td>0.011807</td>\n",
       "      <td>0.011317</td>\n",
       "      <td>0.041130</td>\n",
       "      <td>0.009590</td>\n",
       "      <td>0.000790</td>\n",
       "    </tr>\n",
       "    <tr>\n",
       "      <th>4</th>\n",
       "      <td>2004</td>\n",
       "      <td>Clinic</td>\n",
       "      <td>Male</td>\n",
       "      <td>White</td>\n",
       "      <td>25.9</td>\n",
       "      <td>Never</td>\n",
       "      <td>50.0</td>\n",
       "      <td>Control</td>\n",
       "      <td>0.002366</td>\n",
       "      <td>0.002792</td>\n",
       "      <td>...</td>\n",
       "      <td>0.034587</td>\n",
       "      <td>0.023566</td>\n",
       "      <td>0.014410</td>\n",
       "      <td>0.009594</td>\n",
       "      <td>0.038179</td>\n",
       "      <td>0.012261</td>\n",
       "      <td>0.012159</td>\n",
       "      <td>0.018619</td>\n",
       "      <td>0.014715</td>\n",
       "      <td>0.000536</td>\n",
       "    </tr>\n",
       "  </tbody>\n",
       "</table>\n",
       "<p>5 rows × 56 columns</p>\n",
       "</div>"
      ],
      "text/plain": [
       "  Patient ID Collection  Gender   Race   BMI  Smoker   Age   Groups      unk1  \\\n",
       "0       2000     Clinic    Male  White  31.1   Never  49.0  Control  0.001130   \n",
       "1       2001     Clinic    Male  White  28.6   Never  52.0  Control  0.001702   \n",
       "2       2002     Clinic  Female  White  28.6  Former  70.0  Control  0.010526   \n",
       "3       2003     Clinic    Male  White  25.7  Former  54.0  Control  0.002049   \n",
       "4       2004     Clinic    Male  White  25.9   Never  50.0  Control  0.002366   \n",
       "\n",
       "       unk2    ...     hypoxanthine_1  hypoxanthine_2   formate     unk10  \\\n",
       "0  0.013822    ...           0.027809        0.020323  0.014668  0.001156   \n",
       "1  0.010074    ...           0.007833        0.015063  0.027530  0.000968   \n",
       "2  0.007970    ...           0.016558        0.014049  0.019166  0.075191   \n",
       "3  0.006278    ...           0.062408        0.093566  0.043322  0.004343   \n",
       "4  0.002792    ...           0.034587        0.023566  0.014410  0.009594   \n",
       "\n",
       "   Trigonelline_1  Trigonellinamide_1  Trigonellinamide_2  Trigonelline_2  \\\n",
       "0        0.007529            0.012083            0.012599        0.005315   \n",
       "1        0.058346            0.014948            0.014293        0.036851   \n",
       "2        0.135280            0.008480            0.008608        0.085135   \n",
       "3        0.058716            0.011807            0.011317        0.041130   \n",
       "4        0.038179            0.012261            0.012159        0.018619   \n",
       "\n",
       "   Trigonellinamide_3     unk11  \n",
       "0            0.011555  0.000419  \n",
       "1            0.015069  0.000830  \n",
       "2            0.007875  0.001235  \n",
       "3            0.009590  0.000790  \n",
       "4            0.014715  0.000536  \n",
       "\n",
       "[5 rows x 56 columns]"
      ]
     },
     "execution_count": 183,
     "metadata": {},
     "output_type": "execute_result"
    }
   ],
   "source": [
    "dfNMR = pd.read_excel('data/binned_NMRfeatures_22JAN2020.xlsx') # Import data\n",
    "dfNMR.drop(['Run_ID', 'Sample_description','Yvec', 'Run_IDOrig'], axis=1, inplace=True) # drop irrelevant features\n",
    "dfNMR.head()"
   ]
  },
  {
   "cell_type": "code",
   "execution_count": 184,
   "metadata": {},
   "outputs": [
    {
     "data": {
      "text/html": [
       "<div>\n",
       "<style scoped>\n",
       "    .dataframe tbody tr th:only-of-type {\n",
       "        vertical-align: middle;\n",
       "    }\n",
       "\n",
       "    .dataframe tbody tr th {\n",
       "        vertical-align: top;\n",
       "    }\n",
       "\n",
       "    .dataframe thead th {\n",
       "        text-align: right;\n",
       "    }\n",
       "</style>\n",
       "<table border=\"1\" class=\"dataframe\">\n",
       "  <thead>\n",
       "    <tr style=\"text-align: right;\">\n",
       "      <th></th>\n",
       "      <th>Sample ID</th>\n",
       "      <th>1</th>\n",
       "      <th>2</th>\n",
       "      <th>3</th>\n",
       "      <th>4</th>\n",
       "      <th>5</th>\n",
       "      <th>6</th>\n",
       "      <th>7</th>\n",
       "      <th>8</th>\n",
       "      <th>9</th>\n",
       "      <th>...</th>\n",
       "      <th>hypoxanthine_1</th>\n",
       "      <th>hypoxanthine_2</th>\n",
       "      <th>formate</th>\n",
       "      <th>unk10</th>\n",
       "      <th>Trigonelline_1</th>\n",
       "      <th>Trigonellinamide_1</th>\n",
       "      <th>Trigonellinamide_2</th>\n",
       "      <th>Trigonelline_2</th>\n",
       "      <th>Trigonellinamide_3</th>\n",
       "      <th>unk11</th>\n",
       "    </tr>\n",
       "  </thead>\n",
       "  <tbody>\n",
       "    <tr>\n",
       "      <th>0</th>\n",
       "      <td>C001</td>\n",
       "      <td>7.24885e+08</td>\n",
       "      <td>1.10388e+09</td>\n",
       "      <td>5.06818e+06</td>\n",
       "      <td>4682.6</td>\n",
       "      <td>18261.9</td>\n",
       "      <td>1322.95</td>\n",
       "      <td>61663</td>\n",
       "      <td>191620</td>\n",
       "      <td>5.61943e+07</td>\n",
       "      <td>...</td>\n",
       "      <td>0.019153</td>\n",
       "      <td>0.014217</td>\n",
       "      <td>0.035454</td>\n",
       "      <td>0.001337</td>\n",
       "      <td>0.017210</td>\n",
       "      <td>0.006084</td>\n",
       "      <td>0.005395</td>\n",
       "      <td>0.008883</td>\n",
       "      <td>0.003132</td>\n",
       "      <td>0.001725</td>\n",
       "    </tr>\n",
       "    <tr>\n",
       "      <th>1</th>\n",
       "      <td>C002</td>\n",
       "      <td>8.39383e+08</td>\n",
       "      <td>1.87456e+09</td>\n",
       "      <td>1.87657e+09</td>\n",
       "      <td>1.69931e+08</td>\n",
       "      <td>18267.8</td>\n",
       "      <td>1674.72</td>\n",
       "      <td>227698</td>\n",
       "      <td>532662</td>\n",
       "      <td>2.03319e+08</td>\n",
       "      <td>...</td>\n",
       "      <td>0.013937</td>\n",
       "      <td>0.023921</td>\n",
       "      <td>0.022766</td>\n",
       "      <td>0.002879</td>\n",
       "      <td>0.034096</td>\n",
       "      <td>0.011080</td>\n",
       "      <td>0.013063</td>\n",
       "      <td>0.022937</td>\n",
       "      <td>0.010969</td>\n",
       "      <td>0.000611</td>\n",
       "    </tr>\n",
       "    <tr>\n",
       "      <th>2</th>\n",
       "      <td>C003</td>\n",
       "      <td>7.65629e+08</td>\n",
       "      <td>1.67333e+09</td>\n",
       "      <td>7.47349e+06</td>\n",
       "      <td>8567.13</td>\n",
       "      <td>25730.9</td>\n",
       "      <td>3246.46</td>\n",
       "      <td>133905</td>\n",
       "      <td>495502</td>\n",
       "      <td>1.92514e+08</td>\n",
       "      <td>...</td>\n",
       "      <td>0.008652</td>\n",
       "      <td>0.007889</td>\n",
       "      <td>0.021506</td>\n",
       "      <td>0.018444</td>\n",
       "      <td>0.193980</td>\n",
       "      <td>0.007303</td>\n",
       "      <td>0.007281</td>\n",
       "      <td>0.101210</td>\n",
       "      <td>0.007860</td>\n",
       "      <td>0.001027</td>\n",
       "    </tr>\n",
       "    <tr>\n",
       "      <th>3</th>\n",
       "      <td>C004</td>\n",
       "      <td>1.25663e+08</td>\n",
       "      <td>1.1825e+09</td>\n",
       "      <td>1.17911e+09</td>\n",
       "      <td>6.72327e+06</td>\n",
       "      <td>10526.3</td>\n",
       "      <td>1076.99</td>\n",
       "      <td>129811</td>\n",
       "      <td>392377</td>\n",
       "      <td>1.16585e+08</td>\n",
       "      <td>...</td>\n",
       "      <td>0.011827</td>\n",
       "      <td>0.019886</td>\n",
       "      <td>0.031489</td>\n",
       "      <td>0.008745</td>\n",
       "      <td>0.087607</td>\n",
       "      <td>0.006037</td>\n",
       "      <td>0.006090</td>\n",
       "      <td>0.049477</td>\n",
       "      <td>0.005081</td>\n",
       "      <td>0.000741</td>\n",
       "    </tr>\n",
       "    <tr>\n",
       "      <th>4</th>\n",
       "      <td>C005</td>\n",
       "      <td>1.06973e+07</td>\n",
       "      <td>8.79722e+08</td>\n",
       "      <td>8.56535e+08</td>\n",
       "      <td>438385</td>\n",
       "      <td>15913.8</td>\n",
       "      <td>1008.31</td>\n",
       "      <td>48496</td>\n",
       "      <td>122696</td>\n",
       "      <td>1.10997e+07</td>\n",
       "      <td>...</td>\n",
       "      <td>0.018709</td>\n",
       "      <td>0.021821</td>\n",
       "      <td>0.035003</td>\n",
       "      <td>0.001863</td>\n",
       "      <td>0.006908</td>\n",
       "      <td>0.010074</td>\n",
       "      <td>0.009497</td>\n",
       "      <td>0.007540</td>\n",
       "      <td>0.007582</td>\n",
       "      <td>0.000976</td>\n",
       "    </tr>\n",
       "  </tbody>\n",
       "</table>\n",
       "<p>5 rows × 7154 columns</p>\n",
       "</div>"
      ],
      "text/plain": [
       "  Sample ID            1            2            3            4        5  \\\n",
       "0      C001  7.24885e+08  1.10388e+09  5.06818e+06       4682.6  18261.9   \n",
       "1      C002  8.39383e+08  1.87456e+09  1.87657e+09  1.69931e+08  18267.8   \n",
       "2      C003  7.65629e+08  1.67333e+09  7.47349e+06      8567.13  25730.9   \n",
       "3      C004  1.25663e+08   1.1825e+09  1.17911e+09  6.72327e+06  10526.3   \n",
       "4      C005  1.06973e+07  8.79722e+08  8.56535e+08       438385  15913.8   \n",
       "\n",
       "         6       7       8            9    ...    hypoxanthine_1  \\\n",
       "0  1322.95   61663  191620  5.61943e+07    ...          0.019153   \n",
       "1  1674.72  227698  532662  2.03319e+08    ...          0.013937   \n",
       "2  3246.46  133905  495502  1.92514e+08    ...          0.008652   \n",
       "3  1076.99  129811  392377  1.16585e+08    ...          0.011827   \n",
       "4  1008.31   48496  122696  1.10997e+07    ...          0.018709   \n",
       "\n",
       "  hypoxanthine_2   formate     unk10 Trigonelline_1 Trigonellinamide_1  \\\n",
       "0       0.014217  0.035454  0.001337       0.017210           0.006084   \n",
       "1       0.023921  0.022766  0.002879       0.034096           0.011080   \n",
       "2       0.007889  0.021506  0.018444       0.193980           0.007303   \n",
       "3       0.019886  0.031489  0.008745       0.087607           0.006037   \n",
       "4       0.021821  0.035003  0.001863       0.006908           0.010074   \n",
       "\n",
       "  Trigonellinamide_2 Trigonelline_2 Trigonellinamide_3     unk11  \n",
       "0           0.005395       0.008883           0.003132  0.001725  \n",
       "1           0.013063       0.022937           0.010969  0.000611  \n",
       "2           0.007281       0.101210           0.007860  0.001027  \n",
       "3           0.006090       0.049477           0.005081  0.000741  \n",
       "4           0.009497       0.007540           0.007582  0.000976  \n",
       "\n",
       "[5 rows x 7154 columns]"
      ]
     },
     "execution_count": 184,
     "metadata": {},
     "output_type": "execute_result"
    }
   ],
   "source": [
    "combined = pd.merge(MSData, dfNMR, on='Patient ID') # Merge the two dataframe on Sample ID\n",
    "combined.head()"
   ]
  },
  {
   "cell_type": "markdown",
   "metadata": {},
   "source": [
    "Non-metabolic features in the `combined` dataframe include the following: \n",
    "-  Sample ID\n",
    "-  Patient ID\n",
    "-  Collection\n",
    "-  Gender\n",
    "-  Race\n",
    "-  BMI\n",
    "-  Smoker\n",
    "-  Age\n",
    "-  Groups"
   ]
  },
  {
   "cell_type": "markdown",
   "metadata": {},
   "source": [
    "combinedrevised = combined.loc[:,~combined.columns.duplicated()] <br>\n",
    "_Removes all feature duplicates_ <br>\n",
    "_Export `combinedrevised` dataframe_ <br>\n",
    "combinedrevised.to_excel('combinedNMRMS_DuplicatesRemoved.xlsx')"
   ]
  },
  {
   "cell_type": "markdown",
   "metadata": {},
   "source": [
    "The shape of the MS, NMR, and the combined dataframe"
   ]
  },
  {
   "cell_type": "code",
   "execution_count": 185,
   "metadata": {},
   "outputs": [
    {
     "name": "stdout",
     "output_type": "stream",
     "text": [
      "(284, 56)\n",
      "(280, 7099)\n",
      "(256, 7154)\n"
     ]
    }
   ],
   "source": [
    "print(dfNMR.shape)\n",
    "print (MSData.shape)\n",
    "print (combined.shape)"
   ]
  },
  {
   "cell_type": "markdown",
   "metadata": {},
   "source": [
    "The group numbers in MS, NMR, and the combined dataframe"
   ]
  },
  {
   "cell_type": "code",
   "execution_count": 186,
   "metadata": {},
   "outputs": [
    {
     "name": "stdout",
     "output_type": "stream",
     "text": [
      "Control    179\n",
      "RCC        105\n",
      "Name: Groups, dtype: int64\n",
      "Control    174\n",
      "RCC         82\n",
      "Name: Groups, dtype: int64\n"
     ]
    }
   ],
   "source": [
    "print(dfNMR.Groups.value_counts())\n",
    "#print(dfMS.Groups.value_counts())\n",
    "print(combined.Groups.value_counts())"
   ]
  },
  {
   "cell_type": "code",
   "execution_count": 187,
   "metadata": {},
   "outputs": [
    {
     "data": {
      "text/plain": [
       "Clinic    205\n",
       "OR         51\n",
       "Name: Collection, dtype: int64"
      ]
     },
     "execution_count": 187,
     "metadata": {},
     "output_type": "execute_result"
    }
   ],
   "source": [
    "combined['Collection'].value_counts()"
   ]
  },
  {
   "cell_type": "markdown",
   "metadata": {},
   "source": [
    "`combined_clinic` is the dataframe that contains all combined NMR and MS samples collected in the clinic. "
   ]
  },
  {
   "cell_type": "code",
   "execution_count": 188,
   "metadata": {},
   "outputs": [
    {
     "name": "stdout",
     "output_type": "stream",
     "text": [
      "Control    174\n",
      "RCC         31\n",
      "Name: Groups, dtype: int64\n"
     ]
    }
   ],
   "source": [
    "# Remove all operating samples because of the potential bais\n",
    "combined_clinic = combined[combined['Collection'] != 'OR']\n",
    "print(combined_clinic.Groups.value_counts())"
   ]
  },
  {
   "cell_type": "markdown",
   "metadata": {},
   "source": [
    "### [Go back to notebook content](#0)"
   ]
  },
  {
   "cell_type": "markdown",
   "metadata": {},
   "source": [
    "# 2. Cohort Characteristics: Pre-Matched Groups\n",
    "<a id=\"2\"></a>"
   ]
  },
  {
   "cell_type": "markdown",
   "metadata": {},
   "source": [
    "_Pie Chart Function_"
   ]
  },
  {
   "cell_type": "code",
   "execution_count": 189,
   "metadata": {},
   "outputs": [],
   "source": [
    "def pieChart(dataframe, tilt_num, explode=False, shadow=False): \n",
    "    '''\n",
    "    DEPENDENCY: matplotlib.pyplot.pie\n",
    "    \n",
    "    INPUTS: \n",
    "    dataframe = A pandas dataframe with category in the first column and associated data in the second column\n",
    "    tilt_num = A number that specifies the amount of offset to apply to the wedge corresponding to the dataset \n",
    "    on the last row. The purpose of this is to make pie-chart annotation visible in the case of an overlapping \n",
    "    annotation. For best results, choose number between 0 and 1.  \n",
    "    \n",
    "    explode = Boolean. Set to True to make the tilt_num parameters applicable. \n",
    "    \n",
    "    shadow = Boolean. Set to True for wedge shadows\n",
    "    \n",
    "    OUTPUTS: A pie chart figure. \n",
    "    \n",
    "    '''\n",
    "    if explode==False: \n",
    "        plt.pie(\n",
    "        # using data\n",
    "        dataframe.iloc[:, 1],\n",
    "        # labels\n",
    "        labels=dataframe.iloc[:, 0],\n",
    "        # with no shadows\n",
    "        shadow=shadow,\n",
    "        # with the start angle at 90%\n",
    "        startangle=90,\n",
    "        # with the percent listed as a fraction\n",
    "        autopct='%1.1f%%')\n",
    "    \n",
    "        # View the plot drop above\n",
    "        plt.axis('equal')\n",
    "        # View the plot\n",
    "        plt.tight_layout()\n",
    "        fig = plt.plot()\n",
    "        return fig\n",
    "    else:\n",
    "        lst = [0] * dataframe.shape[0] # create a list of length equal to number of pie, sets to zero\n",
    "        lst[-1] = tilt_num # replace the last digit of lst with the tilt_num\n",
    "        plt.pie(dataframe.iloc[:, 1], labels=dataframe.iloc[:, 0],\n",
    "        shadow=shadow, explode=lst, startangle=90, autopct='%1.1f%%')\n",
    "    \n",
    "        # View the plot drop above\n",
    "        plt.axis('equal')\n",
    "        # View the plot\n",
    "        plt.tight_layout()\n",
    "        fig = plt.plot()\n",
    "    return fig"
   ]
  },
  {
   "cell_type": "markdown",
   "metadata": {},
   "source": [
    "### a. Categorical Meta-Data"
   ]
  },
  {
   "cell_type": "code",
   "execution_count": 190,
   "metadata": {},
   "outputs": [
    {
     "data": {
      "text/plain": [
       "White          183\n",
       "Black/AA        14\n",
       "Unk/Missing      6\n",
       "Mixed            1\n",
       "Asian            1\n",
       "Name: Race, dtype: int64"
      ]
     },
     "execution_count": 190,
     "metadata": {},
     "output_type": "execute_result"
    }
   ],
   "source": [
    "combined_clinic = combined[combined['Collection'] != 'OR']\n",
    "combined_clinic.Race.value_counts()"
   ]
  },
  {
   "cell_type": "code",
   "execution_count": 191,
   "metadata": {},
   "outputs": [
    {
     "data": {
      "text/plain": [
       "White                             218\n",
       "Black/AA                           25\n",
       "Unk/Missing                         8\n",
       "Asian                               2\n",
       "Mixed                               1\n",
       "American-Indian/Alaskan-Native      1\n",
       "Name: Race, dtype: int64"
      ]
     },
     "execution_count": 191,
     "metadata": {},
     "output_type": "execute_result"
    }
   ],
   "source": [
    "combined_clinic['Race'] = combined_clinic['Race'].map({'White': 'White',\n",
    "                                         'Black/AA': 'Black/AA', \n",
    "                                         'Unk/Missing': 'Others',\n",
    "                                         'Mixed': 'Others', \n",
    "                                         'Asian': 'Others'})\n",
    "combined.Race.value_counts()"
   ]
  },
  {
   "cell_type": "code",
   "execution_count": 192,
   "metadata": {},
   "outputs": [],
   "source": [
    "dControl = combined_clinic[(combined_clinic['Groups'] == 'Control')]\n",
    "dRCC = combined_clinic[(combined_clinic['Groups'] == 'RCC')]"
   ]
  },
  {
   "cell_type": "markdown",
   "metadata": {},
   "source": [
    "___Race___"
   ]
  },
  {
   "cell_type": "code",
   "execution_count": 193,
   "metadata": {},
   "outputs": [
    {
     "name": "stdout",
     "output_type": "stream",
     "text": [
      "White       162\n",
      "Others        7\n",
      "Black/AA      5\n",
      "Name: Race, dtype: int64\n",
      "White       93.103448\n",
      "Others       4.022989\n",
      "Black/AA     2.873563\n",
      "Name: Race, dtype: float64\n",
      "White       21\n",
      "Black/AA     9\n",
      "Others       1\n",
      "Name: Race, dtype: int64\n",
      "White       67.741935\n",
      "Black/AA    29.032258\n",
      "Others       3.225806\n",
      "Name: Race, dtype: float64\n"
     ]
    }
   ],
   "source": [
    "print(dControl['Race'].value_counts())\n",
    "print(dControl['Race'].value_counts(normalize=True)*100)\n",
    "print(dRCC['Race'].value_counts())\n",
    "print(dRCC['Race'].value_counts(normalize=True)*100)"
   ]
  },
  {
   "cell_type": "markdown",
   "metadata": {},
   "source": [
    "_Healthy Control Race Prematched_"
   ]
  },
  {
   "cell_type": "code",
   "execution_count": 194,
   "metadata": {},
   "outputs": [
    {
     "data": {
      "image/png": "[encoded data removed]",
      "text/plain": [
       "<Figure size 432x288 with 1 Axes>"
      ]
     },
     "metadata": {
      "image/png": {
       "height": 263,
       "width": 407
      }
     },
     "output_type": "display_data"
    }
   ],
   "source": [
    "# Set seaborn figure labels to 'talk', to be more visible. \n",
    "sns.set_context('talk', font_scale=1.0)\n",
    "raw_data = {'Race': ['White', 'Black/AA', 'Others'], \n",
    "            'Numbers': [162, 5, 7]}\n",
    "pie = pd.DataFrame(raw_data)\n",
    "pieChart(pie, 0.5, explode=True, shadow = False);\n",
    "#plt.title('Pre-matched cohort race')\n",
    "#plt.savefig('prematch_N_Race.svg')   # save the figure to file"
   ]
  },
  {
   "cell_type": "markdown",
   "metadata": {},
   "source": [
    "___Smoking History___"
   ]
  },
  {
   "cell_type": "code",
   "execution_count": 195,
   "metadata": {},
   "outputs": [
    {
     "data": {
      "text/plain": [
       "Never      150\n",
       "Former      46\n",
       "Current      9\n",
       "Name: Smoker, dtype: int64"
      ]
     },
     "execution_count": 195,
     "metadata": {},
     "output_type": "execute_result"
    }
   ],
   "source": [
    "combined_clinic.Smoker.value_counts()"
   ]
  },
  {
   "cell_type": "code",
   "execution_count": 196,
   "metadata": {},
   "outputs": [],
   "source": [
    "combined_clinic['Smoker'] = combined_clinic['Smoker'].map({'Never': 'Never',\n",
    "                                         'Former': 'Former/Current', \n",
    "                                         'Current': 'Former/Current'})"
   ]
  },
  {
   "cell_type": "code",
   "execution_count": 197,
   "metadata": {},
   "outputs": [
    {
     "data": {
      "text/plain": [
       "Never             150\n",
       "Former/Current     55\n",
       "Name: Smoker, dtype: int64"
      ]
     },
     "execution_count": 197,
     "metadata": {},
     "output_type": "execute_result"
    }
   ],
   "source": [
    "combined_clinic.Smoker.value_counts()"
   ]
  },
  {
   "cell_type": "code",
   "execution_count": 198,
   "metadata": {},
   "outputs": [
    {
     "name": "stdout",
     "output_type": "stream",
     "text": [
      "Never             131\n",
      "Former/Current     43\n",
      "Name: Smoker, dtype: int64\n",
      "Never             75.287356\n",
      "Former/Current    24.712644\n",
      "Name: Smoker, dtype: float64\n",
      "Never             19\n",
      "Former/Current    12\n",
      "Name: Smoker, dtype: int64\n",
      "Never             61.290323\n",
      "Former/Current    38.709677\n",
      "Name: Smoker, dtype: float64\n"
     ]
    }
   ],
   "source": [
    "dControl = combined_clinic[(combined_clinic['Groups'] == 'Control')]\n",
    "dRCC = combined_clinic[(combined_clinic['Groups'] == 'RCC')]\n",
    "print(dControl['Smoker'].value_counts())\n",
    "print(dControl['Smoker'].value_counts(normalize=True)*100)\n",
    "print(dRCC['Smoker'].value_counts())\n",
    "print(dRCC['Smoker'].value_counts(normalize=True)*100)"
   ]
  },
  {
   "cell_type": "code",
   "execution_count": 199,
   "metadata": {},
   "outputs": [
    {
     "data": {
      "text/plain": [
       "[]"
      ]
     },
     "execution_count": 199,
     "metadata": {},
     "output_type": "execute_result"
    },
    {
     "data": {
      "image/png": "[encoded data removed]",
      "text/plain": [
       "<Figure size 432x288 with 1 Axes>"
      ]
     },
     "metadata": {
      "image/png": {
       "height": 263,
       "width": 399
      }
     },
     "output_type": "display_data"
    }
   ],
   "source": [
    "# Set seaborn figure labels to 'talk', to be more visible. \n",
    "sns.set_context('talk', font_scale=1.0)\n",
    "raw_data = {'Smoker': ['Never', 'Former/Current'], \n",
    "            'Numbers': [131, 43]}\n",
    "pie = pd.DataFrame(raw_data)\n",
    "pieChart(pie, 0.5, explode=False, shadow = False)\n",
    "#plt.savefig('prematch_N_Smoke.svg') "
   ]
  },
  {
   "cell_type": "markdown",
   "metadata": {},
   "source": [
    "___Gender___"
   ]
  },
  {
   "cell_type": "code",
   "execution_count": 200,
   "metadata": {},
   "outputs": [
    {
     "name": "stdout",
     "output_type": "stream",
     "text": [
      "Male      145\n",
      "Female     29\n",
      "Name: Gender, dtype: int64\n",
      "Male      83.333333\n",
      "Female    16.666667\n",
      "Name: Gender, dtype: float64\n",
      "Female    17\n",
      "Male      14\n",
      "Name: Gender, dtype: int64\n",
      "Female    54.83871\n",
      "Male      45.16129\n",
      "Name: Gender, dtype: float64\n"
     ]
    }
   ],
   "source": [
    "print(dControl['Gender'].value_counts())\n",
    "print(dControl['Gender'].value_counts(normalize=True)*100)\n",
    "print(dRCC['Gender'].value_counts())\n",
    "print(dRCC['Gender'].value_counts(normalize=True)*100)"
   ]
  },
  {
   "cell_type": "code",
   "execution_count": 201,
   "metadata": {},
   "outputs": [
    {
     "data": {
      "text/plain": [
       "[]"
      ]
     },
     "execution_count": 201,
     "metadata": {},
     "output_type": "execute_result"
    },
    {
     "data": {
      "image/png": "[encoded data removed]",
      "text/plain": [
       "<Figure size 432x288 with 1 Axes>"
      ]
     },
     "metadata": {
      "image/png": {
       "height": 244,
       "width": 388
      }
     },
     "output_type": "display_data"
    }
   ],
   "source": [
    "# Set seaborn figure labels to 'talk', to be more visible. \n",
    "sns.set_context('talk', font_scale=1.5)\n",
    "raw_data = {'Gender': ['Male', 'Female'], \n",
    "            'Numbers': [145, 29]}\n",
    "pie = pd.DataFrame(raw_data)\n",
    "pieChart(pie, 0.5, explode=False, shadow = False)\n",
    "#plt.savefig('prematch_N_Gender.svg') "
   ]
  },
  {
   "cell_type": "markdown",
   "metadata": {},
   "source": [
    "### b. Quantitative Meta-Data"
   ]
  },
  {
   "cell_type": "code",
   "execution_count": 202,
   "metadata": {},
   "outputs": [],
   "source": [
    "def cohortQuant(cohortID, dfControl, dfTreat, alpha=0.05, var=True):\n",
    "    '''\n",
    "    Function conducts a T-test for the numerical cohort characteristics between two groups\n",
    "    \n",
    "    Inputs: \n",
    "    cohortID = A list of the numerical cohort characteristics\n",
    "    dfControl = A pandas dataframe containing the control group cohort data\n",
    "    dfTreat =  A pandas dataframe containing the treatment group cohort data\n",
    "    alpha = alpha for statistical significant judgment, Default 0.05\n",
    "    var = If True (default), perform a standard independent 2 sample test that assumes \n",
    "    equal population variances [1]. If False, perform Welch’s t-test, which does not \n",
    "    assume equal population variance\n",
    "    \n",
    "    Outputs: A pandas dataframe with p-values of numerical cohort characteristics. \n",
    "    \n",
    "    '''\n",
    "    pvaluelist = []\n",
    "    commentlist = []\n",
    "    for conf in cohortID:\n",
    "        statistic, pvalue = scipy.stats.ttest_ind(dfControl[conf], dfTreat[conf], \n",
    "                                              equal_var=var)\n",
    "        pvaluelist.append(pvalue)\n",
    "        if pvalue > alpha:\n",
    "            comment = 'not significant'\n",
    "        else:\n",
    "            comment = 'significant'\n",
    "        commentlist.append(comment)\n",
    "    ConfTable = pd.DataFrame({'Confounder': cohortID, \n",
    "                              'T-test p-value': pvaluelist, \n",
    "                              'Comment': commentlist})\n",
    "    return ConfTable"
   ]
  },
  {
   "cell_type": "markdown",
   "metadata": {},
   "source": [
    "Welch t-test was carried out."
   ]
  },
  {
   "cell_type": "code",
   "execution_count": 203,
   "metadata": {},
   "outputs": [
    {
     "data": {
      "text/html": [
       "<div>\n",
       "<style scoped>\n",
       "    .dataframe tbody tr th:only-of-type {\n",
       "        vertical-align: middle;\n",
       "    }\n",
       "\n",
       "    .dataframe tbody tr th {\n",
       "        vertical-align: top;\n",
       "    }\n",
       "\n",
       "    .dataframe thead th {\n",
       "        text-align: right;\n",
       "    }\n",
       "</style>\n",
       "<table border=\"1\" class=\"dataframe\">\n",
       "  <thead>\n",
       "    <tr style=\"text-align: right;\">\n",
       "      <th></th>\n",
       "      <th>Confounder</th>\n",
       "      <th>T-test p-value</th>\n",
       "      <th>Comment</th>\n",
       "    </tr>\n",
       "  </thead>\n",
       "  <tbody>\n",
       "    <tr>\n",
       "      <th>0</th>\n",
       "      <td>Age</td>\n",
       "      <td>0.034697</td>\n",
       "      <td>significant</td>\n",
       "    </tr>\n",
       "    <tr>\n",
       "      <th>1</th>\n",
       "      <td>BMI</td>\n",
       "      <td>0.112672</td>\n",
       "      <td>not significant</td>\n",
       "    </tr>\n",
       "  </tbody>\n",
       "</table>\n",
       "</div>"
      ],
      "text/plain": [
       "  Confounder  T-test p-value          Comment\n",
       "0        Age        0.034697      significant\n",
       "1        BMI        0.112672  not significant"
      ]
     },
     "execution_count": 203,
     "metadata": {},
     "output_type": "execute_result"
    }
   ],
   "source": [
    "confounderID = ['Age', 'BMI']\n",
    "dControl = combined_clinic[(combined_clinic['Groups'] == 'Control')]\n",
    "dRCC = combined_clinic[(combined_clinic['Groups'] == 'RCC')]\n",
    "cohortQuant(confounderID, dControl, dRCC, var=False)"
   ]
  },
  {
   "cell_type": "code",
   "execution_count": 204,
   "metadata": {},
   "outputs": [],
   "source": [
    "BMI_Age = combined_clinic.filter(['BMI', 'Age', 'Groups']);"
   ]
  },
  {
   "cell_type": "code",
   "execution_count": 205,
   "metadata": {},
   "outputs": [
    {
     "data": {
      "image/png": "[encoded data removed]",
      "text/plain": [
       "<Figure size 720x288 with 2 Axes>"
      ]
     },
     "metadata": {
      "image/png": {
       "height": 321,
       "width": 641
      }
     },
     "output_type": "display_data"
    }
   ],
   "source": [
    "# Set seaborn figure labels to 'talk', to be more visible. \n",
    "sns.set_context('talk', font_scale=1.5)\n",
    "_, axes = plt.subplots(1, 2, sharey=False, figsize=(10, 4))\n",
    "\n",
    "Age = sns.boxplot(x='Groups', y='Age', data=BMI_Age, ax=axes[0]);\n",
    "sns.swarmplot(x='Groups', y='Age', data=BMI_Age, s =7, alpha=0.7, color=\".25\", ax=axes[0])\n",
    "BMI = sns.boxplot(x='Groups', y='BMI', data=BMI_Age, ax=axes[1]);\n",
    "sns.swarmplot(x='Groups', y='BMI', data=BMI_Age, s =7, alpha=0.7, color=\".25\", ax=axes[1])\n",
    "Age.set_title('p=0.03',loc='center');\n",
    "BMI.set_title('p=0.11',loc='center');\n",
    "#plt.savefig('prematch_Age_BMI.svg') "
   ]
  },
  {
   "cell_type": "code",
   "execution_count": 206,
   "metadata": {},
   "outputs": [
    {
     "name": "stdout",
     "output_type": "stream",
     "text": [
      "Healthy Control mean age is 54.44827586206897\n",
      "Healthy Control standard deviation age is 10.32563297973208\n",
      "RCC mean age is 59.50322580645161\n",
      "RCC standard deviation age is 12.089623205348948\n"
     ]
    }
   ],
   "source": [
    "print('Healthy Control mean age is', dControl['Age'].mean())\n",
    "print('Healthy Control standard deviation age is', dControl['Age'].std())\n",
    "print('RCC mean age is', dRCC['Age'].mean())\n",
    "print('RCC standard deviation age is', dRCC['Age'].std())"
   ]
  },
  {
   "cell_type": "code",
   "execution_count": 207,
   "metadata": {},
   "outputs": [
    {
     "name": "stdout",
     "output_type": "stream",
     "text": [
      "Healthy Control mean age is 27.324137931034475\n",
      "Healthy Control standard deviation age is 4.521163222291269\n",
      "RCC mean age is 29.106451612903225\n",
      "RCC standard deviation age is 5.800341109732022\n"
     ]
    }
   ],
   "source": [
    "print('Healthy Control mean age is', dControl['BMI'].mean())\n",
    "print('Healthy Control standard deviation age is', dControl['BMI'].std())\n",
    "print('RCC mean age is', dRCC['BMI'].mean())\n",
    "print('RCC standard deviation age is', dRCC['BMI'].std())"
   ]
  },
  {
   "cell_type": "markdown",
   "metadata": {},
   "source": [
    "## Export datasets"
   ]
  },
  {
   "cell_type": "code",
   "execution_count": 209,
   "metadata": {},
   "outputs": [],
   "source": [
    "# Export combined clinic\n",
    "#combined_clinic.to_excel('combined_clinic.xlsx')"
   ]
  },
  {
   "cell_type": "code",
   "execution_count": 210,
   "metadata": {},
   "outputs": [],
   "source": [
    "# Export combined\n",
    "#combined.to_excel('combined.xlsx')"
   ]
  },
  {
   "cell_type": "code",
   "execution_count": null,
   "metadata": {},
   "outputs": [],
   "source": [
    "# Export the MS_Label\n",
    "#MS_labels.to_excel('MS_labels.xlsx')"
   ]
  },
  {
   "cell_type": "code",
   "execution_count": null,
   "metadata": {},
   "outputs": [],
   "source": []
  }
 ],
 "metadata": {
  "kernelspec": {
   "display_name": "Python 3",
   "language": "python",
   "name": "python3"
  },
  "language_info": {
   "codemirror_mode": {
    "name": "ipython",
    "version": 3
   },
   "file_extension": ".py",
   "mimetype": "text/x-python",
   "name": "python",
   "nbconvert_exporter": "python",
   "pygments_lexer": "ipython3",
   "version": "3.6.8"
  }
 },
 "nbformat": 4,
 "nbformat_minor": 2
}
